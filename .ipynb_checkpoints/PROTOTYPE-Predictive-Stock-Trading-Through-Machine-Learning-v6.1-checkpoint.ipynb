{
 "cells": [
  {
   "cell_type": "markdown",
   "metadata": {},
   "source": [
    "# (PROTOTYPE) Predictive Stock Trading Through Machine Learning  with Sklearn's Linear Regression"
   ]
  },
  {
   "cell_type": "markdown",
   "metadata": {},
   "source": [
    "Time Submitted: () GMT+8, ()"
   ]
  },
  {
   "cell_type": "markdown",
   "metadata": {},
   "source": [
    "## Testing Grounds"
   ]
  },
  {
   "cell_type": "code",
   "execution_count": 1,
   "metadata": {},
   "outputs": [
    {
     "ename": "ModuleNotFoundError",
     "evalue": "No module named 'adjustText'",
     "output_type": "error",
     "traceback": [
      "\u001b[1;31m---------------------------------------------------------------------------\u001b[0m",
      "\u001b[1;31mModuleNotFoundError\u001b[0m                       Traceback (most recent call last)",
      "\u001b[1;32m<ipython-input-1-69df8e946b0a>\u001b[0m in \u001b[0;36m<module>\u001b[1;34m()\u001b[0m\n\u001b[0;32m      5\u001b[0m \u001b[1;32mimport\u001b[0m \u001b[0mseaborn\u001b[0m \u001b[1;32mas\u001b[0m \u001b[0msns\u001b[0m\u001b[1;33m\u001b[0m\u001b[0m\n\u001b[0;32m      6\u001b[0m \u001b[1;32mfrom\u001b[0m \u001b[0mdatetime\u001b[0m \u001b[1;32mimport\u001b[0m \u001b[0mdatetime\u001b[0m\u001b[1;33m,\u001b[0m \u001b[0mtimedelta\u001b[0m\u001b[1;33m\u001b[0m\u001b[0m\n\u001b[1;32m----> 7\u001b[1;33m \u001b[1;32mfrom\u001b[0m \u001b[0madjustText\u001b[0m \u001b[1;32mimport\u001b[0m \u001b[0madjust_text\u001b[0m\u001b[1;33m\u001b[0m\u001b[0m\n\u001b[0m",
      "\u001b[1;31mModuleNotFoundError\u001b[0m: No module named 'adjustText'"
     ]
    }
   ],
   "source": [
    "import numpy as np\n",
    "import pandas as pd\n",
    "import matplotlib.pyplot as plt\n",
    "%matplotlib inline\n",
    "import seaborn as sns\n",
    "from datetime import datetime, timedelta\n",
    "from adjustText import adjust_text"
   ]
  },
  {
   "cell_type": "code",
   "execution_count": 2,
   "metadata": {},
   "outputs": [
    {
     "name": "stdout",
     "output_type": "stream",
     "text": [
      "Collecting adjustText\n"
     ]
    },
    {
     "name": "stderr",
     "output_type": "stream",
     "text": [
      "  Retrying (Retry(total=4, connect=None, read=None, redirect=None, status=None)) after connection broken by 'ReadTimeoutError(\"HTTPSConnectionPool(host='pypi.python.org', port=443): Read timed out. (read timeout=15)\",)': /simple/adjusttext/\n"
     ]
    },
    {
     "name": "stdout",
     "output_type": "stream",
     "text": [
      "  Downloading adjustText-0.6.1.tar.gz\n",
      "Requirement already satisfied: numpy in c:\\users\\llagman\\anaconda3\\lib\\site-packages (from adjustText)\n",
      "Requirement already satisfied: matplotlib in c:\\users\\llagman\\anaconda3\\lib\\site-packages (from adjustText)\n",
      "Requirement already satisfied: six>=1.10 in c:\\users\\llagman\\anaconda3\\lib\\site-packages (from matplotlib->adjustText)\n",
      "Requirement already satisfied: python-dateutil>=2.1 in c:\\users\\llagman\\anaconda3\\lib\\site-packages (from matplotlib->adjustText)\n",
      "Requirement already satisfied: pytz in c:\\users\\llagman\\anaconda3\\lib\\site-packages (from matplotlib->adjustText)\n",
      "Requirement already satisfied: cycler>=0.10 in c:\\users\\llagman\\anaconda3\\lib\\site-packages (from matplotlib->adjustText)\n",
      "Requirement already satisfied: pyparsing!=2.0.4,!=2.1.2,!=2.1.6,>=2.0.1 in c:\\users\\llagman\\anaconda3\\lib\\site-packages (from matplotlib->adjustText)\n",
      "Building wheels for collected packages: adjustText\n",
      "  Running setup.py bdist_wheel for adjustText: started\n",
      "  Running setup.py bdist_wheel for adjustText: finished with status 'done'\n",
      "  Stored in directory: C:\\Users\\LLagman\\AppData\\Local\\pip\\Cache\\wheels\\0a\\70\\31\\c41e8cd4e9983778b0c570def9cfe1b904bb77b24b2144f54e\n",
      "Successfully built adjustText\n",
      "Installing collected packages: adjustText\n",
      "Successfully installed adjustText-0.6.1\n"
     ]
    },
    {
     "data": {
      "text/plain": [
       "0"
      ]
     },
     "execution_count": 2,
     "metadata": {},
     "output_type": "execute_result"
    }
   ],
   "source": [
    "import pip\n",
    "import conda\n",
    "pip.main(['install','adjustText'])"
   ]
  },
  {
   "cell_type": "markdown",
   "metadata": {},
   "source": [
    "## Part 1: Predict JFC stocks from 3/5/18 - 3/16/18 then compare with latest WSJ Data "
   ]
  },
  {
   "cell_type": "markdown",
   "metadata": {},
   "source": [
    "Since Google Finance data is not currently updated, we could get data from Wall Street Journal. Instead of using an API, we have to download csv files from the website.\n",
    "Download csv file of JFC prices from 2013-1-1 to 2018-3-17.\n",
    "\n",
    "Source: http://quotes.wsj.com/PH/XPHS/JFC/historical-prices"
   ]
  },
  {
   "cell_type": "markdown",
   "metadata": {},
   "source": [
    "Import data."
   ]
  },
  {
   "cell_type": "code",
   "execution_count": 1310,
   "metadata": {},
   "outputs": [],
   "source": [
    "stock = pd.read_csv('JFC_WSJ.csv')"
   ]
  },
  {
   "cell_type": "markdown",
   "metadata": {},
   "source": [
    "Inspect dataframe."
   ]
  },
  {
   "cell_type": "code",
   "execution_count": 1311,
   "metadata": {
    "scrolled": false
   },
   "outputs": [
    {
     "data": {
      "text/plain": [
       "Index(['Date', ' Open', ' High', ' Low', ' Close', ' Volume'], dtype='object')"
      ]
     },
     "execution_count": 1311,
     "metadata": {},
     "output_type": "execute_result"
    }
   ],
   "source": [
    "stock.columns"
   ]
  },
  {
   "cell_type": "markdown",
   "metadata": {},
   "source": [
    "Remove spaces from column names by renaming them."
   ]
  },
  {
   "cell_type": "code",
   "execution_count": 1312,
   "metadata": {},
   "outputs": [
    {
     "data": {
      "text/plain": [
       "Index(['Date', 'Open', 'High', 'Low', 'Close', 'Volume'], dtype='object')"
      ]
     },
     "execution_count": 1312,
     "metadata": {},
     "output_type": "execute_result"
    }
   ],
   "source": [
    "stock.rename(columns=lambda x: x.strip(), inplace=True)\n",
    "stock.columns"
   ]
  },
  {
   "cell_type": "code",
   "execution_count": 1313,
   "metadata": {
    "scrolled": false
   },
   "outputs": [
    {
     "name": "stdout",
     "output_type": "stream",
     "text": [
      "<class 'pandas.core.frame.DataFrame'>\n",
      "RangeIndex: 1268 entries, 0 to 1267\n",
      "Data columns (total 6 columns):\n",
      "Date      1268 non-null object\n",
      "Open      1268 non-null float64\n",
      "High      1268 non-null float64\n",
      "Low       1268 non-null float64\n",
      "Close     1268 non-null float64\n",
      "Volume    1268 non-null int64\n",
      "dtypes: float64(4), int64(1), object(1)\n",
      "memory usage: 59.5+ KB\n"
     ]
    }
   ],
   "source": [
    "stock.info()"
   ]
  },
  {
   "cell_type": "code",
   "execution_count": 1314,
   "metadata": {},
   "outputs": [
    {
     "data": {
      "text/html": [
       "<div>\n",
       "<style scoped>\n",
       "    .dataframe tbody tr th:only-of-type {\n",
       "        vertical-align: middle;\n",
       "    }\n",
       "\n",
       "    .dataframe tbody tr th {\n",
       "        vertical-align: top;\n",
       "    }\n",
       "\n",
       "    .dataframe thead th {\n",
       "        text-align: right;\n",
       "    }\n",
       "</style>\n",
       "<table border=\"1\" class=\"dataframe\">\n",
       "  <thead>\n",
       "    <tr style=\"text-align: right;\">\n",
       "      <th></th>\n",
       "      <th>Date</th>\n",
       "      <th>Open</th>\n",
       "      <th>High</th>\n",
       "      <th>Low</th>\n",
       "      <th>Close</th>\n",
       "      <th>Volume</th>\n",
       "    </tr>\n",
       "  </thead>\n",
       "  <tbody>\n",
       "    <tr>\n",
       "      <th>0</th>\n",
       "      <td>03/16/18</td>\n",
       "      <td>286.8</td>\n",
       "      <td>305.4</td>\n",
       "      <td>286.8</td>\n",
       "      <td>305.4</td>\n",
       "      <td>2052470</td>\n",
       "    </tr>\n",
       "    <tr>\n",
       "      <th>1</th>\n",
       "      <td>03/15/18</td>\n",
       "      <td>288.4</td>\n",
       "      <td>288.6</td>\n",
       "      <td>282.6</td>\n",
       "      <td>284.0</td>\n",
       "      <td>1140780</td>\n",
       "    </tr>\n",
       "    <tr>\n",
       "      <th>2</th>\n",
       "      <td>03/14/18</td>\n",
       "      <td>293.0</td>\n",
       "      <td>294.4</td>\n",
       "      <td>287.4</td>\n",
       "      <td>288.4</td>\n",
       "      <td>757340</td>\n",
       "    </tr>\n",
       "    <tr>\n",
       "      <th>3</th>\n",
       "      <td>03/13/18</td>\n",
       "      <td>296.0</td>\n",
       "      <td>297.0</td>\n",
       "      <td>292.4</td>\n",
       "      <td>293.0</td>\n",
       "      <td>557650</td>\n",
       "    </tr>\n",
       "    <tr>\n",
       "      <th>4</th>\n",
       "      <td>03/12/18</td>\n",
       "      <td>296.0</td>\n",
       "      <td>299.0</td>\n",
       "      <td>292.2</td>\n",
       "      <td>295.4</td>\n",
       "      <td>303520</td>\n",
       "    </tr>\n",
       "  </tbody>\n",
       "</table>\n",
       "</div>"
      ],
      "text/plain": [
       "       Date   Open   High    Low  Close   Volume\n",
       "0  03/16/18  286.8  305.4  286.8  305.4  2052470\n",
       "1  03/15/18  288.4  288.6  282.6  284.0  1140780\n",
       "2  03/14/18  293.0  294.4  287.4  288.4   757340\n",
       "3  03/13/18  296.0  297.0  292.4  293.0   557650\n",
       "4  03/12/18  296.0  299.0  292.2  295.4   303520"
      ]
     },
     "execution_count": 1314,
     "metadata": {},
     "output_type": "execute_result"
    }
   ],
   "source": [
    "stock.head()"
   ]
  },
  {
   "cell_type": "code",
   "execution_count": 1315,
   "metadata": {},
   "outputs": [
    {
     "data": {
      "text/html": [
       "<div>\n",
       "<style scoped>\n",
       "    .dataframe tbody tr th:only-of-type {\n",
       "        vertical-align: middle;\n",
       "    }\n",
       "\n",
       "    .dataframe tbody tr th {\n",
       "        vertical-align: top;\n",
       "    }\n",
       "\n",
       "    .dataframe thead th {\n",
       "        text-align: right;\n",
       "    }\n",
       "</style>\n",
       "<table border=\"1\" class=\"dataframe\">\n",
       "  <thead>\n",
       "    <tr style=\"text-align: right;\">\n",
       "      <th></th>\n",
       "      <th>Date</th>\n",
       "      <th>Open</th>\n",
       "      <th>High</th>\n",
       "      <th>Low</th>\n",
       "      <th>Close</th>\n",
       "      <th>Volume</th>\n",
       "    </tr>\n",
       "  </thead>\n",
       "  <tbody>\n",
       "    <tr>\n",
       "      <th>1263</th>\n",
       "      <td>01/08/13</td>\n",
       "      <td>107.1</td>\n",
       "      <td>107.7</td>\n",
       "      <td>107.1</td>\n",
       "      <td>107.3</td>\n",
       "      <td>389530</td>\n",
       "    </tr>\n",
       "    <tr>\n",
       "      <th>1264</th>\n",
       "      <td>01/07/13</td>\n",
       "      <td>107.5</td>\n",
       "      <td>107.5</td>\n",
       "      <td>106.7</td>\n",
       "      <td>107.0</td>\n",
       "      <td>719780</td>\n",
       "    </tr>\n",
       "    <tr>\n",
       "      <th>1265</th>\n",
       "      <td>01/04/13</td>\n",
       "      <td>107.0</td>\n",
       "      <td>107.6</td>\n",
       "      <td>107.0</td>\n",
       "      <td>107.6</td>\n",
       "      <td>548040</td>\n",
       "    </tr>\n",
       "    <tr>\n",
       "      <th>1266</th>\n",
       "      <td>01/03/13</td>\n",
       "      <td>104.8</td>\n",
       "      <td>107.5</td>\n",
       "      <td>104.8</td>\n",
       "      <td>107.2</td>\n",
       "      <td>684290</td>\n",
       "    </tr>\n",
       "    <tr>\n",
       "      <th>1267</th>\n",
       "      <td>01/02/13</td>\n",
       "      <td>102.0</td>\n",
       "      <td>104.5</td>\n",
       "      <td>102.0</td>\n",
       "      <td>104.2</td>\n",
       "      <td>125900</td>\n",
       "    </tr>\n",
       "  </tbody>\n",
       "</table>\n",
       "</div>"
      ],
      "text/plain": [
       "          Date   Open   High    Low  Close  Volume\n",
       "1263  01/08/13  107.1  107.7  107.1  107.3  389530\n",
       "1264  01/07/13  107.5  107.5  106.7  107.0  719780\n",
       "1265  01/04/13  107.0  107.6  107.0  107.6  548040\n",
       "1266  01/03/13  104.8  107.5  104.8  107.2  684290\n",
       "1267  01/02/13  102.0  104.5  102.0  104.2  125900"
      ]
     },
     "execution_count": 1315,
     "metadata": {},
     "output_type": "execute_result"
    }
   ],
   "source": [
    "stock.tail()"
   ]
  },
  {
   "cell_type": "code",
   "execution_count": 1316,
   "metadata": {},
   "outputs": [
    {
     "data": {
      "text/plain": [
       "Date      0\n",
       "Open      0\n",
       "High      0\n",
       "Low       0\n",
       "Close     0\n",
       "Volume    0\n",
       "dtype: int64"
      ]
     },
     "execution_count": 1316,
     "metadata": {},
     "output_type": "execute_result"
    }
   ],
   "source": [
    "stock.isnull().sum()"
   ]
  },
  {
   "cell_type": "markdown",
   "metadata": {},
   "source": [
    "No NaN values!!!\n",
    "However, we have to rearrange the data from descending to ascending order."
   ]
  },
  {
   "cell_type": "code",
   "execution_count": 1317,
   "metadata": {
    "scrolled": true
   },
   "outputs": [],
   "source": [
    "stock = stock.reindex(index=stock.index[::-1]).reset_index(drop=True)"
   ]
  },
  {
   "cell_type": "code",
   "execution_count": 1318,
   "metadata": {
    "scrolled": true
   },
   "outputs": [
    {
     "data": {
      "text/html": [
       "<div>\n",
       "<style scoped>\n",
       "    .dataframe tbody tr th:only-of-type {\n",
       "        vertical-align: middle;\n",
       "    }\n",
       "\n",
       "    .dataframe tbody tr th {\n",
       "        vertical-align: top;\n",
       "    }\n",
       "\n",
       "    .dataframe thead th {\n",
       "        text-align: right;\n",
       "    }\n",
       "</style>\n",
       "<table border=\"1\" class=\"dataframe\">\n",
       "  <thead>\n",
       "    <tr style=\"text-align: right;\">\n",
       "      <th></th>\n",
       "      <th>Date</th>\n",
       "      <th>Open</th>\n",
       "      <th>High</th>\n",
       "      <th>Low</th>\n",
       "      <th>Close</th>\n",
       "      <th>Volume</th>\n",
       "    </tr>\n",
       "  </thead>\n",
       "  <tbody>\n",
       "    <tr>\n",
       "      <th>0</th>\n",
       "      <td>01/02/13</td>\n",
       "      <td>102.0</td>\n",
       "      <td>104.5</td>\n",
       "      <td>102.0</td>\n",
       "      <td>104.2</td>\n",
       "      <td>125900</td>\n",
       "    </tr>\n",
       "    <tr>\n",
       "      <th>1</th>\n",
       "      <td>01/03/13</td>\n",
       "      <td>104.8</td>\n",
       "      <td>107.5</td>\n",
       "      <td>104.8</td>\n",
       "      <td>107.2</td>\n",
       "      <td>684290</td>\n",
       "    </tr>\n",
       "    <tr>\n",
       "      <th>2</th>\n",
       "      <td>01/04/13</td>\n",
       "      <td>107.0</td>\n",
       "      <td>107.6</td>\n",
       "      <td>107.0</td>\n",
       "      <td>107.6</td>\n",
       "      <td>548040</td>\n",
       "    </tr>\n",
       "    <tr>\n",
       "      <th>3</th>\n",
       "      <td>01/07/13</td>\n",
       "      <td>107.5</td>\n",
       "      <td>107.5</td>\n",
       "      <td>106.7</td>\n",
       "      <td>107.0</td>\n",
       "      <td>719780</td>\n",
       "    </tr>\n",
       "    <tr>\n",
       "      <th>4</th>\n",
       "      <td>01/08/13</td>\n",
       "      <td>107.1</td>\n",
       "      <td>107.7</td>\n",
       "      <td>107.1</td>\n",
       "      <td>107.3</td>\n",
       "      <td>389530</td>\n",
       "    </tr>\n",
       "  </tbody>\n",
       "</table>\n",
       "</div>"
      ],
      "text/plain": [
       "       Date   Open   High    Low  Close  Volume\n",
       "0  01/02/13  102.0  104.5  102.0  104.2  125900\n",
       "1  01/03/13  104.8  107.5  104.8  107.2  684290\n",
       "2  01/04/13  107.0  107.6  107.0  107.6  548040\n",
       "3  01/07/13  107.5  107.5  106.7  107.0  719780\n",
       "4  01/08/13  107.1  107.7  107.1  107.3  389530"
      ]
     },
     "execution_count": 1318,
     "metadata": {},
     "output_type": "execute_result"
    }
   ],
   "source": [
    "stock.head()"
   ]
  },
  {
   "cell_type": "code",
   "execution_count": 1319,
   "metadata": {
    "scrolled": true
   },
   "outputs": [
    {
     "data": {
      "text/html": [
       "<div>\n",
       "<style scoped>\n",
       "    .dataframe tbody tr th:only-of-type {\n",
       "        vertical-align: middle;\n",
       "    }\n",
       "\n",
       "    .dataframe tbody tr th {\n",
       "        vertical-align: top;\n",
       "    }\n",
       "\n",
       "    .dataframe thead th {\n",
       "        text-align: right;\n",
       "    }\n",
       "</style>\n",
       "<table border=\"1\" class=\"dataframe\">\n",
       "  <thead>\n",
       "    <tr style=\"text-align: right;\">\n",
       "      <th></th>\n",
       "      <th>Date</th>\n",
       "      <th>Open</th>\n",
       "      <th>High</th>\n",
       "      <th>Low</th>\n",
       "      <th>Close</th>\n",
       "      <th>Volume</th>\n",
       "    </tr>\n",
       "  </thead>\n",
       "  <tbody>\n",
       "    <tr>\n",
       "      <th>1263</th>\n",
       "      <td>03/12/18</td>\n",
       "      <td>296.0</td>\n",
       "      <td>299.0</td>\n",
       "      <td>292.2</td>\n",
       "      <td>295.4</td>\n",
       "      <td>303520</td>\n",
       "    </tr>\n",
       "    <tr>\n",
       "      <th>1264</th>\n",
       "      <td>03/13/18</td>\n",
       "      <td>296.0</td>\n",
       "      <td>297.0</td>\n",
       "      <td>292.4</td>\n",
       "      <td>293.0</td>\n",
       "      <td>557650</td>\n",
       "    </tr>\n",
       "    <tr>\n",
       "      <th>1265</th>\n",
       "      <td>03/14/18</td>\n",
       "      <td>293.0</td>\n",
       "      <td>294.4</td>\n",
       "      <td>287.4</td>\n",
       "      <td>288.4</td>\n",
       "      <td>757340</td>\n",
       "    </tr>\n",
       "    <tr>\n",
       "      <th>1266</th>\n",
       "      <td>03/15/18</td>\n",
       "      <td>288.4</td>\n",
       "      <td>288.6</td>\n",
       "      <td>282.6</td>\n",
       "      <td>284.0</td>\n",
       "      <td>1140780</td>\n",
       "    </tr>\n",
       "    <tr>\n",
       "      <th>1267</th>\n",
       "      <td>03/16/18</td>\n",
       "      <td>286.8</td>\n",
       "      <td>305.4</td>\n",
       "      <td>286.8</td>\n",
       "      <td>305.4</td>\n",
       "      <td>2052470</td>\n",
       "    </tr>\n",
       "  </tbody>\n",
       "</table>\n",
       "</div>"
      ],
      "text/plain": [
       "          Date   Open   High    Low  Close   Volume\n",
       "1263  03/12/18  296.0  299.0  292.2  295.4   303520\n",
       "1264  03/13/18  296.0  297.0  292.4  293.0   557650\n",
       "1265  03/14/18  293.0  294.4  287.4  288.4   757340\n",
       "1266  03/15/18  288.4  288.6  282.6  284.0  1140780\n",
       "1267  03/16/18  286.8  305.4  286.8  305.4  2052470"
      ]
     },
     "execution_count": 1319,
     "metadata": {},
     "output_type": "execute_result"
    }
   ],
   "source": [
    "stock.tail()"
   ]
  },
  {
   "cell_type": "markdown",
   "metadata": {},
   "source": [
    "Convert 'Date' column as datetime objects and set it as index column."
   ]
  },
  {
   "cell_type": "code",
   "execution_count": 1320,
   "metadata": {},
   "outputs": [],
   "source": [
    "stock['Date'] = pd.to_datetime(stock['Date'], infer_datetime_format=True)"
   ]
  },
  {
   "cell_type": "code",
   "execution_count": 1321,
   "metadata": {},
   "outputs": [],
   "source": [
    "stock.set_index('Date',inplace=True)"
   ]
  },
  {
   "cell_type": "code",
   "execution_count": 1322,
   "metadata": {
    "scrolled": true
   },
   "outputs": [
    {
     "name": "stdout",
     "output_type": "stream",
     "text": [
      "<class 'pandas.core.frame.DataFrame'>\n",
      "DatetimeIndex: 1268 entries, 2013-01-02 to 2018-03-16\n",
      "Data columns (total 5 columns):\n",
      "Open      1268 non-null float64\n",
      "High      1268 non-null float64\n",
      "Low       1268 non-null float64\n",
      "Close     1268 non-null float64\n",
      "Volume    1268 non-null int64\n",
      "dtypes: float64(4), int64(1)\n",
      "memory usage: 59.4 KB\n"
     ]
    }
   ],
   "source": [
    "stock.info()"
   ]
  },
  {
   "cell_type": "code",
   "execution_count": 1323,
   "metadata": {},
   "outputs": [
    {
     "data": {
      "text/plain": [
       "pandas.core.indexes.datetimes.DatetimeIndex"
      ]
     },
     "execution_count": 1323,
     "metadata": {},
     "output_type": "execute_result"
    }
   ],
   "source": [
    "type(stock.index)"
   ]
  },
  {
   "cell_type": "code",
   "execution_count": 1324,
   "metadata": {
    "scrolled": true
   },
   "outputs": [
    {
     "data": {
      "text/html": [
       "<div>\n",
       "<style scoped>\n",
       "    .dataframe tbody tr th:only-of-type {\n",
       "        vertical-align: middle;\n",
       "    }\n",
       "\n",
       "    .dataframe tbody tr th {\n",
       "        vertical-align: top;\n",
       "    }\n",
       "\n",
       "    .dataframe thead th {\n",
       "        text-align: right;\n",
       "    }\n",
       "</style>\n",
       "<table border=\"1\" class=\"dataframe\">\n",
       "  <thead>\n",
       "    <tr style=\"text-align: right;\">\n",
       "      <th></th>\n",
       "      <th>Open</th>\n",
       "      <th>High</th>\n",
       "      <th>Low</th>\n",
       "      <th>Close</th>\n",
       "      <th>Volume</th>\n",
       "    </tr>\n",
       "    <tr>\n",
       "      <th>Date</th>\n",
       "      <th></th>\n",
       "      <th></th>\n",
       "      <th></th>\n",
       "      <th></th>\n",
       "      <th></th>\n",
       "    </tr>\n",
       "  </thead>\n",
       "  <tbody>\n",
       "    <tr>\n",
       "      <th>2018-03-12</th>\n",
       "      <td>296.0</td>\n",
       "      <td>299.0</td>\n",
       "      <td>292.2</td>\n",
       "      <td>295.4</td>\n",
       "      <td>303520</td>\n",
       "    </tr>\n",
       "    <tr>\n",
       "      <th>2018-03-13</th>\n",
       "      <td>296.0</td>\n",
       "      <td>297.0</td>\n",
       "      <td>292.4</td>\n",
       "      <td>293.0</td>\n",
       "      <td>557650</td>\n",
       "    </tr>\n",
       "    <tr>\n",
       "      <th>2018-03-14</th>\n",
       "      <td>293.0</td>\n",
       "      <td>294.4</td>\n",
       "      <td>287.4</td>\n",
       "      <td>288.4</td>\n",
       "      <td>757340</td>\n",
       "    </tr>\n",
       "    <tr>\n",
       "      <th>2018-03-15</th>\n",
       "      <td>288.4</td>\n",
       "      <td>288.6</td>\n",
       "      <td>282.6</td>\n",
       "      <td>284.0</td>\n",
       "      <td>1140780</td>\n",
       "    </tr>\n",
       "    <tr>\n",
       "      <th>2018-03-16</th>\n",
       "      <td>286.8</td>\n",
       "      <td>305.4</td>\n",
       "      <td>286.8</td>\n",
       "      <td>305.4</td>\n",
       "      <td>2052470</td>\n",
       "    </tr>\n",
       "  </tbody>\n",
       "</table>\n",
       "</div>"
      ],
      "text/plain": [
       "             Open   High    Low  Close   Volume\n",
       "Date                                           \n",
       "2018-03-12  296.0  299.0  292.2  295.4   303520\n",
       "2018-03-13  296.0  297.0  292.4  293.0   557650\n",
       "2018-03-14  293.0  294.4  287.4  288.4   757340\n",
       "2018-03-15  288.4  288.6  282.6  284.0  1140780\n",
       "2018-03-16  286.8  305.4  286.8  305.4  2052470"
      ]
     },
     "execution_count": 1324,
     "metadata": {},
     "output_type": "execute_result"
    }
   ],
   "source": [
    "stock.tail()"
   ]
  },
  {
   "cell_type": "markdown",
   "metadata": {},
   "source": [
    "Create Copy for exercise."
   ]
  },
  {
   "cell_type": "code",
   "execution_count": 1325,
   "metadata": {
    "scrolled": true
   },
   "outputs": [
    {
     "data": {
      "text/html": [
       "<div>\n",
       "<style scoped>\n",
       "    .dataframe tbody tr th:only-of-type {\n",
       "        vertical-align: middle;\n",
       "    }\n",
       "\n",
       "    .dataframe tbody tr th {\n",
       "        vertical-align: top;\n",
       "    }\n",
       "\n",
       "    .dataframe thead th {\n",
       "        text-align: right;\n",
       "    }\n",
       "</style>\n",
       "<table border=\"1\" class=\"dataframe\">\n",
       "  <thead>\n",
       "    <tr style=\"text-align: right;\">\n",
       "      <th></th>\n",
       "      <th>Open</th>\n",
       "      <th>High</th>\n",
       "      <th>Low</th>\n",
       "      <th>Close</th>\n",
       "      <th>Volume</th>\n",
       "    </tr>\n",
       "    <tr>\n",
       "      <th>Date</th>\n",
       "      <th></th>\n",
       "      <th></th>\n",
       "      <th></th>\n",
       "      <th></th>\n",
       "      <th></th>\n",
       "    </tr>\n",
       "  </thead>\n",
       "  <tbody>\n",
       "    <tr>\n",
       "      <th>2018-03-05</th>\n",
       "      <td>299.0</td>\n",
       "      <td>300.0</td>\n",
       "      <td>296.0</td>\n",
       "      <td>299.6</td>\n",
       "      <td>388840</td>\n",
       "    </tr>\n",
       "    <tr>\n",
       "      <th>2018-03-06</th>\n",
       "      <td>300.0</td>\n",
       "      <td>304.0</td>\n",
       "      <td>297.8</td>\n",
       "      <td>298.6</td>\n",
       "      <td>833460</td>\n",
       "    </tr>\n",
       "    <tr>\n",
       "      <th>2018-03-07</th>\n",
       "      <td>300.0</td>\n",
       "      <td>304.0</td>\n",
       "      <td>299.8</td>\n",
       "      <td>304.0</td>\n",
       "      <td>853340</td>\n",
       "    </tr>\n",
       "    <tr>\n",
       "      <th>2018-03-08</th>\n",
       "      <td>303.0</td>\n",
       "      <td>304.0</td>\n",
       "      <td>295.0</td>\n",
       "      <td>295.0</td>\n",
       "      <td>367970</td>\n",
       "    </tr>\n",
       "    <tr>\n",
       "      <th>2018-03-09</th>\n",
       "      <td>297.0</td>\n",
       "      <td>297.0</td>\n",
       "      <td>292.0</td>\n",
       "      <td>292.0</td>\n",
       "      <td>352590</td>\n",
       "    </tr>\n",
       "    <tr>\n",
       "      <th>2018-03-12</th>\n",
       "      <td>296.0</td>\n",
       "      <td>299.0</td>\n",
       "      <td>292.2</td>\n",
       "      <td>295.4</td>\n",
       "      <td>303520</td>\n",
       "    </tr>\n",
       "    <tr>\n",
       "      <th>2018-03-13</th>\n",
       "      <td>296.0</td>\n",
       "      <td>297.0</td>\n",
       "      <td>292.4</td>\n",
       "      <td>293.0</td>\n",
       "      <td>557650</td>\n",
       "    </tr>\n",
       "    <tr>\n",
       "      <th>2018-03-14</th>\n",
       "      <td>293.0</td>\n",
       "      <td>294.4</td>\n",
       "      <td>287.4</td>\n",
       "      <td>288.4</td>\n",
       "      <td>757340</td>\n",
       "    </tr>\n",
       "    <tr>\n",
       "      <th>2018-03-15</th>\n",
       "      <td>288.4</td>\n",
       "      <td>288.6</td>\n",
       "      <td>282.6</td>\n",
       "      <td>284.0</td>\n",
       "      <td>1140780</td>\n",
       "    </tr>\n",
       "    <tr>\n",
       "      <th>2018-03-16</th>\n",
       "      <td>286.8</td>\n",
       "      <td>305.4</td>\n",
       "      <td>286.8</td>\n",
       "      <td>305.4</td>\n",
       "      <td>2052470</td>\n",
       "    </tr>\n",
       "  </tbody>\n",
       "</table>\n",
       "</div>"
      ],
      "text/plain": [
       "             Open   High    Low  Close   Volume\n",
       "Date                                           \n",
       "2018-03-05  299.0  300.0  296.0  299.6   388840\n",
       "2018-03-06  300.0  304.0  297.8  298.6   833460\n",
       "2018-03-07  300.0  304.0  299.8  304.0   853340\n",
       "2018-03-08  303.0  304.0  295.0  295.0   367970\n",
       "2018-03-09  297.0  297.0  292.0  292.0   352590\n",
       "2018-03-12  296.0  299.0  292.2  295.4   303520\n",
       "2018-03-13  296.0  297.0  292.4  293.0   557650\n",
       "2018-03-14  293.0  294.4  287.4  288.4   757340\n",
       "2018-03-15  288.4  288.6  282.6  284.0  1140780\n",
       "2018-03-16  286.8  305.4  286.8  305.4  2052470"
      ]
     },
     "execution_count": 1325,
     "metadata": {},
     "output_type": "execute_result"
    }
   ],
   "source": [
    "stockC = stock[stock.index.isin(pd.date_range(start='2013-01-01', end='2018-03-16'))]\n",
    "stockC.tail(10)"
   ]
  },
  {
   "cell_type": "markdown",
   "metadata": {},
   "source": [
    "Notice that there are no values for 3/3 and 3/4. Trading days excluse weekends and holidays.\n",
    "\n",
    "Add Prediction column which contains the predicted Close column value n trading days later.\n",
    "\n",
    "The contents of the new column are just the values of the Close column shifted 5 days backwards, therefore, n=-5"
   ]
  },
  {
   "cell_type": "code",
   "execution_count": 1326,
   "metadata": {
    "scrolled": true
   },
   "outputs": [
    {
     "data": {
      "text/html": [
       "<div>\n",
       "<style scoped>\n",
       "    .dataframe tbody tr th:only-of-type {\n",
       "        vertical-align: middle;\n",
       "    }\n",
       "\n",
       "    .dataframe tbody tr th {\n",
       "        vertical-align: top;\n",
       "    }\n",
       "\n",
       "    .dataframe thead th {\n",
       "        text-align: right;\n",
       "    }\n",
       "</style>\n",
       "<table border=\"1\" class=\"dataframe\">\n",
       "  <thead>\n",
       "    <tr style=\"text-align: right;\">\n",
       "      <th></th>\n",
       "      <th>Open</th>\n",
       "      <th>High</th>\n",
       "      <th>Low</th>\n",
       "      <th>Close</th>\n",
       "      <th>Volume</th>\n",
       "      <th>Prediction</th>\n",
       "    </tr>\n",
       "    <tr>\n",
       "      <th>Date</th>\n",
       "      <th></th>\n",
       "      <th></th>\n",
       "      <th></th>\n",
       "      <th></th>\n",
       "      <th></th>\n",
       "      <th></th>\n",
       "    </tr>\n",
       "  </thead>\n",
       "  <tbody>\n",
       "    <tr>\n",
       "      <th>2018-03-02</th>\n",
       "      <td>297.6</td>\n",
       "      <td>298.4</td>\n",
       "      <td>295.0</td>\n",
       "      <td>298.0</td>\n",
       "      <td>735080</td>\n",
       "      <td>305.4</td>\n",
       "    </tr>\n",
       "    <tr>\n",
       "      <th>2018-03-05</th>\n",
       "      <td>299.0</td>\n",
       "      <td>300.0</td>\n",
       "      <td>296.0</td>\n",
       "      <td>299.6</td>\n",
       "      <td>388840</td>\n",
       "      <td>NaN</td>\n",
       "    </tr>\n",
       "    <tr>\n",
       "      <th>2018-03-06</th>\n",
       "      <td>300.0</td>\n",
       "      <td>304.0</td>\n",
       "      <td>297.8</td>\n",
       "      <td>298.6</td>\n",
       "      <td>833460</td>\n",
       "      <td>NaN</td>\n",
       "    </tr>\n",
       "    <tr>\n",
       "      <th>2018-03-07</th>\n",
       "      <td>300.0</td>\n",
       "      <td>304.0</td>\n",
       "      <td>299.8</td>\n",
       "      <td>304.0</td>\n",
       "      <td>853340</td>\n",
       "      <td>NaN</td>\n",
       "    </tr>\n",
       "    <tr>\n",
       "      <th>2018-03-08</th>\n",
       "      <td>303.0</td>\n",
       "      <td>304.0</td>\n",
       "      <td>295.0</td>\n",
       "      <td>295.0</td>\n",
       "      <td>367970</td>\n",
       "      <td>NaN</td>\n",
       "    </tr>\n",
       "    <tr>\n",
       "      <th>2018-03-09</th>\n",
       "      <td>297.0</td>\n",
       "      <td>297.0</td>\n",
       "      <td>292.0</td>\n",
       "      <td>292.0</td>\n",
       "      <td>352590</td>\n",
       "      <td>NaN</td>\n",
       "    </tr>\n",
       "    <tr>\n",
       "      <th>2018-03-12</th>\n",
       "      <td>296.0</td>\n",
       "      <td>299.0</td>\n",
       "      <td>292.2</td>\n",
       "      <td>295.4</td>\n",
       "      <td>303520</td>\n",
       "      <td>NaN</td>\n",
       "    </tr>\n",
       "    <tr>\n",
       "      <th>2018-03-13</th>\n",
       "      <td>296.0</td>\n",
       "      <td>297.0</td>\n",
       "      <td>292.4</td>\n",
       "      <td>293.0</td>\n",
       "      <td>557650</td>\n",
       "      <td>NaN</td>\n",
       "    </tr>\n",
       "    <tr>\n",
       "      <th>2018-03-14</th>\n",
       "      <td>293.0</td>\n",
       "      <td>294.4</td>\n",
       "      <td>287.4</td>\n",
       "      <td>288.4</td>\n",
       "      <td>757340</td>\n",
       "      <td>NaN</td>\n",
       "    </tr>\n",
       "    <tr>\n",
       "      <th>2018-03-15</th>\n",
       "      <td>288.4</td>\n",
       "      <td>288.6</td>\n",
       "      <td>282.6</td>\n",
       "      <td>284.0</td>\n",
       "      <td>1140780</td>\n",
       "      <td>NaN</td>\n",
       "    </tr>\n",
       "    <tr>\n",
       "      <th>2018-03-16</th>\n",
       "      <td>286.8</td>\n",
       "      <td>305.4</td>\n",
       "      <td>286.8</td>\n",
       "      <td>305.4</td>\n",
       "      <td>2052470</td>\n",
       "      <td>NaN</td>\n",
       "    </tr>\n",
       "  </tbody>\n",
       "</table>\n",
       "</div>"
      ],
      "text/plain": [
       "             Open   High    Low  Close   Volume  Prediction\n",
       "Date                                                       \n",
       "2018-03-02  297.6  298.4  295.0  298.0   735080       305.4\n",
       "2018-03-05  299.0  300.0  296.0  299.6   388840         NaN\n",
       "2018-03-06  300.0  304.0  297.8  298.6   833460         NaN\n",
       "2018-03-07  300.0  304.0  299.8  304.0   853340         NaN\n",
       "2018-03-08  303.0  304.0  295.0  295.0   367970         NaN\n",
       "2018-03-09  297.0  297.0  292.0  292.0   352590         NaN\n",
       "2018-03-12  296.0  299.0  292.2  295.4   303520         NaN\n",
       "2018-03-13  296.0  297.0  292.4  293.0   557650         NaN\n",
       "2018-03-14  293.0  294.4  287.4  288.4   757340         NaN\n",
       "2018-03-15  288.4  288.6  282.6  284.0  1140780         NaN\n",
       "2018-03-16  286.8  305.4  286.8  305.4  2052470         NaN"
      ]
     },
     "execution_count": 1326,
     "metadata": {},
     "output_type": "execute_result"
    }
   ],
   "source": [
    "n=-10\n",
    "stockC['Prediction'] = stockC['Close'].shift(n)\n",
    "stockC.tail(11)"
   ]
  },
  {
   "cell_type": "code",
   "execution_count": 1327,
   "metadata": {},
   "outputs": [
    {
     "data": {
      "text/plain": [
       "1268"
      ]
     },
     "execution_count": 1327,
     "metadata": {},
     "output_type": "execute_result"
    }
   ],
   "source": [
    "len(stockC)"
   ]
  },
  {
   "cell_type": "markdown",
   "metadata": {},
   "source": [
    "In order to prepare the data for machine learning, we have to delete all rows with NaN values."
   ]
  },
  {
   "cell_type": "code",
   "execution_count": 1328,
   "metadata": {},
   "outputs": [],
   "source": [
    "from sklearn import preprocessing"
   ]
  },
  {
   "cell_type": "code",
   "execution_count": 1329,
   "metadata": {},
   "outputs": [],
   "source": [
    "X = preprocessing.scale(stockC.drop(['Prediction'], axis=1))"
   ]
  },
  {
   "cell_type": "code",
   "execution_count": 1330,
   "metadata": {},
   "outputs": [],
   "source": [
    "X_predict = X[n:]\n",
    "X = X[:n]"
   ]
  },
  {
   "cell_type": "code",
   "execution_count": 1331,
   "metadata": {},
   "outputs": [],
   "source": [
    "y = stockC['Prediction'][:n]"
   ]
  },
  {
   "cell_type": "code",
   "execution_count": 1332,
   "metadata": {},
   "outputs": [
    {
     "name": "stdout",
     "output_type": "stream",
     "text": [
      "<class 'numpy.ndarray'> <class 'numpy.ndarray'> <class 'pandas.core.series.Series'>\n"
     ]
    }
   ],
   "source": [
    "print(type(X), type(X_predict), type(y))"
   ]
  },
  {
   "cell_type": "code",
   "execution_count": 1333,
   "metadata": {
    "scrolled": true
   },
   "outputs": [
    {
     "name": "stdout",
     "output_type": "stream",
     "text": [
      "1258 10 1258\n"
     ]
    }
   ],
   "source": [
    "print(len(X), len(X_predict), len(y))"
   ]
  },
  {
   "cell_type": "code",
   "execution_count": 1334,
   "metadata": {},
   "outputs": [],
   "source": [
    "from sklearn.model_selection import train_test_split"
   ]
  },
  {
   "cell_type": "code",
   "execution_count": 1335,
   "metadata": {},
   "outputs": [],
   "source": [
    "X_train, X_test, y_train, y_test = train_test_split(X, y, test_size=(0.2))"
   ]
  },
  {
   "cell_type": "code",
   "execution_count": 1336,
   "metadata": {},
   "outputs": [
    {
     "name": "stdout",
     "output_type": "stream",
     "text": [
      "<class 'numpy.ndarray'> <class 'numpy.ndarray'> <class 'pandas.core.series.Series'> <class 'pandas.core.series.Series'>\n"
     ]
    }
   ],
   "source": [
    "print(type(X_train), type(X_test), type(y_train), type(y_test) )"
   ]
  },
  {
   "cell_type": "code",
   "execution_count": 1337,
   "metadata": {
    "scrolled": true
   },
   "outputs": [
    {
     "name": "stdout",
     "output_type": "stream",
     "text": [
      "1006 252 1006 252\n"
     ]
    }
   ],
   "source": [
    "print(len(X_train), len(X_test), len(y_train), len(y_test) )"
   ]
  },
  {
   "cell_type": "code",
   "execution_count": 1338,
   "metadata": {},
   "outputs": [],
   "source": [
    "from sklearn.linear_model import LinearRegression"
   ]
  },
  {
   "cell_type": "code",
   "execution_count": 1339,
   "metadata": {},
   "outputs": [],
   "source": [
    "lm = LinearRegression()"
   ]
  },
  {
   "cell_type": "code",
   "execution_count": 1340,
   "metadata": {},
   "outputs": [
    {
     "data": {
      "text/plain": [
       "LinearRegression(copy_X=True, fit_intercept=True, n_jobs=1, normalize=False)"
      ]
     },
     "execution_count": 1340,
     "metadata": {},
     "output_type": "execute_result"
    }
   ],
   "source": [
    "lm.fit(X_train,y_train)"
   ]
  },
  {
   "cell_type": "markdown",
   "metadata": {},
   "source": [
    "### Cross Validation"
   ]
  },
  {
   "cell_type": "code",
   "execution_count": 1341,
   "metadata": {},
   "outputs": [
    {
     "data": {
      "text/plain": [
       "array([0.69694137, 0.07248903, 0.30929769, 0.73236715, 0.46188133,\n",
       "       0.40399605, 0.65348755, 0.60289925, 0.4340348 , 0.65228796])"
      ]
     },
     "execution_count": 1341,
     "metadata": {},
     "output_type": "execute_result"
    }
   ],
   "source": [
    "from sklearn.model_selection import cross_val_score\n",
    "from sklearn.svm import SVR\n",
    "\n",
    "lm = SVR(kernel='linear', C=1)\n",
    "scores = cross_val_score(lm, X, y, cv=10)\n",
    "scores #score for each split"
   ]
  },
  {
   "cell_type": "code",
   "execution_count": 1342,
   "metadata": {
    "scrolled": true
   },
   "outputs": [
    {
     "name": "stdout",
     "output_type": "stream",
     "text": [
      "Accuracy: 0.50 (+/- 0.39)\n"
     ]
    }
   ],
   "source": [
    "print(\"Accuracy: %0.2f (+/- %0.2f)\" % (scores.mean(), scores.std() * 2))"
   ]
  },
  {
   "cell_type": "code",
   "execution_count": 1343,
   "metadata": {},
   "outputs": [
    {
     "name": "stdout",
     "output_type": "stream",
     "text": [
      "Accuracy: 95.40796829549284%\n"
     ]
    }
   ],
   "source": [
    "lm.fit(X_train, y_train)\n",
    "accuracy = lm.score(X_test, y_test)\n",
    "print('Accuracy: '+str(accuracy*100)+'%')"
   ]
  },
  {
   "cell_type": "markdown",
   "metadata": {},
   "source": [
    "### Predictions"
   ]
  },
  {
   "cell_type": "code",
   "execution_count": 1344,
   "metadata": {},
   "outputs": [],
   "source": [
    "predictions = lm.predict(X_test)"
   ]
  },
  {
   "cell_type": "code",
   "execution_count": 1345,
   "metadata": {},
   "outputs": [
    {
     "data": {
      "image/png": "[encoded data removed]",
      "text/plain": [
       "<matplotlib.figure.Figure at 0x618403e0f0>"
      ]
     },
     "metadata": {},
     "output_type": "display_data"
    }
   ],
   "source": [
    "plt.scatter(y_test,predictions)\n",
    "plt.title('Accuracy: '+str((accuracy*100).round(2))+'%')\n",
    "plt.xlabel('Y Test')\n",
    "plt.ylabel('Predicted Y')\n",
    "sns.set_style('whitegrid')"
   ]
  },
  {
   "cell_type": "code",
   "execution_count": 1346,
   "metadata": {},
   "outputs": [
    {
     "data": {
      "text/plain": [
       "<matplotlib.axes._subplots.AxesSubplot at 0x6183ef0470>"
      ]
     },
     "execution_count": 1346,
     "metadata": {},
     "output_type": "execute_result"
    },
    {
     "data": {
      "image/png": "[encoded data removed]",
      "text/plain": [
       "<matplotlib.figure.Figure at 0x6183f41e48>"
      ]
     },
     "metadata": {},
     "output_type": "display_data"
    }
   ],
   "source": [
    "sns.distplot((y_test-predictions),bins=50)"
   ]
  },
  {
   "cell_type": "code",
   "execution_count": 1347,
   "metadata": {
    "scrolled": true
   },
   "outputs": [
    {
     "data": {
      "text/plain": [
       "1258"
      ]
     },
     "execution_count": 1347,
     "metadata": {},
     "output_type": "execute_result"
    }
   ],
   "source": [
    "predr_i = stock.index.get_loc(pd.Timestamp('2018-03-5'))\n",
    "predr_i"
   ]
  },
  {
   "cell_type": "code",
   "execution_count": 1348,
   "metadata": {},
   "outputs": [
    {
     "data": {
      "text/plain": [
       "1267"
      ]
     },
     "execution_count": 1348,
     "metadata": {},
     "output_type": "execute_result"
    }
   ],
   "source": [
    "predr_f = stock.index.get_loc(pd.Timestamp('2018-03-16'))\n",
    "predr_f"
   ]
  },
  {
   "cell_type": "code",
   "execution_count": 1349,
   "metadata": {
    "scrolled": true
   },
   "outputs": [
    {
     "data": {
      "text/plain": [
       "DatetimeIndex(['2018-03-05', '2018-03-06', '2018-03-07', '2018-03-08',\n",
       "               '2018-03-09', '2018-03-12', '2018-03-13', '2018-03-14',\n",
       "               '2018-03-15', '2018-03-16'],\n",
       "              dtype='datetime64[ns]', name='Date', freq=None)"
      ]
     },
     "execution_count": 1349,
     "metadata": {},
     "output_type": "execute_result"
    }
   ],
   "source": [
    "predr_index = stock.index[predr_i:predr_f+1]\n",
    "predr_index"
   ]
  },
  {
   "cell_type": "code",
   "execution_count": 1350,
   "metadata": {},
   "outputs": [
    {
     "name": "stdout",
     "output_type": "stream",
     "text": [
      "Predicted values for 3/5-3/16: \n",
      "\n",
      "Date\n",
      "2018-03-05    296.52\n",
      "2018-03-06    298.44\n",
      "2018-03-07    300.44\n",
      "2018-03-08    296.73\n",
      "2018-03-09    292.27\n",
      "2018-03-12    293.44\n",
      "2018-03-13    292.70\n",
      "2018-03-14    289.17\n",
      "2018-03-15    284.91\n",
      "2018-03-16    296.50\n",
      "dtype: float64\n"
     ]
    }
   ],
   "source": [
    "stock_later = lm.predict(X_predict)\n",
    "Predicted_stock = pd.Series(stock_later, index=predr_index).round(2)\n",
    "print('Predicted values for 3/5-3/16: \\n') \n",
    "print(Predicted_stock)"
   ]
  },
  {
   "cell_type": "markdown",
   "metadata": {},
   "source": [
    "Actual values"
   ]
  },
  {
   "cell_type": "code",
   "execution_count": 1351,
   "metadata": {
    "scrolled": true
   },
   "outputs": [
    {
     "name": "stdout",
     "output_type": "stream",
     "text": [
      "Date\n",
      "2018-03-05    299.6\n",
      "2018-03-06    298.6\n",
      "2018-03-07    304.0\n",
      "2018-03-08    295.0\n",
      "2018-03-09    292.0\n",
      "2018-03-12    295.4\n",
      "2018-03-13    293.0\n",
      "2018-03-14    288.4\n",
      "2018-03-15    284.0\n",
      "2018-03-16    305.4\n",
      "Name: Close, dtype: float64\n"
     ]
    }
   ],
   "source": [
    "Actual = pd.Series(stock['Close'].loc[predr_index])\n",
    "print(Actual)"
   ]
  },
  {
   "cell_type": "markdown",
   "metadata": {},
   "source": [
    "Create dataframe for comparison."
   ]
  },
  {
   "cell_type": "code",
   "execution_count": 1352,
   "metadata": {
    "scrolled": true
   },
   "outputs": [
    {
     "data": {
      "text/html": [
       "<div>\n",
       "<style scoped>\n",
       "    .dataframe tbody tr th:only-of-type {\n",
       "        vertical-align: middle;\n",
       "    }\n",
       "\n",
       "    .dataframe tbody tr th {\n",
       "        vertical-align: top;\n",
       "    }\n",
       "\n",
       "    .dataframe thead th {\n",
       "        text-align: right;\n",
       "    }\n",
       "</style>\n",
       "<table border=\"1\" class=\"dataframe\">\n",
       "  <thead>\n",
       "    <tr style=\"text-align: right;\">\n",
       "      <th></th>\n",
       "      <th>Actual</th>\n",
       "      <th>Predicted</th>\n",
       "    </tr>\n",
       "    <tr>\n",
       "      <th>Date</th>\n",
       "      <th></th>\n",
       "      <th></th>\n",
       "    </tr>\n",
       "  </thead>\n",
       "  <tbody>\n",
       "    <tr>\n",
       "      <th>2018-03-05</th>\n",
       "      <td>299.6</td>\n",
       "      <td>296.52</td>\n",
       "    </tr>\n",
       "    <tr>\n",
       "      <th>2018-03-06</th>\n",
       "      <td>298.6</td>\n",
       "      <td>298.44</td>\n",
       "    </tr>\n",
       "    <tr>\n",
       "      <th>2018-03-07</th>\n",
       "      <td>304.0</td>\n",
       "      <td>300.44</td>\n",
       "    </tr>\n",
       "    <tr>\n",
       "      <th>2018-03-08</th>\n",
       "      <td>295.0</td>\n",
       "      <td>296.73</td>\n",
       "    </tr>\n",
       "    <tr>\n",
       "      <th>2018-03-09</th>\n",
       "      <td>292.0</td>\n",
       "      <td>292.27</td>\n",
       "    </tr>\n",
       "    <tr>\n",
       "      <th>2018-03-12</th>\n",
       "      <td>295.4</td>\n",
       "      <td>293.44</td>\n",
       "    </tr>\n",
       "    <tr>\n",
       "      <th>2018-03-13</th>\n",
       "      <td>293.0</td>\n",
       "      <td>292.70</td>\n",
       "    </tr>\n",
       "    <tr>\n",
       "      <th>2018-03-14</th>\n",
       "      <td>288.4</td>\n",
       "      <td>289.17</td>\n",
       "    </tr>\n",
       "    <tr>\n",
       "      <th>2018-03-15</th>\n",
       "      <td>284.0</td>\n",
       "      <td>284.91</td>\n",
       "    </tr>\n",
       "    <tr>\n",
       "      <th>2018-03-16</th>\n",
       "      <td>305.4</td>\n",
       "      <td>296.50</td>\n",
       "    </tr>\n",
       "  </tbody>\n",
       "</table>\n",
       "</div>"
      ],
      "text/plain": [
       "            Actual  Predicted\n",
       "Date                         \n",
       "2018-03-05   299.6     296.52\n",
       "2018-03-06   298.6     298.44\n",
       "2018-03-07   304.0     300.44\n",
       "2018-03-08   295.0     296.73\n",
       "2018-03-09   292.0     292.27\n",
       "2018-03-12   295.4     293.44\n",
       "2018-03-13   293.0     292.70\n",
       "2018-03-14   288.4     289.17\n",
       "2018-03-15   284.0     284.91\n",
       "2018-03-16   305.4     296.50"
      ]
     },
     "execution_count": 1352,
     "metadata": {},
     "output_type": "execute_result"
    }
   ],
   "source": [
    "stock_c = pd.DataFrame({'Actual':Actual,'Predicted':Predicted_stock}).set_index(predr_index).round(2)\n",
    "stock_c"
   ]
  },
  {
   "cell_type": "markdown",
   "metadata": {},
   "source": [
    "## Part 1.2: Visualization "
   ]
  },
  {
   "cell_type": "code",
   "execution_count": 1353,
   "metadata": {},
   "outputs": [],
   "source": [
    "pred_color='blue'"
   ]
  },
  {
   "cell_type": "code",
   "execution_count": 1354,
   "metadata": {},
   "outputs": [],
   "source": [
    "actual_color='red'"
   ]
  },
  {
   "cell_type": "code",
   "execution_count": 1355,
   "metadata": {},
   "outputs": [],
   "source": [
    "stock_name = 'JFC.PH'"
   ]
  },
  {
   "cell_type": "code",
   "execution_count": 1356,
   "metadata": {},
   "outputs": [
    {
     "data": {
      "image/png": "[encoded data removed]",
      "text/plain": [
       "<matplotlib.figure.Figure at 0x61848665c0>"
      ]
     },
     "metadata": {},
     "output_type": "display_data"
    }
   ],
   "source": [
    "plt.title(stock_name, fontsize=25)\n",
    "\n",
    "jfc['Close'].plot(figsize=(24,6),legend=None, color=actual_color)\n",
    "\n",
    "plt.ylabel('Closing Price (₱)', fontsize=15)\n",
    "plt.xlabel('Date', fontsize=15)\n",
    "plt.xlim(xmin=stock.index[0], xmax=stock.index[-1])\n",
    "plt.xticks(ha='center')\n",
    "\n",
    "plt.tight_layout()"
   ]
  },
  {
   "cell_type": "markdown",
   "metadata": {},
   "source": [
    "Create linking. This will be used to link the line graphs of predicted and actual values."
   ]
  },
  {
   "cell_type": "code",
   "execution_count": 1357,
   "metadata": {},
   "outputs": [
    {
     "data": {
      "text/plain": [
       "298.0"
      ]
     },
     "execution_count": 1357,
     "metadata": {},
     "output_type": "execute_result"
    }
   ],
   "source": [
    "l_i = stock['Close'].loc[stockC.index[n-1]]\n",
    "l_i"
   ]
  },
  {
   "cell_type": "code",
   "execution_count": 1358,
   "metadata": {},
   "outputs": [
    {
     "data": {
      "text/plain": [
       "296.52"
      ]
     },
     "execution_count": 1358,
     "metadata": {},
     "output_type": "execute_result"
    }
   ],
   "source": [
    "l_f = stock_c['Predicted'][stock_c.index[0]]\n",
    "l_f"
   ]
  },
  {
   "cell_type": "code",
   "execution_count": 1359,
   "metadata": {},
   "outputs": [
    {
     "data": {
      "text/plain": [
       "1257"
      ]
     },
     "execution_count": 1359,
     "metadata": {},
     "output_type": "execute_result"
    }
   ],
   "source": [
    "link_i = stock.index.get_loc(pd.Timestamp('2018-03-02'))\n",
    "link_i"
   ]
  },
  {
   "cell_type": "code",
   "execution_count": 1360,
   "metadata": {},
   "outputs": [
    {
     "data": {
      "text/plain": [
       "1258"
      ]
     },
     "execution_count": 1360,
     "metadata": {},
     "output_type": "execute_result"
    }
   ],
   "source": [
    "link_f = stock.index.get_loc(pd.Timestamp('2018-03-05'))\n",
    "link_f"
   ]
  },
  {
   "cell_type": "code",
   "execution_count": 1361,
   "metadata": {},
   "outputs": [
    {
     "data": {
      "text/plain": [
       "DatetimeIndex(['2018-03-02', '2018-03-05'], dtype='datetime64[ns]', name='Date', freq=None)"
      ]
     },
     "execution_count": 1361,
     "metadata": {},
     "output_type": "execute_result"
    }
   ],
   "source": [
    "link_index = stock.index[link_i:link_f+1]\n",
    "link_index"
   ]
  },
  {
   "cell_type": "code",
   "execution_count": 1362,
   "metadata": {
    "scrolled": true
   },
   "outputs": [
    {
     "data": {
      "text/html": [
       "<div>\n",
       "<style scoped>\n",
       "    .dataframe tbody tr th:only-of-type {\n",
       "        vertical-align: middle;\n",
       "    }\n",
       "\n",
       "    .dataframe tbody tr th {\n",
       "        vertical-align: top;\n",
       "    }\n",
       "\n",
       "    .dataframe thead th {\n",
       "        text-align: right;\n",
       "    }\n",
       "</style>\n",
       "<table border=\"1\" class=\"dataframe\">\n",
       "  <thead>\n",
       "    <tr style=\"text-align: right;\">\n",
       "      <th></th>\n",
       "      <th>Link</th>\n",
       "    </tr>\n",
       "    <tr>\n",
       "      <th>Date</th>\n",
       "      <th></th>\n",
       "    </tr>\n",
       "  </thead>\n",
       "  <tbody>\n",
       "    <tr>\n",
       "      <th>2018-03-02</th>\n",
       "      <td>298.00</td>\n",
       "    </tr>\n",
       "    <tr>\n",
       "      <th>2018-03-05</th>\n",
       "      <td>296.52</td>\n",
       "    </tr>\n",
       "  </tbody>\n",
       "</table>\n",
       "</div>"
      ],
      "text/plain": [
       "              Link\n",
       "Date              \n",
       "2018-03-02  298.00\n",
       "2018-03-05  296.52"
      ]
     },
     "execution_count": 1362,
     "metadata": {},
     "output_type": "execute_result"
    }
   ],
   "source": [
    "stock_l = pd.DataFrame({'Link':[l_i,l_f]}, index=link_index)\n",
    "stock_l"
   ]
  },
  {
   "cell_type": "markdown",
   "metadata": {},
   "source": [
    "Combine stock_l and stock_c"
   ]
  },
  {
   "cell_type": "code",
   "execution_count": 1363,
   "metadata": {},
   "outputs": [
    {
     "data": {
      "text/html": [
       "<div>\n",
       "<style scoped>\n",
       "    .dataframe tbody tr th:only-of-type {\n",
       "        vertical-align: middle;\n",
       "    }\n",
       "\n",
       "    .dataframe tbody tr th {\n",
       "        vertical-align: top;\n",
       "    }\n",
       "\n",
       "    .dataframe thead th {\n",
       "        text-align: right;\n",
       "    }\n",
       "</style>\n",
       "<table border=\"1\" class=\"dataframe\">\n",
       "  <thead>\n",
       "    <tr style=\"text-align: right;\">\n",
       "      <th></th>\n",
       "      <th>Predicted</th>\n",
       "    </tr>\n",
       "    <tr>\n",
       "      <th>Date</th>\n",
       "      <th></th>\n",
       "    </tr>\n",
       "  </thead>\n",
       "  <tbody>\n",
       "    <tr>\n",
       "      <th>2018-03-02</th>\n",
       "      <td>298.00</td>\n",
       "    </tr>\n",
       "    <tr>\n",
       "      <th>2018-03-05</th>\n",
       "      <td>296.52</td>\n",
       "    </tr>\n",
       "    <tr>\n",
       "      <th>2018-03-06</th>\n",
       "      <td>298.44</td>\n",
       "    </tr>\n",
       "    <tr>\n",
       "      <th>2018-03-07</th>\n",
       "      <td>300.44</td>\n",
       "    </tr>\n",
       "    <tr>\n",
       "      <th>2018-03-08</th>\n",
       "      <td>296.73</td>\n",
       "    </tr>\n",
       "    <tr>\n",
       "      <th>2018-03-09</th>\n",
       "      <td>292.27</td>\n",
       "    </tr>\n",
       "    <tr>\n",
       "      <th>2018-03-12</th>\n",
       "      <td>293.44</td>\n",
       "    </tr>\n",
       "    <tr>\n",
       "      <th>2018-03-13</th>\n",
       "      <td>292.70</td>\n",
       "    </tr>\n",
       "    <tr>\n",
       "      <th>2018-03-14</th>\n",
       "      <td>289.17</td>\n",
       "    </tr>\n",
       "    <tr>\n",
       "      <th>2018-03-15</th>\n",
       "      <td>284.91</td>\n",
       "    </tr>\n",
       "    <tr>\n",
       "      <th>2018-03-16</th>\n",
       "      <td>296.50</td>\n",
       "    </tr>\n",
       "  </tbody>\n",
       "</table>\n",
       "</div>"
      ],
      "text/plain": [
       "            Predicted\n",
       "Date                 \n",
       "2018-03-02     298.00\n",
       "2018-03-05     296.52\n",
       "2018-03-06     298.44\n",
       "2018-03-07     300.44\n",
       "2018-03-08     296.73\n",
       "2018-03-09     292.27\n",
       "2018-03-12     293.44\n",
       "2018-03-13     292.70\n",
       "2018-03-14     289.17\n",
       "2018-03-15     284.91\n",
       "2018-03-16     296.50"
      ]
     },
     "execution_count": 1363,
     "metadata": {},
     "output_type": "execute_result"
    }
   ],
   "source": [
    "stock_future = pd.DataFrame({'Predicted':stock_l['Link'].combine_first(stock_c['Predicted'])})\n",
    "stock_future"
   ]
  },
  {
   "cell_type": "code",
   "execution_count": 1364,
   "metadata": {},
   "outputs": [
    {
     "data": {
      "image/png": "[encoded data removed]",
      "text/plain": [
       "<matplotlib.figure.Figure at 0x61847a2a90>"
      ]
     },
     "metadata": {},
     "output_type": "display_data"
    }
   ],
   "source": [
    "plt.figure(figsize=(8,6))\n",
    "plt.title(stock_name + \": Actual vs. Predicted Closing Prices\", fontsize=20)\n",
    "\n",
    "stock['Close'].plot(label='Actual Price', legend=True, color=actual_color)\n",
    "stock_future['Predicted'].plot(label='Predicted Price', legend=True, color=pred_color)\n",
    "\n",
    "for i, txt in enumerate(stock_c['Predicted']):\n",
    "    plt.annotate(txt, (stock_c.index[i],stock_c['Predicted'][i]), \n",
    "                xytext=(stock_c.index[i],stock_c['Predicted'][i]-5),\n",
    "                horizontalalignment='center', verticalalignment='bottom',\n",
    "                arrowprops=dict(arrowstyle=\"-\",color=pred_color))\n",
    "    \n",
    "for i, txt in enumerate(stock_c['Actual']):\n",
    "    plt.annotate(txt, (stock_c.index[i],stock_c['Actual'][i]), \n",
    "                xytext=(stock_c.index[i],stock_c['Actual'][i]+5),\n",
    "                horizontalalignment='center', verticalalignment='top',\n",
    "                arrowprops=dict(arrowstyle=\"-\",color=actual_color))\n",
    "\n",
    "plt.scatter(stock_future.index,stock_future['Predicted'], s=15, color=pred_color)\n",
    "plt.scatter(stock_c.index,stock_c['Actual'], s=15, color=actual_color)\n",
    "\n",
    "plt.xlim('2018-03-01', '2018-03-17')\n",
    "plt.ylim(ymin=270,ymax=320)\n",
    "plt.xlabel('\\nDate', fontsize=20)\n",
    "plt.ylabel('Closing Price (₱)\\n', fontsize=20)\n",
    "plt.xticks(ha='center')\n",
    "\n",
    "plt.tight_layout()"
   ]
  },
  {
   "cell_type": "markdown",
   "metadata": {},
   "source": [
    "# Part 2: Predict JFC stocks from 3/19/18 to 3/23/18."
   ]
  },
  {
   "cell_type": "code",
   "execution_count": 1365,
   "metadata": {},
   "outputs": [
    {
     "data": {
      "text/html": [
       "<div>\n",
       "<style scoped>\n",
       "    .dataframe tbody tr th:only-of-type {\n",
       "        vertical-align: middle;\n",
       "    }\n",
       "\n",
       "    .dataframe tbody tr th {\n",
       "        vertical-align: top;\n",
       "    }\n",
       "\n",
       "    .dataframe thead th {\n",
       "        text-align: right;\n",
       "    }\n",
       "</style>\n",
       "<table border=\"1\" class=\"dataframe\">\n",
       "  <thead>\n",
       "    <tr style=\"text-align: right;\">\n",
       "      <th></th>\n",
       "      <th>Open</th>\n",
       "      <th>High</th>\n",
       "      <th>Low</th>\n",
       "      <th>Close</th>\n",
       "      <th>Volume</th>\n",
       "    </tr>\n",
       "    <tr>\n",
       "      <th>Date</th>\n",
       "      <th></th>\n",
       "      <th></th>\n",
       "      <th></th>\n",
       "      <th></th>\n",
       "      <th></th>\n",
       "    </tr>\n",
       "  </thead>\n",
       "  <tbody>\n",
       "    <tr>\n",
       "      <th>2013-01-02</th>\n",
       "      <td>102.0</td>\n",
       "      <td>104.5</td>\n",
       "      <td>102.0</td>\n",
       "      <td>104.2</td>\n",
       "      <td>125900</td>\n",
       "    </tr>\n",
       "    <tr>\n",
       "      <th>2013-01-03</th>\n",
       "      <td>104.8</td>\n",
       "      <td>107.5</td>\n",
       "      <td>104.8</td>\n",
       "      <td>107.2</td>\n",
       "      <td>684290</td>\n",
       "    </tr>\n",
       "    <tr>\n",
       "      <th>2013-01-04</th>\n",
       "      <td>107.0</td>\n",
       "      <td>107.6</td>\n",
       "      <td>107.0</td>\n",
       "      <td>107.6</td>\n",
       "      <td>548040</td>\n",
       "    </tr>\n",
       "    <tr>\n",
       "      <th>2013-01-07</th>\n",
       "      <td>107.5</td>\n",
       "      <td>107.5</td>\n",
       "      <td>106.7</td>\n",
       "      <td>107.0</td>\n",
       "      <td>719780</td>\n",
       "    </tr>\n",
       "    <tr>\n",
       "      <th>2013-01-08</th>\n",
       "      <td>107.1</td>\n",
       "      <td>107.7</td>\n",
       "      <td>107.1</td>\n",
       "      <td>107.3</td>\n",
       "      <td>389530</td>\n",
       "    </tr>\n",
       "  </tbody>\n",
       "</table>\n",
       "</div>"
      ],
      "text/plain": [
       "             Open   High    Low  Close  Volume\n",
       "Date                                          \n",
       "2013-01-02  102.0  104.5  102.0  104.2  125900\n",
       "2013-01-03  104.8  107.5  104.8  107.2  684290\n",
       "2013-01-04  107.0  107.6  107.0  107.6  548040\n",
       "2013-01-07  107.5  107.5  106.7  107.0  719780\n",
       "2013-01-08  107.1  107.7  107.1  107.3  389530"
      ]
     },
     "execution_count": 1365,
     "metadata": {},
     "output_type": "execute_result"
    }
   ],
   "source": [
    "stock.head()"
   ]
  },
  {
   "cell_type": "code",
   "execution_count": 1366,
   "metadata": {},
   "outputs": [
    {
     "data": {
      "text/html": [
       "<div>\n",
       "<style scoped>\n",
       "    .dataframe tbody tr th:only-of-type {\n",
       "        vertical-align: middle;\n",
       "    }\n",
       "\n",
       "    .dataframe tbody tr th {\n",
       "        vertical-align: top;\n",
       "    }\n",
       "\n",
       "    .dataframe thead th {\n",
       "        text-align: right;\n",
       "    }\n",
       "</style>\n",
       "<table border=\"1\" class=\"dataframe\">\n",
       "  <thead>\n",
       "    <tr style=\"text-align: right;\">\n",
       "      <th></th>\n",
       "      <th>Open</th>\n",
       "      <th>High</th>\n",
       "      <th>Low</th>\n",
       "      <th>Close</th>\n",
       "      <th>Volume</th>\n",
       "    </tr>\n",
       "    <tr>\n",
       "      <th>Date</th>\n",
       "      <th></th>\n",
       "      <th></th>\n",
       "      <th></th>\n",
       "      <th></th>\n",
       "      <th></th>\n",
       "    </tr>\n",
       "  </thead>\n",
       "  <tbody>\n",
       "    <tr>\n",
       "      <th>2018-03-12</th>\n",
       "      <td>296.0</td>\n",
       "      <td>299.0</td>\n",
       "      <td>292.2</td>\n",
       "      <td>295.4</td>\n",
       "      <td>303520</td>\n",
       "    </tr>\n",
       "    <tr>\n",
       "      <th>2018-03-13</th>\n",
       "      <td>296.0</td>\n",
       "      <td>297.0</td>\n",
       "      <td>292.4</td>\n",
       "      <td>293.0</td>\n",
       "      <td>557650</td>\n",
       "    </tr>\n",
       "    <tr>\n",
       "      <th>2018-03-14</th>\n",
       "      <td>293.0</td>\n",
       "      <td>294.4</td>\n",
       "      <td>287.4</td>\n",
       "      <td>288.4</td>\n",
       "      <td>757340</td>\n",
       "    </tr>\n",
       "    <tr>\n",
       "      <th>2018-03-15</th>\n",
       "      <td>288.4</td>\n",
       "      <td>288.6</td>\n",
       "      <td>282.6</td>\n",
       "      <td>284.0</td>\n",
       "      <td>1140780</td>\n",
       "    </tr>\n",
       "    <tr>\n",
       "      <th>2018-03-16</th>\n",
       "      <td>286.8</td>\n",
       "      <td>305.4</td>\n",
       "      <td>286.8</td>\n",
       "      <td>305.4</td>\n",
       "      <td>2052470</td>\n",
       "    </tr>\n",
       "  </tbody>\n",
       "</table>\n",
       "</div>"
      ],
      "text/plain": [
       "             Open   High    Low  Close   Volume\n",
       "Date                                           \n",
       "2018-03-12  296.0  299.0  292.2  295.4   303520\n",
       "2018-03-13  296.0  297.0  292.4  293.0   557650\n",
       "2018-03-14  293.0  294.4  287.4  288.4   757340\n",
       "2018-03-15  288.4  288.6  282.6  284.0  1140780\n",
       "2018-03-16  286.8  305.4  286.8  305.4  2052470"
      ]
     },
     "execution_count": 1366,
     "metadata": {},
     "output_type": "execute_result"
    }
   ],
   "source": [
    "stock.tail()"
   ]
  },
  {
   "cell_type": "code",
   "execution_count": 1367,
   "metadata": {},
   "outputs": [
    {
     "data": {
      "text/html": [
       "<div>\n",
       "<style scoped>\n",
       "    .dataframe tbody tr th:only-of-type {\n",
       "        vertical-align: middle;\n",
       "    }\n",
       "\n",
       "    .dataframe tbody tr th {\n",
       "        vertical-align: top;\n",
       "    }\n",
       "\n",
       "    .dataframe thead th {\n",
       "        text-align: right;\n",
       "    }\n",
       "</style>\n",
       "<table border=\"1\" class=\"dataframe\">\n",
       "  <thead>\n",
       "    <tr style=\"text-align: right;\">\n",
       "      <th></th>\n",
       "      <th>Open</th>\n",
       "      <th>High</th>\n",
       "      <th>Low</th>\n",
       "      <th>Close</th>\n",
       "      <th>Volume</th>\n",
       "      <th>Prediction</th>\n",
       "    </tr>\n",
       "    <tr>\n",
       "      <th>Date</th>\n",
       "      <th></th>\n",
       "      <th></th>\n",
       "      <th></th>\n",
       "      <th></th>\n",
       "      <th></th>\n",
       "      <th></th>\n",
       "    </tr>\n",
       "  </thead>\n",
       "  <tbody>\n",
       "    <tr>\n",
       "      <th>2018-03-05</th>\n",
       "      <td>299.0</td>\n",
       "      <td>300.0</td>\n",
       "      <td>296.0</td>\n",
       "      <td>299.6</td>\n",
       "      <td>388840</td>\n",
       "      <td>295.4</td>\n",
       "    </tr>\n",
       "    <tr>\n",
       "      <th>2018-03-06</th>\n",
       "      <td>300.0</td>\n",
       "      <td>304.0</td>\n",
       "      <td>297.8</td>\n",
       "      <td>298.6</td>\n",
       "      <td>833460</td>\n",
       "      <td>293.0</td>\n",
       "    </tr>\n",
       "    <tr>\n",
       "      <th>2018-03-07</th>\n",
       "      <td>300.0</td>\n",
       "      <td>304.0</td>\n",
       "      <td>299.8</td>\n",
       "      <td>304.0</td>\n",
       "      <td>853340</td>\n",
       "      <td>288.4</td>\n",
       "    </tr>\n",
       "    <tr>\n",
       "      <th>2018-03-08</th>\n",
       "      <td>303.0</td>\n",
       "      <td>304.0</td>\n",
       "      <td>295.0</td>\n",
       "      <td>295.0</td>\n",
       "      <td>367970</td>\n",
       "      <td>284.0</td>\n",
       "    </tr>\n",
       "    <tr>\n",
       "      <th>2018-03-09</th>\n",
       "      <td>297.0</td>\n",
       "      <td>297.0</td>\n",
       "      <td>292.0</td>\n",
       "      <td>292.0</td>\n",
       "      <td>352590</td>\n",
       "      <td>305.4</td>\n",
       "    </tr>\n",
       "    <tr>\n",
       "      <th>2018-03-12</th>\n",
       "      <td>296.0</td>\n",
       "      <td>299.0</td>\n",
       "      <td>292.2</td>\n",
       "      <td>295.4</td>\n",
       "      <td>303520</td>\n",
       "      <td>NaN</td>\n",
       "    </tr>\n",
       "    <tr>\n",
       "      <th>2018-03-13</th>\n",
       "      <td>296.0</td>\n",
       "      <td>297.0</td>\n",
       "      <td>292.4</td>\n",
       "      <td>293.0</td>\n",
       "      <td>557650</td>\n",
       "      <td>NaN</td>\n",
       "    </tr>\n",
       "    <tr>\n",
       "      <th>2018-03-14</th>\n",
       "      <td>293.0</td>\n",
       "      <td>294.4</td>\n",
       "      <td>287.4</td>\n",
       "      <td>288.4</td>\n",
       "      <td>757340</td>\n",
       "      <td>NaN</td>\n",
       "    </tr>\n",
       "    <tr>\n",
       "      <th>2018-03-15</th>\n",
       "      <td>288.4</td>\n",
       "      <td>288.6</td>\n",
       "      <td>282.6</td>\n",
       "      <td>284.0</td>\n",
       "      <td>1140780</td>\n",
       "      <td>NaN</td>\n",
       "    </tr>\n",
       "    <tr>\n",
       "      <th>2018-03-16</th>\n",
       "      <td>286.8</td>\n",
       "      <td>305.4</td>\n",
       "      <td>286.8</td>\n",
       "      <td>305.4</td>\n",
       "      <td>2052470</td>\n",
       "      <td>NaN</td>\n",
       "    </tr>\n",
       "  </tbody>\n",
       "</table>\n",
       "</div>"
      ],
      "text/plain": [
       "             Open   High    Low  Close   Volume  Prediction\n",
       "Date                                                       \n",
       "2018-03-05  299.0  300.0  296.0  299.6   388840       295.4\n",
       "2018-03-06  300.0  304.0  297.8  298.6   833460       293.0\n",
       "2018-03-07  300.0  304.0  299.8  304.0   853340       288.4\n",
       "2018-03-08  303.0  304.0  295.0  295.0   367970       284.0\n",
       "2018-03-09  297.0  297.0  292.0  292.0   352590       305.4\n",
       "2018-03-12  296.0  299.0  292.2  295.4   303520         NaN\n",
       "2018-03-13  296.0  297.0  292.4  293.0   557650         NaN\n",
       "2018-03-14  293.0  294.4  287.4  288.4   757340         NaN\n",
       "2018-03-15  288.4  288.6  282.6  284.0  1140780         NaN\n",
       "2018-03-16  286.8  305.4  286.8  305.4  2052470         NaN"
      ]
     },
     "execution_count": 1367,
     "metadata": {},
     "output_type": "execute_result"
    }
   ],
   "source": [
    "n=-5\n",
    "stock['Prediction'] = stock['Close'].shift(n)\n",
    "stock.tail(10)"
   ]
  },
  {
   "cell_type": "code",
   "execution_count": 1368,
   "metadata": {},
   "outputs": [
    {
     "data": {
      "text/plain": [
       "1268"
      ]
     },
     "execution_count": 1368,
     "metadata": {},
     "output_type": "execute_result"
    }
   ],
   "source": [
    "len(stock)"
   ]
  },
  {
   "cell_type": "code",
   "execution_count": 1369,
   "metadata": {},
   "outputs": [],
   "source": [
    "X = preprocessing.scale(stock.drop(['Prediction'], axis=1))"
   ]
  },
  {
   "cell_type": "code",
   "execution_count": 1370,
   "metadata": {},
   "outputs": [],
   "source": [
    "X_predict = X[n:]\n",
    "X = X[:n]"
   ]
  },
  {
   "cell_type": "code",
   "execution_count": 1371,
   "metadata": {},
   "outputs": [],
   "source": [
    "y = stock['Prediction'][:n]"
   ]
  },
  {
   "cell_type": "code",
   "execution_count": 1372,
   "metadata": {},
   "outputs": [
    {
     "data": {
      "text/plain": [
       "1263"
      ]
     },
     "execution_count": 1372,
     "metadata": {},
     "output_type": "execute_result"
    }
   ],
   "source": [
    "len(X)"
   ]
  },
  {
   "cell_type": "code",
   "execution_count": 1373,
   "metadata": {},
   "outputs": [],
   "source": [
    "X_train, X_test, y_train, y_test = train_test_split(X, y, test_size=(0.2))"
   ]
  },
  {
   "cell_type": "code",
   "execution_count": 1374,
   "metadata": {},
   "outputs": [
    {
     "data": {
      "text/plain": [
       "SVR(C=1, cache_size=200, coef0=0.0, degree=3, epsilon=0.1, gamma='auto',\n",
       "  kernel='linear', max_iter=-1, shrinking=True, tol=0.001, verbose=False)"
      ]
     },
     "execution_count": 1374,
     "metadata": {},
     "output_type": "execute_result"
    }
   ],
   "source": [
    "lm.fit(X_train, y_train)"
   ]
  },
  {
   "cell_type": "code",
   "execution_count": 1375,
   "metadata": {},
   "outputs": [
    {
     "name": "stdout",
     "output_type": "stream",
     "text": [
      "Accuracy: 97.2882734283542%\n"
     ]
    }
   ],
   "source": [
    "accuracy = lm.score(X_test, y_test)\n",
    "print('Accuracy: '+str(score*100)+'%')"
   ]
  },
  {
   "cell_type": "markdown",
   "metadata": {},
   "source": [
    "### Cross Validation "
   ]
  },
  {
   "cell_type": "code",
   "execution_count": 1376,
   "metadata": {},
   "outputs": [
    {
     "data": {
      "text/plain": [
       "array([0.94368836, 0.89748678, 0.72034443, 0.82092377, 0.93822865])"
      ]
     },
     "execution_count": 1376,
     "metadata": {},
     "output_type": "execute_result"
    }
   ],
   "source": [
    "lm = SVR(kernel='linear', C=1)\n",
    "scores = cross_val_score(lm, X, y, cv=5)\n",
    "scores #score for each split"
   ]
  },
  {
   "cell_type": "code",
   "execution_count": 1377,
   "metadata": {},
   "outputs": [
    {
     "name": "stdout",
     "output_type": "stream",
     "text": [
      "Accuracy: 0.86 (+/- 0.17)\n"
     ]
    }
   ],
   "source": [
    "print(\"Accuracy: %0.2f (+/- %0.2f)\" % (scores.mean(), scores.std() * 2))"
   ]
  },
  {
   "cell_type": "code",
   "execution_count": 1378,
   "metadata": {},
   "outputs": [
    {
     "name": "stdout",
     "output_type": "stream",
     "text": [
      "Accuracy: 97.2882734283542%\n"
     ]
    }
   ],
   "source": [
    "lm.fit(X_train, y_train)\n",
    "accuracy = lm.score(X_test, y_test)\n",
    "print('Accuracy: '+str(score*100)+'%')"
   ]
  },
  {
   "cell_type": "markdown",
   "metadata": {},
   "source": [
    "### Predictions "
   ]
  },
  {
   "cell_type": "code",
   "execution_count": 1379,
   "metadata": {},
   "outputs": [],
   "source": [
    "predictions = lm.predict(X_test)"
   ]
  },
  {
   "cell_type": "code",
   "execution_count": 1380,
   "metadata": {},
   "outputs": [
    {
     "data": {
      "image/png": "[encoded data removed]",
      "text/plain": [
       "<matplotlib.figure.Figure at 0x6184761e80>"
      ]
     },
     "metadata": {},
     "output_type": "display_data"
    }
   ],
   "source": [
    "plt.scatter(y_test,predictions)\n",
    "plt.title('Accuracy: '+str((accuracy*100).round(2))+'%')\n",
    "plt.xlabel('Y Test')\n",
    "plt.ylabel('Predicted Y')\n",
    "sns.set_style('whitegrid')"
   ]
  },
  {
   "cell_type": "code",
   "execution_count": 1381,
   "metadata": {},
   "outputs": [
    {
     "data": {
      "text/plain": [
       "<matplotlib.axes._subplots.AxesSubplot at 0x6184850198>"
      ]
     },
     "execution_count": 1381,
     "metadata": {},
     "output_type": "execute_result"
    },
    {
     "data": {
      "image/png": "[encoded data removed]",
      "text/plain": [
       "<matplotlib.figure.Figure at 0x6184bfa6d8>"
      ]
     },
     "metadata": {},
     "output_type": "display_data"
    }
   ],
   "source": [
    "sns.distplot((y_test-predictions),bins=50)"
   ]
  },
  {
   "cell_type": "code",
   "execution_count": 1382,
   "metadata": {
    "scrolled": true
   },
   "outputs": [
    {
     "data": {
      "text/html": [
       "<div>\n",
       "<style scoped>\n",
       "    .dataframe tbody tr th:only-of-type {\n",
       "        vertical-align: middle;\n",
       "    }\n",
       "\n",
       "    .dataframe tbody tr th {\n",
       "        vertical-align: top;\n",
       "    }\n",
       "\n",
       "    .dataframe thead th {\n",
       "        text-align: right;\n",
       "    }\n",
       "</style>\n",
       "<table border=\"1\" class=\"dataframe\">\n",
       "  <thead>\n",
       "    <tr style=\"text-align: right;\">\n",
       "      <th></th>\n",
       "      <th>Predicted</th>\n",
       "    </tr>\n",
       "  </thead>\n",
       "  <tbody>\n",
       "    <tr>\n",
       "      <th>2018-03-19</th>\n",
       "      <td>294.55</td>\n",
       "    </tr>\n",
       "    <tr>\n",
       "      <th>2018-03-20</th>\n",
       "      <td>293.89</td>\n",
       "    </tr>\n",
       "    <tr>\n",
       "      <th>2018-03-21</th>\n",
       "      <td>290.49</td>\n",
       "    </tr>\n",
       "    <tr>\n",
       "      <th>2018-03-22</th>\n",
       "      <td>286.35</td>\n",
       "    </tr>\n",
       "    <tr>\n",
       "      <th>2018-03-23</th>\n",
       "      <td>299.17</td>\n",
       "    </tr>\n",
       "  </tbody>\n",
       "</table>\n",
       "</div>"
      ],
      "text/plain": [
       "            Predicted\n",
       "2018-03-19     294.55\n",
       "2018-03-20     293.89\n",
       "2018-03-21     290.49\n",
       "2018-03-22     286.35\n",
       "2018-03-23     299.17"
      ]
     },
     "execution_count": 1382,
     "metadata": {},
     "output_type": "execute_result"
    }
   ],
   "source": [
    "stock_later = lm.predict(X_predict)\n",
    "\n",
    "days = pd.DatetimeIndex(pd.date_range(datetime(2018, 3, 19), datetime(2018, 3, 19) + timedelta(4), freq='D'))\n",
    "stock_future = pd.Series(stock_later, index=days)\n",
    "stock_future = pd.DataFrame({'Predicted':stock_future}).set_index(days).round(2)\n",
    "stock_future"
   ]
  },
  {
   "cell_type": "code",
   "execution_count": 1383,
   "metadata": {},
   "outputs": [
    {
     "data": {
      "text/plain": [
       "305.4"
      ]
     },
     "execution_count": 1383,
     "metadata": {},
     "output_type": "execute_result"
    }
   ],
   "source": [
    "L_i = stock['Close'].loc['2018-03-16']\n",
    "L_i"
   ]
  },
  {
   "cell_type": "code",
   "execution_count": 1384,
   "metadata": {},
   "outputs": [
    {
     "data": {
      "text/plain": [
       "294.55"
      ]
     },
     "execution_count": 1384,
     "metadata": {},
     "output_type": "execute_result"
    }
   ],
   "source": [
    "L_f = stock_future['Predicted'].loc['2018-03-19']\n",
    "L_f"
   ]
  },
  {
   "cell_type": "code",
   "execution_count": 1385,
   "metadata": {},
   "outputs": [
    {
     "data": {
      "text/html": [
       "<div>\n",
       "<style scoped>\n",
       "    .dataframe tbody tr th:only-of-type {\n",
       "        vertical-align: middle;\n",
       "    }\n",
       "\n",
       "    .dataframe tbody tr th {\n",
       "        vertical-align: top;\n",
       "    }\n",
       "\n",
       "    .dataframe thead th {\n",
       "        text-align: right;\n",
       "    }\n",
       "</style>\n",
       "<table border=\"1\" class=\"dataframe\">\n",
       "  <thead>\n",
       "    <tr style=\"text-align: right;\">\n",
       "      <th></th>\n",
       "      <th>Predicted</th>\n",
       "    </tr>\n",
       "  </thead>\n",
       "  <tbody>\n",
       "    <tr>\n",
       "      <th>2018-03-16</th>\n",
       "      <td>305.40</td>\n",
       "    </tr>\n",
       "    <tr>\n",
       "      <th>2018-03-19</th>\n",
       "      <td>294.55</td>\n",
       "    </tr>\n",
       "  </tbody>\n",
       "</table>\n",
       "</div>"
      ],
      "text/plain": [
       "            Predicted\n",
       "2018-03-16     305.40\n",
       "2018-03-19     294.55"
      ]
     },
     "execution_count": 1385,
     "metadata": {},
     "output_type": "execute_result"
    }
   ],
   "source": [
    "Linkdays = pd.DatetimeIndex(pd.date_range(datetime(2018, 3, 16), periods=2, freq=\"3D\"))\n",
    "Linkdays\n",
    "stock_link = pd.DataFrame({'Predicted':[L_i,L_f]}, index=Linkdays)\n",
    "stock_link"
   ]
  },
  {
   "cell_type": "code",
   "execution_count": 1386,
   "metadata": {},
   "outputs": [
    {
     "data": {
      "text/html": [
       "<div>\n",
       "<style scoped>\n",
       "    .dataframe tbody tr th:only-of-type {\n",
       "        vertical-align: middle;\n",
       "    }\n",
       "\n",
       "    .dataframe tbody tr th {\n",
       "        vertical-align: top;\n",
       "    }\n",
       "\n",
       "    .dataframe thead th {\n",
       "        text-align: right;\n",
       "    }\n",
       "</style>\n",
       "<table border=\"1\" class=\"dataframe\">\n",
       "  <thead>\n",
       "    <tr style=\"text-align: right;\">\n",
       "      <th></th>\n",
       "      <th>Predicted</th>\n",
       "    </tr>\n",
       "  </thead>\n",
       "  <tbody>\n",
       "    <tr>\n",
       "      <th>2018-03-16</th>\n",
       "      <td>305.40</td>\n",
       "    </tr>\n",
       "    <tr>\n",
       "      <th>2018-03-19</th>\n",
       "      <td>294.55</td>\n",
       "    </tr>\n",
       "    <tr>\n",
       "      <th>2018-03-20</th>\n",
       "      <td>293.89</td>\n",
       "    </tr>\n",
       "    <tr>\n",
       "      <th>2018-03-21</th>\n",
       "      <td>290.49</td>\n",
       "    </tr>\n",
       "    <tr>\n",
       "      <th>2018-03-22</th>\n",
       "      <td>286.35</td>\n",
       "    </tr>\n",
       "    <tr>\n",
       "      <th>2018-03-23</th>\n",
       "      <td>299.17</td>\n",
       "    </tr>\n",
       "  </tbody>\n",
       "</table>\n",
       "</div>"
      ],
      "text/plain": [
       "            Predicted\n",
       "2018-03-16     305.40\n",
       "2018-03-19     294.55\n",
       "2018-03-20     293.89\n",
       "2018-03-21     290.49\n",
       "2018-03-22     286.35\n",
       "2018-03-23     299.17"
      ]
     },
     "execution_count": 1386,
     "metadata": {},
     "output_type": "execute_result"
    }
   ],
   "source": [
    "stock_Future = stock_link.combine_first(stock_future)\n",
    "stock_Future"
   ]
  },
  {
   "cell_type": "code",
   "execution_count": 1387,
   "metadata": {},
   "outputs": [
    {
     "data": {
      "image/png": "[encoded data removed]",
      "text/plain": [
       "<matplotlib.figure.Figure at 0x618382d4a8>"
      ]
     },
     "metadata": {},
     "output_type": "display_data"
    }
   ],
   "source": [
    "plt.figure(figsize=(20,6))\n",
    "plt.title(stock_name, fontsize=25)\n",
    "\n",
    "stock['Close'].plot(label='Actual Values', color=actual_color)\n",
    "stock_Future['Predicted'].plot(label='Predicted Values', color=pred_color)\n",
    "\n",
    "\n",
    "plt.legend()\n",
    "plt.ylabel('Closing Price (₱)', fontsize=15)\n",
    "plt.xlabel('Date', fontsize=15)\n",
    "plt.xlim(xmin=stock.index[0],xmax=stock_Future.index[-1])\n",
    "plt.xticks(ha='center')\n",
    "\n",
    "plt.tight_layout()"
   ]
  },
  {
   "cell_type": "code",
   "execution_count": 1388,
   "metadata": {},
   "outputs": [
    {
     "data": {
      "image/png": "[encoded data removed]",
      "text/plain": [
       "<matplotlib.figure.Figure at 0x6186274860>"
      ]
     },
     "metadata": {},
     "output_type": "display_data"
    }
   ],
   "source": [
    "plt.figure(figsize=(12,6))\n",
    "plt.title(stock_name, fontsize=25)\n",
    "\n",
    "stock['Close'].plot(label='Actual Values', color=actual_color)\n",
    "stock_Future['Predicted'].plot(label='Predicted Values', color=pred_color)\n",
    "\n",
    "\n",
    "plt.legend()\n",
    "plt.ylabel('Closing Price (₱)', fontsize=15)\n",
    "plt.xlabel('Date', fontsize=15)\n",
    "plt.xlim(xmin=stock.index[-30], xmax=stock_Future.index[-1])\n",
    "plt.xticks(ha='center')\n",
    "\n",
    "plt.tight_layout()"
   ]
  },
  {
   "cell_type": "code",
   "execution_count": 1389,
   "metadata": {},
   "outputs": [
    {
     "data": {
      "image/png": "[encoded data removed]",
      "text/plain": [
       "<matplotlib.figure.Figure at 0x6182bdae48>"
      ]
     },
     "metadata": {},
     "output_type": "display_data"
    }
   ],
   "source": [
    "plt.figure(figsize=(8,6))\n",
    "plt.title(stock_name, fontsize=25)\n",
    "\n",
    "stock['Close'].plot(label='Actual Values', color=actual_color)\n",
    "stock_Future['Predicted'].plot(label='Predicted Values', color=pred_color)\n",
    "\n",
    "\n",
    "plt.legend()\n",
    "plt.ylabel('Closing Price (₱)', fontsize=15)\n",
    "plt.xlabel('Date', fontsize=15)\n",
    "plt.xlim(xmin=stock.index[-19], xmax=stock_Future.index[-1])\n",
    "plt.xticks(ha='center')\n",
    "\n",
    "plt.tight_layout()"
   ]
  },
  {
   "cell_type": "code",
   "execution_count": 1390,
   "metadata": {
    "scrolled": true
   },
   "outputs": [
    {
     "data": {
      "image/png": "[encoded data removed]",
      "text/plain": [
       "<matplotlib.figure.Figure at 0x6185945b38>"
      ]
     },
     "metadata": {},
     "output_type": "display_data"
    }
   ],
   "source": [
    "plt.figure(figsize=(8,4))\n",
    "plt.title(stock_name+': Predicted Closing Prices from 3/19/2018 to 3/23/2018', fontsize=15)\n",
    "\n",
    "stock['Close'].plot(label='Actual Price', color=actual_color, legend=True)\n",
    "stock_Future['Predicted'].plot(label='Predicted Price', color=pred_color, legend=True)\n",
    "\n",
    "for i, txt in enumerate(stock_future['Predicted']):\n",
    "    plt.annotate(txt, (stock_future.index[i],stock_future['Predicted'][i]), \n",
    "                xytext=(stock_future.index[i],stock_future['Predicted'][i]+3),\n",
    "                horizontalalignment='center', verticalalignment='bottom')\n",
    "                #arrowprops=dict(arrowstyle=\"-\",color=pred_color))\n",
    "    \n",
    "for i, txt in enumerate(stock_c['Actual']):\n",
    "    plt.annotate(txt, (stock_c.index[i],stock_c['Actual'][i]), \n",
    "                xytext=(stock_c.index[i],stock_c['Actual'][i]-6),\n",
    "                horizontalalignment='center', verticalalignment='bottom')\n",
    "                #arrowprops=dict(arrowstyle=\"-\",color=actual_color))\n",
    "\n",
    "plt.scatter(stock_c.index,stock_c['Actual'], s=15, color =actual_color)   \n",
    "plt.scatter(stock_Future.index,stock_Future['Predicted'], s=15, color=pred_color)  \n",
    "\n",
    "plt.ylabel('Closing Price (₱)', fontsize=15)\n",
    "plt.xlabel('Date', fontsize=15)\n",
    "plt.xlim('2018-03-04', '2018-03-25')\n",
    "plt.ylim(ymin=270, ymax=320)\n",
    "plt.xticks(ha='center')\n",
    "\n",
    "plt.tight_layout()"
   ]
  },
  {
   "cell_type": "code",
   "execution_count": null,
   "metadata": {},
   "outputs": [],
   "source": []
  }
 ],
 "metadata": {
  "kernelspec": {
   "display_name": "Python 3",
   "language": "python",
   "name": "python3"
  },
  "language_info": {
   "codemirror_mode": {
    "name": "ipython",
    "version": 3
   },
   "file_extension": ".py",
   "mimetype": "text/x-python",
   "name": "python",
   "nbconvert_exporter": "python",
   "pygments_lexer": "ipython3",
   "version": "3.6.4"
  }
 },
 "nbformat": 4,
 "nbformat_minor": 2
}
