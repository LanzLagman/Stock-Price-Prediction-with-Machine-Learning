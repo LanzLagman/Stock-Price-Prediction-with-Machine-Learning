{
 "cells": [
  {
   "cell_type": "markdown",
   "metadata": {},
   "source": [
    "# Prediction of Future Closing Stock Prices with Machine Learning v1.2"
   ]
  },
  {
   "cell_type": "markdown",
   "metadata": {},
   "source": [
    "## Preliminaries: Import Libraries"
   ]
  },
  {
   "cell_type": "code",
   "execution_count": 1,
   "metadata": {},
   "outputs": [],
   "source": [
    "import numpy as np\n",
    "import pandas as pd\n",
    "import matplotlib.pyplot as plt\n",
    "%matplotlib inline\n",
    "import seaborn as sns"
   ]
  },
  {
   "cell_type": "markdown",
   "metadata": {},
   "source": [
    "## Part 1.1: Predict JFC stocks from 3/5/18 up to the present day then compare with latest      WSJ Data "
   ]
  },
  {
   "cell_type": "markdown",
   "metadata": {},
   "source": [
    "Since Google Finance data is not currently updated, we could get data from Wall Street Journal. Instead of using an API, we have to download csv files from the website.\n",
    "Download csv file of JFC prices from 2013-1-1 up to the latest.\n",
    "\n",
    "Source: http://quotes.wsj.com/PH/XPHS/JFC/historical-prices"
   ]
  },
  {
   "cell_type": "markdown",
   "metadata": {},
   "source": [
    "Import data as a Pandas dataframe."
   ]
  },
  {
   "cell_type": "code",
   "execution_count": 2,
   "metadata": {},
   "outputs": [],
   "source": [
    "stock = pd.read_csv('JFC_WSJ.csv')"
   ]
  },
  {
   "cell_type": "markdown",
   "metadata": {},
   "source": [
    "Inspect dataframe."
   ]
  },
  {
   "cell_type": "code",
   "execution_count": 3,
   "metadata": {
    "scrolled": true
   },
   "outputs": [
    {
     "data": {
      "text/plain": [
       "Index(['Date', ' Open', ' High', ' Low', ' Close', ' Volume'], dtype='object')"
      ]
     },
     "execution_count": 3,
     "metadata": {},
     "output_type": "execute_result"
    }
   ],
   "source": [
    "stock.columns"
   ]
  },
  {
   "cell_type": "markdown",
   "metadata": {},
   "source": [
    "## 1.2: Data Cleaning "
   ]
  },
  {
   "cell_type": "markdown",
   "metadata": {},
   "source": [
    "Remove spaces from column names by renaming them."
   ]
  },
  {
   "cell_type": "code",
   "execution_count": 4,
   "metadata": {},
   "outputs": [
    {
     "data": {
      "text/plain": [
       "Index(['Date', 'Open', 'High', 'Low', 'Close', 'Volume'], dtype='object')"
      ]
     },
     "execution_count": 4,
     "metadata": {},
     "output_type": "execute_result"
    }
   ],
   "source": [
    "stock.rename(columns=lambda x: x.strip(), inplace=True)\n",
    "stock.columns"
   ]
  },
  {
   "cell_type": "markdown",
   "metadata": {},
   "source": [
    "Inspect the data types of each column, then the first 5 and last 5 rows of the dataframe."
   ]
  },
  {
   "cell_type": "code",
   "execution_count": 5,
   "metadata": {
    "scrolled": false
   },
   "outputs": [
    {
     "name": "stdout",
     "output_type": "stream",
     "text": [
      "<class 'pandas.core.frame.DataFrame'>\n",
      "RangeIndex: 1276 entries, 0 to 1275\n",
      "Data columns (total 6 columns):\n",
      "Date      1276 non-null object\n",
      "Open      1276 non-null float64\n",
      "High      1276 non-null float64\n",
      "Low       1276 non-null float64\n",
      "Close     1276 non-null float64\n",
      "Volume    1276 non-null int64\n",
      "dtypes: float64(4), int64(1), object(1)\n",
      "memory usage: 59.9+ KB\n"
     ]
    }
   ],
   "source": [
    "stock.info()"
   ]
  },
  {
   "cell_type": "code",
   "execution_count": 6,
   "metadata": {},
   "outputs": [
    {
     "data": {
      "text/html": [
       "<div>\n",
       "<style scoped>\n",
       "    .dataframe tbody tr th:only-of-type {\n",
       "        vertical-align: middle;\n",
       "    }\n",
       "\n",
       "    .dataframe tbody tr th {\n",
       "        vertical-align: top;\n",
       "    }\n",
       "\n",
       "    .dataframe thead th {\n",
       "        text-align: right;\n",
       "    }\n",
       "</style>\n",
       "<table border=\"1\" class=\"dataframe\">\n",
       "  <thead>\n",
       "    <tr style=\"text-align: right;\">\n",
       "      <th></th>\n",
       "      <th>Date</th>\n",
       "      <th>Open</th>\n",
       "      <th>High</th>\n",
       "      <th>Low</th>\n",
       "      <th>Close</th>\n",
       "      <th>Volume</th>\n",
       "    </tr>\n",
       "  </thead>\n",
       "  <tbody>\n",
       "    <tr>\n",
       "      <th>0</th>\n",
       "      <td>03/28/18</td>\n",
       "      <td>295.0</td>\n",
       "      <td>299.0</td>\n",
       "      <td>292.0</td>\n",
       "      <td>299.0</td>\n",
       "      <td>759390</td>\n",
       "    </tr>\n",
       "    <tr>\n",
       "      <th>1</th>\n",
       "      <td>03/27/18</td>\n",
       "      <td>295.0</td>\n",
       "      <td>297.0</td>\n",
       "      <td>289.4</td>\n",
       "      <td>294.4</td>\n",
       "      <td>356420</td>\n",
       "    </tr>\n",
       "    <tr>\n",
       "      <th>2</th>\n",
       "      <td>03/26/18</td>\n",
       "      <td>286.6</td>\n",
       "      <td>295.0</td>\n",
       "      <td>282.0</td>\n",
       "      <td>295.0</td>\n",
       "      <td>404650</td>\n",
       "    </tr>\n",
       "    <tr>\n",
       "      <th>3</th>\n",
       "      <td>03/23/18</td>\n",
       "      <td>285.0</td>\n",
       "      <td>288.0</td>\n",
       "      <td>280.0</td>\n",
       "      <td>288.0</td>\n",
       "      <td>864870</td>\n",
       "    </tr>\n",
       "    <tr>\n",
       "      <th>4</th>\n",
       "      <td>03/22/18</td>\n",
       "      <td>285.4</td>\n",
       "      <td>288.0</td>\n",
       "      <td>282.4</td>\n",
       "      <td>286.8</td>\n",
       "      <td>573890</td>\n",
       "    </tr>\n",
       "  </tbody>\n",
       "</table>\n",
       "</div>"
      ],
      "text/plain": [
       "       Date   Open   High    Low  Close  Volume\n",
       "0  03/28/18  295.0  299.0  292.0  299.0  759390\n",
       "1  03/27/18  295.0  297.0  289.4  294.4  356420\n",
       "2  03/26/18  286.6  295.0  282.0  295.0  404650\n",
       "3  03/23/18  285.0  288.0  280.0  288.0  864870\n",
       "4  03/22/18  285.4  288.0  282.4  286.8  573890"
      ]
     },
     "execution_count": 6,
     "metadata": {},
     "output_type": "execute_result"
    }
   ],
   "source": [
    "stock.head()"
   ]
  },
  {
   "cell_type": "code",
   "execution_count": 7,
   "metadata": {},
   "outputs": [
    {
     "data": {
      "text/html": [
       "<div>\n",
       "<style scoped>\n",
       "    .dataframe tbody tr th:only-of-type {\n",
       "        vertical-align: middle;\n",
       "    }\n",
       "\n",
       "    .dataframe tbody tr th {\n",
       "        vertical-align: top;\n",
       "    }\n",
       "\n",
       "    .dataframe thead th {\n",
       "        text-align: right;\n",
       "    }\n",
       "</style>\n",
       "<table border=\"1\" class=\"dataframe\">\n",
       "  <thead>\n",
       "    <tr style=\"text-align: right;\">\n",
       "      <th></th>\n",
       "      <th>Date</th>\n",
       "      <th>Open</th>\n",
       "      <th>High</th>\n",
       "      <th>Low</th>\n",
       "      <th>Close</th>\n",
       "      <th>Volume</th>\n",
       "    </tr>\n",
       "  </thead>\n",
       "  <tbody>\n",
       "    <tr>\n",
       "      <th>1271</th>\n",
       "      <td>01/08/13</td>\n",
       "      <td>107.1</td>\n",
       "      <td>107.7</td>\n",
       "      <td>107.1</td>\n",
       "      <td>107.3</td>\n",
       "      <td>389530</td>\n",
       "    </tr>\n",
       "    <tr>\n",
       "      <th>1272</th>\n",
       "      <td>01/07/13</td>\n",
       "      <td>107.5</td>\n",
       "      <td>107.5</td>\n",
       "      <td>106.7</td>\n",
       "      <td>107.0</td>\n",
       "      <td>719780</td>\n",
       "    </tr>\n",
       "    <tr>\n",
       "      <th>1273</th>\n",
       "      <td>01/04/13</td>\n",
       "      <td>107.0</td>\n",
       "      <td>107.6</td>\n",
       "      <td>107.0</td>\n",
       "      <td>107.6</td>\n",
       "      <td>548040</td>\n",
       "    </tr>\n",
       "    <tr>\n",
       "      <th>1274</th>\n",
       "      <td>01/03/13</td>\n",
       "      <td>104.8</td>\n",
       "      <td>107.5</td>\n",
       "      <td>104.8</td>\n",
       "      <td>107.2</td>\n",
       "      <td>684290</td>\n",
       "    </tr>\n",
       "    <tr>\n",
       "      <th>1275</th>\n",
       "      <td>01/02/13</td>\n",
       "      <td>102.0</td>\n",
       "      <td>104.5</td>\n",
       "      <td>102.0</td>\n",
       "      <td>104.2</td>\n",
       "      <td>125900</td>\n",
       "    </tr>\n",
       "  </tbody>\n",
       "</table>\n",
       "</div>"
      ],
      "text/plain": [
       "          Date   Open   High    Low  Close  Volume\n",
       "1271  01/08/13  107.1  107.7  107.1  107.3  389530\n",
       "1272  01/07/13  107.5  107.5  106.7  107.0  719780\n",
       "1273  01/04/13  107.0  107.6  107.0  107.6  548040\n",
       "1274  01/03/13  104.8  107.5  104.8  107.2  684290\n",
       "1275  01/02/13  102.0  104.5  102.0  104.2  125900"
      ]
     },
     "execution_count": 7,
     "metadata": {},
     "output_type": "execute_result"
    }
   ],
   "source": [
    "stock.tail()"
   ]
  },
  {
   "cell_type": "markdown",
   "metadata": {},
   "source": [
    "Find nan values. Replace them with -999999 if there are present."
   ]
  },
  {
   "cell_type": "code",
   "execution_count": 8,
   "metadata": {},
   "outputs": [
    {
     "data": {
      "text/plain": [
       "Date      0\n",
       "Open      0\n",
       "High      0\n",
       "Low       0\n",
       "Close     0\n",
       "Volume    0\n",
       "dtype: int64"
      ]
     },
     "execution_count": 8,
     "metadata": {},
     "output_type": "execute_result"
    }
   ],
   "source": [
    "stock.isnull().sum()"
   ]
  },
  {
   "cell_type": "markdown",
   "metadata": {},
   "source": [
    "No NaN values!!!\n",
    "However, we have to rearrange the data from descending to ascending order."
   ]
  },
  {
   "cell_type": "code",
   "execution_count": 9,
   "metadata": {
    "scrolled": true
   },
   "outputs": [],
   "source": [
    "stock = stock.reindex(index=stock.index[::-1]).reset_index(drop=True)"
   ]
  },
  {
   "cell_type": "code",
   "execution_count": 10,
   "metadata": {
    "scrolled": true
   },
   "outputs": [
    {
     "data": {
      "text/html": [
       "<div>\n",
       "<style scoped>\n",
       "    .dataframe tbody tr th:only-of-type {\n",
       "        vertical-align: middle;\n",
       "    }\n",
       "\n",
       "    .dataframe tbody tr th {\n",
       "        vertical-align: top;\n",
       "    }\n",
       "\n",
       "    .dataframe thead th {\n",
       "        text-align: right;\n",
       "    }\n",
       "</style>\n",
       "<table border=\"1\" class=\"dataframe\">\n",
       "  <thead>\n",
       "    <tr style=\"text-align: right;\">\n",
       "      <th></th>\n",
       "      <th>Date</th>\n",
       "      <th>Open</th>\n",
       "      <th>High</th>\n",
       "      <th>Low</th>\n",
       "      <th>Close</th>\n",
       "      <th>Volume</th>\n",
       "    </tr>\n",
       "  </thead>\n",
       "  <tbody>\n",
       "    <tr>\n",
       "      <th>0</th>\n",
       "      <td>01/02/13</td>\n",
       "      <td>102.0</td>\n",
       "      <td>104.5</td>\n",
       "      <td>102.0</td>\n",
       "      <td>104.2</td>\n",
       "      <td>125900</td>\n",
       "    </tr>\n",
       "    <tr>\n",
       "      <th>1</th>\n",
       "      <td>01/03/13</td>\n",
       "      <td>104.8</td>\n",
       "      <td>107.5</td>\n",
       "      <td>104.8</td>\n",
       "      <td>107.2</td>\n",
       "      <td>684290</td>\n",
       "    </tr>\n",
       "    <tr>\n",
       "      <th>2</th>\n",
       "      <td>01/04/13</td>\n",
       "      <td>107.0</td>\n",
       "      <td>107.6</td>\n",
       "      <td>107.0</td>\n",
       "      <td>107.6</td>\n",
       "      <td>548040</td>\n",
       "    </tr>\n",
       "    <tr>\n",
       "      <th>3</th>\n",
       "      <td>01/07/13</td>\n",
       "      <td>107.5</td>\n",
       "      <td>107.5</td>\n",
       "      <td>106.7</td>\n",
       "      <td>107.0</td>\n",
       "      <td>719780</td>\n",
       "    </tr>\n",
       "    <tr>\n",
       "      <th>4</th>\n",
       "      <td>01/08/13</td>\n",
       "      <td>107.1</td>\n",
       "      <td>107.7</td>\n",
       "      <td>107.1</td>\n",
       "      <td>107.3</td>\n",
       "      <td>389530</td>\n",
       "    </tr>\n",
       "  </tbody>\n",
       "</table>\n",
       "</div>"
      ],
      "text/plain": [
       "       Date   Open   High    Low  Close  Volume\n",
       "0  01/02/13  102.0  104.5  102.0  104.2  125900\n",
       "1  01/03/13  104.8  107.5  104.8  107.2  684290\n",
       "2  01/04/13  107.0  107.6  107.0  107.6  548040\n",
       "3  01/07/13  107.5  107.5  106.7  107.0  719780\n",
       "4  01/08/13  107.1  107.7  107.1  107.3  389530"
      ]
     },
     "execution_count": 10,
     "metadata": {},
     "output_type": "execute_result"
    }
   ],
   "source": [
    "stock.head()"
   ]
  },
  {
   "cell_type": "code",
   "execution_count": 11,
   "metadata": {
    "scrolled": true
   },
   "outputs": [
    {
     "data": {
      "text/html": [
       "<div>\n",
       "<style scoped>\n",
       "    .dataframe tbody tr th:only-of-type {\n",
       "        vertical-align: middle;\n",
       "    }\n",
       "\n",
       "    .dataframe tbody tr th {\n",
       "        vertical-align: top;\n",
       "    }\n",
       "\n",
       "    .dataframe thead th {\n",
       "        text-align: right;\n",
       "    }\n",
       "</style>\n",
       "<table border=\"1\" class=\"dataframe\">\n",
       "  <thead>\n",
       "    <tr style=\"text-align: right;\">\n",
       "      <th></th>\n",
       "      <th>Date</th>\n",
       "      <th>Open</th>\n",
       "      <th>High</th>\n",
       "      <th>Low</th>\n",
       "      <th>Close</th>\n",
       "      <th>Volume</th>\n",
       "    </tr>\n",
       "  </thead>\n",
       "  <tbody>\n",
       "    <tr>\n",
       "      <th>1271</th>\n",
       "      <td>03/22/18</td>\n",
       "      <td>285.4</td>\n",
       "      <td>288.0</td>\n",
       "      <td>282.4</td>\n",
       "      <td>286.8</td>\n",
       "      <td>573890</td>\n",
       "    </tr>\n",
       "    <tr>\n",
       "      <th>1272</th>\n",
       "      <td>03/23/18</td>\n",
       "      <td>285.0</td>\n",
       "      <td>288.0</td>\n",
       "      <td>280.0</td>\n",
       "      <td>288.0</td>\n",
       "      <td>864870</td>\n",
       "    </tr>\n",
       "    <tr>\n",
       "      <th>1273</th>\n",
       "      <td>03/26/18</td>\n",
       "      <td>286.6</td>\n",
       "      <td>295.0</td>\n",
       "      <td>282.0</td>\n",
       "      <td>295.0</td>\n",
       "      <td>404650</td>\n",
       "    </tr>\n",
       "    <tr>\n",
       "      <th>1274</th>\n",
       "      <td>03/27/18</td>\n",
       "      <td>295.0</td>\n",
       "      <td>297.0</td>\n",
       "      <td>289.4</td>\n",
       "      <td>294.4</td>\n",
       "      <td>356420</td>\n",
       "    </tr>\n",
       "    <tr>\n",
       "      <th>1275</th>\n",
       "      <td>03/28/18</td>\n",
       "      <td>295.0</td>\n",
       "      <td>299.0</td>\n",
       "      <td>292.0</td>\n",
       "      <td>299.0</td>\n",
       "      <td>759390</td>\n",
       "    </tr>\n",
       "  </tbody>\n",
       "</table>\n",
       "</div>"
      ],
      "text/plain": [
       "          Date   Open   High    Low  Close  Volume\n",
       "1271  03/22/18  285.4  288.0  282.4  286.8  573890\n",
       "1272  03/23/18  285.0  288.0  280.0  288.0  864870\n",
       "1273  03/26/18  286.6  295.0  282.0  295.0  404650\n",
       "1274  03/27/18  295.0  297.0  289.4  294.4  356420\n",
       "1275  03/28/18  295.0  299.0  292.0  299.0  759390"
      ]
     },
     "execution_count": 11,
     "metadata": {},
     "output_type": "execute_result"
    }
   ],
   "source": [
    "stock.tail()"
   ]
  },
  {
   "cell_type": "markdown",
   "metadata": {},
   "source": [
    "Convert 'Date' column as datetime objects and set it as index column."
   ]
  },
  {
   "cell_type": "code",
   "execution_count": 12,
   "metadata": {},
   "outputs": [],
   "source": [
    "stock['Date'] = pd.to_datetime(stock['Date'], infer_datetime_format=True)"
   ]
  },
  {
   "cell_type": "code",
   "execution_count": 13,
   "metadata": {},
   "outputs": [],
   "source": [
    "stock.set_index('Date',inplace=True)"
   ]
  },
  {
   "cell_type": "code",
   "execution_count": 14,
   "metadata": {
    "scrolled": true
   },
   "outputs": [
    {
     "name": "stdout",
     "output_type": "stream",
     "text": [
      "<class 'pandas.core.frame.DataFrame'>\n",
      "DatetimeIndex: 1276 entries, 2013-01-02 to 2018-03-28\n",
      "Data columns (total 5 columns):\n",
      "Open      1276 non-null float64\n",
      "High      1276 non-null float64\n",
      "Low       1276 non-null float64\n",
      "Close     1276 non-null float64\n",
      "Volume    1276 non-null int64\n",
      "dtypes: float64(4), int64(1)\n",
      "memory usage: 59.8 KB\n"
     ]
    }
   ],
   "source": [
    "stock.info()"
   ]
  },
  {
   "cell_type": "code",
   "execution_count": 15,
   "metadata": {},
   "outputs": [
    {
     "data": {
      "text/plain": [
       "pandas.core.indexes.datetimes.DatetimeIndex"
      ]
     },
     "execution_count": 15,
     "metadata": {},
     "output_type": "execute_result"
    }
   ],
   "source": [
    "type(stock.index)"
   ]
  },
  {
   "cell_type": "code",
   "execution_count": 16,
   "metadata": {
    "scrolled": true
   },
   "outputs": [
    {
     "data": {
      "text/html": [
       "<div>\n",
       "<style scoped>\n",
       "    .dataframe tbody tr th:only-of-type {\n",
       "        vertical-align: middle;\n",
       "    }\n",
       "\n",
       "    .dataframe tbody tr th {\n",
       "        vertical-align: top;\n",
       "    }\n",
       "\n",
       "    .dataframe thead th {\n",
       "        text-align: right;\n",
       "    }\n",
       "</style>\n",
       "<table border=\"1\" class=\"dataframe\">\n",
       "  <thead>\n",
       "    <tr style=\"text-align: right;\">\n",
       "      <th></th>\n",
       "      <th>Open</th>\n",
       "      <th>High</th>\n",
       "      <th>Low</th>\n",
       "      <th>Close</th>\n",
       "      <th>Volume</th>\n",
       "    </tr>\n",
       "    <tr>\n",
       "      <th>Date</th>\n",
       "      <th></th>\n",
       "      <th></th>\n",
       "      <th></th>\n",
       "      <th></th>\n",
       "      <th></th>\n",
       "    </tr>\n",
       "  </thead>\n",
       "  <tbody>\n",
       "    <tr>\n",
       "      <th>2018-03-22</th>\n",
       "      <td>285.4</td>\n",
       "      <td>288.0</td>\n",
       "      <td>282.4</td>\n",
       "      <td>286.8</td>\n",
       "      <td>573890</td>\n",
       "    </tr>\n",
       "    <tr>\n",
       "      <th>2018-03-23</th>\n",
       "      <td>285.0</td>\n",
       "      <td>288.0</td>\n",
       "      <td>280.0</td>\n",
       "      <td>288.0</td>\n",
       "      <td>864870</td>\n",
       "    </tr>\n",
       "    <tr>\n",
       "      <th>2018-03-26</th>\n",
       "      <td>286.6</td>\n",
       "      <td>295.0</td>\n",
       "      <td>282.0</td>\n",
       "      <td>295.0</td>\n",
       "      <td>404650</td>\n",
       "    </tr>\n",
       "    <tr>\n",
       "      <th>2018-03-27</th>\n",
       "      <td>295.0</td>\n",
       "      <td>297.0</td>\n",
       "      <td>289.4</td>\n",
       "      <td>294.4</td>\n",
       "      <td>356420</td>\n",
       "    </tr>\n",
       "    <tr>\n",
       "      <th>2018-03-28</th>\n",
       "      <td>295.0</td>\n",
       "      <td>299.0</td>\n",
       "      <td>292.0</td>\n",
       "      <td>299.0</td>\n",
       "      <td>759390</td>\n",
       "    </tr>\n",
       "  </tbody>\n",
       "</table>\n",
       "</div>"
      ],
      "text/plain": [
       "             Open   High    Low  Close  Volume\n",
       "Date                                          \n",
       "2018-03-22  285.4  288.0  282.4  286.8  573890\n",
       "2018-03-23  285.0  288.0  280.0  288.0  864870\n",
       "2018-03-26  286.6  295.0  282.0  295.0  404650\n",
       "2018-03-27  295.0  297.0  289.4  294.4  356420\n",
       "2018-03-28  295.0  299.0  292.0  299.0  759390"
      ]
     },
     "execution_count": 16,
     "metadata": {},
     "output_type": "execute_result"
    }
   ],
   "source": [
    "stock.tail()"
   ]
  },
  {
   "cell_type": "code",
   "execution_count": 17,
   "metadata": {},
   "outputs": [],
   "source": [
    "stock['HL_PCT'] = (stock['High'] - stock['Close']) / stock['Close'] * 100\n",
    "stock['PCT_change'] = (stock['High']-stock['Open']) / stock['Open'] * 100"
   ]
  },
  {
   "cell_type": "code",
   "execution_count": 18,
   "metadata": {},
   "outputs": [
    {
     "data": {
      "text/html": [
       "<div>\n",
       "<style scoped>\n",
       "    .dataframe tbody tr th:only-of-type {\n",
       "        vertical-align: middle;\n",
       "    }\n",
       "\n",
       "    .dataframe tbody tr th {\n",
       "        vertical-align: top;\n",
       "    }\n",
       "\n",
       "    .dataframe thead th {\n",
       "        text-align: right;\n",
       "    }\n",
       "</style>\n",
       "<table border=\"1\" class=\"dataframe\">\n",
       "  <thead>\n",
       "    <tr style=\"text-align: right;\">\n",
       "      <th></th>\n",
       "      <th>Open</th>\n",
       "      <th>High</th>\n",
       "      <th>Low</th>\n",
       "      <th>Close</th>\n",
       "      <th>Volume</th>\n",
       "      <th>HL_PCT</th>\n",
       "      <th>PCT_change</th>\n",
       "    </tr>\n",
       "    <tr>\n",
       "      <th>Date</th>\n",
       "      <th></th>\n",
       "      <th></th>\n",
       "      <th></th>\n",
       "      <th></th>\n",
       "      <th></th>\n",
       "      <th></th>\n",
       "      <th></th>\n",
       "    </tr>\n",
       "  </thead>\n",
       "  <tbody>\n",
       "    <tr>\n",
       "      <th>2018-03-22</th>\n",
       "      <td>285.4</td>\n",
       "      <td>288.0</td>\n",
       "      <td>282.4</td>\n",
       "      <td>286.8</td>\n",
       "      <td>573890</td>\n",
       "      <td>0.418410</td>\n",
       "      <td>0.911002</td>\n",
       "    </tr>\n",
       "    <tr>\n",
       "      <th>2018-03-23</th>\n",
       "      <td>285.0</td>\n",
       "      <td>288.0</td>\n",
       "      <td>280.0</td>\n",
       "      <td>288.0</td>\n",
       "      <td>864870</td>\n",
       "      <td>0.000000</td>\n",
       "      <td>1.052632</td>\n",
       "    </tr>\n",
       "    <tr>\n",
       "      <th>2018-03-26</th>\n",
       "      <td>286.6</td>\n",
       "      <td>295.0</td>\n",
       "      <td>282.0</td>\n",
       "      <td>295.0</td>\n",
       "      <td>404650</td>\n",
       "      <td>0.000000</td>\n",
       "      <td>2.930914</td>\n",
       "    </tr>\n",
       "    <tr>\n",
       "      <th>2018-03-27</th>\n",
       "      <td>295.0</td>\n",
       "      <td>297.0</td>\n",
       "      <td>289.4</td>\n",
       "      <td>294.4</td>\n",
       "      <td>356420</td>\n",
       "      <td>0.883152</td>\n",
       "      <td>0.677966</td>\n",
       "    </tr>\n",
       "    <tr>\n",
       "      <th>2018-03-28</th>\n",
       "      <td>295.0</td>\n",
       "      <td>299.0</td>\n",
       "      <td>292.0</td>\n",
       "      <td>299.0</td>\n",
       "      <td>759390</td>\n",
       "      <td>0.000000</td>\n",
       "      <td>1.355932</td>\n",
       "    </tr>\n",
       "  </tbody>\n",
       "</table>\n",
       "</div>"
      ],
      "text/plain": [
       "             Open   High    Low  Close  Volume    HL_PCT  PCT_change\n",
       "Date                                                                \n",
       "2018-03-22  285.4  288.0  282.4  286.8  573890  0.418410    0.911002\n",
       "2018-03-23  285.0  288.0  280.0  288.0  864870  0.000000    1.052632\n",
       "2018-03-26  286.6  295.0  282.0  295.0  404650  0.000000    2.930914\n",
       "2018-03-27  295.0  297.0  289.4  294.4  356420  0.883152    0.677966\n",
       "2018-03-28  295.0  299.0  292.0  299.0  759390  0.000000    1.355932"
      ]
     },
     "execution_count": 18,
     "metadata": {},
     "output_type": "execute_result"
    }
   ],
   "source": [
    "stock.tail()"
   ]
  },
  {
   "cell_type": "markdown",
   "metadata": {},
   "source": [
    "Create Copy for exercise."
   ]
  },
  {
   "cell_type": "code",
   "execution_count": 19,
   "metadata": {
    "scrolled": true
   },
   "outputs": [
    {
     "data": {
      "text/html": [
       "<div>\n",
       "<style scoped>\n",
       "    .dataframe tbody tr th:only-of-type {\n",
       "        vertical-align: middle;\n",
       "    }\n",
       "\n",
       "    .dataframe tbody tr th {\n",
       "        vertical-align: top;\n",
       "    }\n",
       "\n",
       "    .dataframe thead th {\n",
       "        text-align: right;\n",
       "    }\n",
       "</style>\n",
       "<table border=\"1\" class=\"dataframe\">\n",
       "  <thead>\n",
       "    <tr style=\"text-align: right;\">\n",
       "      <th></th>\n",
       "      <th>Open</th>\n",
       "      <th>High</th>\n",
       "      <th>Low</th>\n",
       "      <th>Close</th>\n",
       "      <th>Volume</th>\n",
       "      <th>HL_PCT</th>\n",
       "      <th>PCT_change</th>\n",
       "    </tr>\n",
       "    <tr>\n",
       "      <th>Date</th>\n",
       "      <th></th>\n",
       "      <th></th>\n",
       "      <th></th>\n",
       "      <th></th>\n",
       "      <th></th>\n",
       "      <th></th>\n",
       "      <th></th>\n",
       "    </tr>\n",
       "  </thead>\n",
       "  <tbody>\n",
       "    <tr>\n",
       "      <th>2018-03-15</th>\n",
       "      <td>288.4</td>\n",
       "      <td>288.6</td>\n",
       "      <td>282.6</td>\n",
       "      <td>284.0</td>\n",
       "      <td>1140780</td>\n",
       "      <td>1.619718</td>\n",
       "      <td>0.069348</td>\n",
       "    </tr>\n",
       "    <tr>\n",
       "      <th>2018-03-16</th>\n",
       "      <td>286.8</td>\n",
       "      <td>305.4</td>\n",
       "      <td>286.8</td>\n",
       "      <td>305.4</td>\n",
       "      <td>2052470</td>\n",
       "      <td>0.000000</td>\n",
       "      <td>6.485356</td>\n",
       "    </tr>\n",
       "    <tr>\n",
       "      <th>2018-03-19</th>\n",
       "      <td>299.6</td>\n",
       "      <td>299.6</td>\n",
       "      <td>295.2</td>\n",
       "      <td>298.0</td>\n",
       "      <td>531280</td>\n",
       "      <td>0.536913</td>\n",
       "      <td>0.000000</td>\n",
       "    </tr>\n",
       "    <tr>\n",
       "      <th>2018-03-20</th>\n",
       "      <td>296.8</td>\n",
       "      <td>296.8</td>\n",
       "      <td>285.0</td>\n",
       "      <td>286.0</td>\n",
       "      <td>1028940</td>\n",
       "      <td>3.776224</td>\n",
       "      <td>0.000000</td>\n",
       "    </tr>\n",
       "    <tr>\n",
       "      <th>2018-03-21</th>\n",
       "      <td>286.6</td>\n",
       "      <td>293.0</td>\n",
       "      <td>285.0</td>\n",
       "      <td>285.0</td>\n",
       "      <td>953100</td>\n",
       "      <td>2.807018</td>\n",
       "      <td>2.233077</td>\n",
       "    </tr>\n",
       "    <tr>\n",
       "      <th>2018-03-22</th>\n",
       "      <td>285.4</td>\n",
       "      <td>288.0</td>\n",
       "      <td>282.4</td>\n",
       "      <td>286.8</td>\n",
       "      <td>573890</td>\n",
       "      <td>0.418410</td>\n",
       "      <td>0.911002</td>\n",
       "    </tr>\n",
       "    <tr>\n",
       "      <th>2018-03-23</th>\n",
       "      <td>285.0</td>\n",
       "      <td>288.0</td>\n",
       "      <td>280.0</td>\n",
       "      <td>288.0</td>\n",
       "      <td>864870</td>\n",
       "      <td>0.000000</td>\n",
       "      <td>1.052632</td>\n",
       "    </tr>\n",
       "    <tr>\n",
       "      <th>2018-03-26</th>\n",
       "      <td>286.6</td>\n",
       "      <td>295.0</td>\n",
       "      <td>282.0</td>\n",
       "      <td>295.0</td>\n",
       "      <td>404650</td>\n",
       "      <td>0.000000</td>\n",
       "      <td>2.930914</td>\n",
       "    </tr>\n",
       "    <tr>\n",
       "      <th>2018-03-27</th>\n",
       "      <td>295.0</td>\n",
       "      <td>297.0</td>\n",
       "      <td>289.4</td>\n",
       "      <td>294.4</td>\n",
       "      <td>356420</td>\n",
       "      <td>0.883152</td>\n",
       "      <td>0.677966</td>\n",
       "    </tr>\n",
       "    <tr>\n",
       "      <th>2018-03-28</th>\n",
       "      <td>295.0</td>\n",
       "      <td>299.0</td>\n",
       "      <td>292.0</td>\n",
       "      <td>299.0</td>\n",
       "      <td>759390</td>\n",
       "      <td>0.000000</td>\n",
       "      <td>1.355932</td>\n",
       "    </tr>\n",
       "  </tbody>\n",
       "</table>\n",
       "</div>"
      ],
      "text/plain": [
       "             Open   High    Low  Close   Volume    HL_PCT  PCT_change\n",
       "Date                                                                 \n",
       "2018-03-15  288.4  288.6  282.6  284.0  1140780  1.619718    0.069348\n",
       "2018-03-16  286.8  305.4  286.8  305.4  2052470  0.000000    6.485356\n",
       "2018-03-19  299.6  299.6  295.2  298.0   531280  0.536913    0.000000\n",
       "2018-03-20  296.8  296.8  285.0  286.0  1028940  3.776224    0.000000\n",
       "2018-03-21  286.6  293.0  285.0  285.0   953100  2.807018    2.233077\n",
       "2018-03-22  285.4  288.0  282.4  286.8   573890  0.418410    0.911002\n",
       "2018-03-23  285.0  288.0  280.0  288.0   864870  0.000000    1.052632\n",
       "2018-03-26  286.6  295.0  282.0  295.0   404650  0.000000    2.930914\n",
       "2018-03-27  295.0  297.0  289.4  294.4   356420  0.883152    0.677966\n",
       "2018-03-28  295.0  299.0  292.0  299.0   759390  0.000000    1.355932"
      ]
     },
     "execution_count": 19,
     "metadata": {},
     "output_type": "execute_result"
    }
   ],
   "source": [
    "stockC = stock.copy(deep=True)\n",
    "stockC.tail(10)"
   ]
  },
  {
   "cell_type": "markdown",
   "metadata": {},
   "source": [
    "Notice that there are no values for 03-03 and 03-04. Trading days exclude weekends and holidays.\n",
    "\n",
    "Add Prediction column which contains the predicted Close column value n trading days later.\n",
    "\n",
    "We'll try to predict the 'Close' values from 03-05 up to the latest day available."
   ]
  },
  {
   "cell_type": "code",
   "execution_count": 20,
   "metadata": {},
   "outputs": [
    {
     "data": {
      "text/plain": [
       "1258"
      ]
     },
     "execution_count": 20,
     "metadata": {},
     "output_type": "execute_result"
    }
   ],
   "source": [
    "day_start = stockC.index.get_loc(pd.Timestamp('2018-03-05'))\n",
    "day_start"
   ]
  },
  {
   "cell_type": "code",
   "execution_count": 21,
   "metadata": {},
   "outputs": [
    {
     "data": {
      "text/plain": [
       "1276"
      ]
     },
     "execution_count": 21,
     "metadata": {},
     "output_type": "execute_result"
    }
   ],
   "source": [
    "day_end = len(stockC.index)\n",
    "day_end"
   ]
  },
  {
   "cell_type": "code",
   "execution_count": 22,
   "metadata": {},
   "outputs": [
    {
     "data": {
      "text/plain": [
       "18"
      ]
     },
     "execution_count": 22,
     "metadata": {},
     "output_type": "execute_result"
    }
   ],
   "source": [
    "n = day_end-day_start\n",
    "n"
   ]
  },
  {
   "cell_type": "markdown",
   "metadata": {},
   "source": [
    "We'll add a 'Prediction column' that contains the actual closing values n days later."
   ]
  },
  {
   "cell_type": "code",
   "execution_count": 23,
   "metadata": {
    "scrolled": false
   },
   "outputs": [
    {
     "data": {
      "text/html": [
       "<div>\n",
       "<style scoped>\n",
       "    .dataframe tbody tr th:only-of-type {\n",
       "        vertical-align: middle;\n",
       "    }\n",
       "\n",
       "    .dataframe tbody tr th {\n",
       "        vertical-align: top;\n",
       "    }\n",
       "\n",
       "    .dataframe thead th {\n",
       "        text-align: right;\n",
       "    }\n",
       "</style>\n",
       "<table border=\"1\" class=\"dataframe\">\n",
       "  <thead>\n",
       "    <tr style=\"text-align: right;\">\n",
       "      <th></th>\n",
       "      <th>Open</th>\n",
       "      <th>High</th>\n",
       "      <th>Low</th>\n",
       "      <th>Close</th>\n",
       "      <th>Volume</th>\n",
       "      <th>HL_PCT</th>\n",
       "      <th>PCT_change</th>\n",
       "      <th>Prediction</th>\n",
       "    </tr>\n",
       "    <tr>\n",
       "      <th>Date</th>\n",
       "      <th></th>\n",
       "      <th></th>\n",
       "      <th></th>\n",
       "      <th></th>\n",
       "      <th></th>\n",
       "      <th></th>\n",
       "      <th></th>\n",
       "      <th></th>\n",
       "    </tr>\n",
       "  </thead>\n",
       "  <tbody>\n",
       "    <tr>\n",
       "      <th>2018-03-02</th>\n",
       "      <td>297.6</td>\n",
       "      <td>298.4</td>\n",
       "      <td>295.0</td>\n",
       "      <td>298.0</td>\n",
       "      <td>735080</td>\n",
       "      <td>0.134228</td>\n",
       "      <td>0.268817</td>\n",
       "      <td>299.0</td>\n",
       "    </tr>\n",
       "    <tr>\n",
       "      <th>2018-03-05</th>\n",
       "      <td>299.0</td>\n",
       "      <td>300.0</td>\n",
       "      <td>296.0</td>\n",
       "      <td>299.6</td>\n",
       "      <td>388840</td>\n",
       "      <td>0.133511</td>\n",
       "      <td>0.334448</td>\n",
       "      <td>NaN</td>\n",
       "    </tr>\n",
       "    <tr>\n",
       "      <th>2018-03-06</th>\n",
       "      <td>300.0</td>\n",
       "      <td>304.0</td>\n",
       "      <td>297.8</td>\n",
       "      <td>298.6</td>\n",
       "      <td>833460</td>\n",
       "      <td>1.808439</td>\n",
       "      <td>1.333333</td>\n",
       "      <td>NaN</td>\n",
       "    </tr>\n",
       "    <tr>\n",
       "      <th>2018-03-07</th>\n",
       "      <td>300.0</td>\n",
       "      <td>304.0</td>\n",
       "      <td>299.8</td>\n",
       "      <td>304.0</td>\n",
       "      <td>853340</td>\n",
       "      <td>0.000000</td>\n",
       "      <td>1.333333</td>\n",
       "      <td>NaN</td>\n",
       "    </tr>\n",
       "    <tr>\n",
       "      <th>2018-03-08</th>\n",
       "      <td>303.0</td>\n",
       "      <td>304.0</td>\n",
       "      <td>295.0</td>\n",
       "      <td>295.0</td>\n",
       "      <td>367970</td>\n",
       "      <td>3.050847</td>\n",
       "      <td>0.330033</td>\n",
       "      <td>NaN</td>\n",
       "    </tr>\n",
       "    <tr>\n",
       "      <th>2018-03-09</th>\n",
       "      <td>297.0</td>\n",
       "      <td>297.0</td>\n",
       "      <td>292.0</td>\n",
       "      <td>292.0</td>\n",
       "      <td>352590</td>\n",
       "      <td>1.712329</td>\n",
       "      <td>0.000000</td>\n",
       "      <td>NaN</td>\n",
       "    </tr>\n",
       "    <tr>\n",
       "      <th>2018-03-12</th>\n",
       "      <td>296.0</td>\n",
       "      <td>299.0</td>\n",
       "      <td>292.2</td>\n",
       "      <td>295.4</td>\n",
       "      <td>303520</td>\n",
       "      <td>1.218687</td>\n",
       "      <td>1.013514</td>\n",
       "      <td>NaN</td>\n",
       "    </tr>\n",
       "    <tr>\n",
       "      <th>2018-03-13</th>\n",
       "      <td>296.0</td>\n",
       "      <td>297.0</td>\n",
       "      <td>292.4</td>\n",
       "      <td>293.0</td>\n",
       "      <td>557650</td>\n",
       "      <td>1.365188</td>\n",
       "      <td>0.337838</td>\n",
       "      <td>NaN</td>\n",
       "    </tr>\n",
       "    <tr>\n",
       "      <th>2018-03-14</th>\n",
       "      <td>293.0</td>\n",
       "      <td>294.4</td>\n",
       "      <td>287.4</td>\n",
       "      <td>288.4</td>\n",
       "      <td>757340</td>\n",
       "      <td>2.080444</td>\n",
       "      <td>0.477816</td>\n",
       "      <td>NaN</td>\n",
       "    </tr>\n",
       "    <tr>\n",
       "      <th>2018-03-15</th>\n",
       "      <td>288.4</td>\n",
       "      <td>288.6</td>\n",
       "      <td>282.6</td>\n",
       "      <td>284.0</td>\n",
       "      <td>1140780</td>\n",
       "      <td>1.619718</td>\n",
       "      <td>0.069348</td>\n",
       "      <td>NaN</td>\n",
       "    </tr>\n",
       "    <tr>\n",
       "      <th>2018-03-16</th>\n",
       "      <td>286.8</td>\n",
       "      <td>305.4</td>\n",
       "      <td>286.8</td>\n",
       "      <td>305.4</td>\n",
       "      <td>2052470</td>\n",
       "      <td>0.000000</td>\n",
       "      <td>6.485356</td>\n",
       "      <td>NaN</td>\n",
       "    </tr>\n",
       "    <tr>\n",
       "      <th>2018-03-19</th>\n",
       "      <td>299.6</td>\n",
       "      <td>299.6</td>\n",
       "      <td>295.2</td>\n",
       "      <td>298.0</td>\n",
       "      <td>531280</td>\n",
       "      <td>0.536913</td>\n",
       "      <td>0.000000</td>\n",
       "      <td>NaN</td>\n",
       "    </tr>\n",
       "    <tr>\n",
       "      <th>2018-03-20</th>\n",
       "      <td>296.8</td>\n",
       "      <td>296.8</td>\n",
       "      <td>285.0</td>\n",
       "      <td>286.0</td>\n",
       "      <td>1028940</td>\n",
       "      <td>3.776224</td>\n",
       "      <td>0.000000</td>\n",
       "      <td>NaN</td>\n",
       "    </tr>\n",
       "    <tr>\n",
       "      <th>2018-03-21</th>\n",
       "      <td>286.6</td>\n",
       "      <td>293.0</td>\n",
       "      <td>285.0</td>\n",
       "      <td>285.0</td>\n",
       "      <td>953100</td>\n",
       "      <td>2.807018</td>\n",
       "      <td>2.233077</td>\n",
       "      <td>NaN</td>\n",
       "    </tr>\n",
       "    <tr>\n",
       "      <th>2018-03-22</th>\n",
       "      <td>285.4</td>\n",
       "      <td>288.0</td>\n",
       "      <td>282.4</td>\n",
       "      <td>286.8</td>\n",
       "      <td>573890</td>\n",
       "      <td>0.418410</td>\n",
       "      <td>0.911002</td>\n",
       "      <td>NaN</td>\n",
       "    </tr>\n",
       "    <tr>\n",
       "      <th>2018-03-23</th>\n",
       "      <td>285.0</td>\n",
       "      <td>288.0</td>\n",
       "      <td>280.0</td>\n",
       "      <td>288.0</td>\n",
       "      <td>864870</td>\n",
       "      <td>0.000000</td>\n",
       "      <td>1.052632</td>\n",
       "      <td>NaN</td>\n",
       "    </tr>\n",
       "    <tr>\n",
       "      <th>2018-03-26</th>\n",
       "      <td>286.6</td>\n",
       "      <td>295.0</td>\n",
       "      <td>282.0</td>\n",
       "      <td>295.0</td>\n",
       "      <td>404650</td>\n",
       "      <td>0.000000</td>\n",
       "      <td>2.930914</td>\n",
       "      <td>NaN</td>\n",
       "    </tr>\n",
       "    <tr>\n",
       "      <th>2018-03-27</th>\n",
       "      <td>295.0</td>\n",
       "      <td>297.0</td>\n",
       "      <td>289.4</td>\n",
       "      <td>294.4</td>\n",
       "      <td>356420</td>\n",
       "      <td>0.883152</td>\n",
       "      <td>0.677966</td>\n",
       "      <td>NaN</td>\n",
       "    </tr>\n",
       "    <tr>\n",
       "      <th>2018-03-28</th>\n",
       "      <td>295.0</td>\n",
       "      <td>299.0</td>\n",
       "      <td>292.0</td>\n",
       "      <td>299.0</td>\n",
       "      <td>759390</td>\n",
       "      <td>0.000000</td>\n",
       "      <td>1.355932</td>\n",
       "      <td>NaN</td>\n",
       "    </tr>\n",
       "  </tbody>\n",
       "</table>\n",
       "</div>"
      ],
      "text/plain": [
       "             Open   High    Low  Close   Volume    HL_PCT  PCT_change  \\\n",
       "Date                                                                    \n",
       "2018-03-02  297.6  298.4  295.0  298.0   735080  0.134228    0.268817   \n",
       "2018-03-05  299.0  300.0  296.0  299.6   388840  0.133511    0.334448   \n",
       "2018-03-06  300.0  304.0  297.8  298.6   833460  1.808439    1.333333   \n",
       "2018-03-07  300.0  304.0  299.8  304.0   853340  0.000000    1.333333   \n",
       "2018-03-08  303.0  304.0  295.0  295.0   367970  3.050847    0.330033   \n",
       "2018-03-09  297.0  297.0  292.0  292.0   352590  1.712329    0.000000   \n",
       "2018-03-12  296.0  299.0  292.2  295.4   303520  1.218687    1.013514   \n",
       "2018-03-13  296.0  297.0  292.4  293.0   557650  1.365188    0.337838   \n",
       "2018-03-14  293.0  294.4  287.4  288.4   757340  2.080444    0.477816   \n",
       "2018-03-15  288.4  288.6  282.6  284.0  1140780  1.619718    0.069348   \n",
       "2018-03-16  286.8  305.4  286.8  305.4  2052470  0.000000    6.485356   \n",
       "2018-03-19  299.6  299.6  295.2  298.0   531280  0.536913    0.000000   \n",
       "2018-03-20  296.8  296.8  285.0  286.0  1028940  3.776224    0.000000   \n",
       "2018-03-21  286.6  293.0  285.0  285.0   953100  2.807018    2.233077   \n",
       "2018-03-22  285.4  288.0  282.4  286.8   573890  0.418410    0.911002   \n",
       "2018-03-23  285.0  288.0  280.0  288.0   864870  0.000000    1.052632   \n",
       "2018-03-26  286.6  295.0  282.0  295.0   404650  0.000000    2.930914   \n",
       "2018-03-27  295.0  297.0  289.4  294.4   356420  0.883152    0.677966   \n",
       "2018-03-28  295.0  299.0  292.0  299.0   759390  0.000000    1.355932   \n",
       "\n",
       "            Prediction  \n",
       "Date                    \n",
       "2018-03-02       299.0  \n",
       "2018-03-05         NaN  \n",
       "2018-03-06         NaN  \n",
       "2018-03-07         NaN  \n",
       "2018-03-08         NaN  \n",
       "2018-03-09         NaN  \n",
       "2018-03-12         NaN  \n",
       "2018-03-13         NaN  \n",
       "2018-03-14         NaN  \n",
       "2018-03-15         NaN  \n",
       "2018-03-16         NaN  \n",
       "2018-03-19         NaN  \n",
       "2018-03-20         NaN  \n",
       "2018-03-21         NaN  \n",
       "2018-03-22         NaN  \n",
       "2018-03-23         NaN  \n",
       "2018-03-26         NaN  \n",
       "2018-03-27         NaN  \n",
       "2018-03-28         NaN  "
      ]
     },
     "execution_count": 23,
     "metadata": {},
     "output_type": "execute_result"
    }
   ],
   "source": [
    "stockC['Prediction'] = stockC['Close'].shift(-n)\n",
    "stockC.tail(n+1)"
   ]
  },
  {
   "cell_type": "markdown",
   "metadata": {},
   "source": [
    "Notice that..."
   ]
  },
  {
   "cell_type": "markdown",
   "metadata": {},
   "source": [
    "The predicted value in 2018-03-02, 299.0,"
   ]
  },
  {
   "cell_type": "code",
   "execution_count": 24,
   "metadata": {},
   "outputs": [
    {
     "data": {
      "text/plain": [
       "Timestamp('2018-03-02 00:00:00')"
      ]
     },
     "execution_count": 24,
     "metadata": {},
     "output_type": "execute_result"
    }
   ],
   "source": [
    "stockC['Prediction'].index[-n-1]"
   ]
  },
  {
   "cell_type": "code",
   "execution_count": 25,
   "metadata": {},
   "outputs": [
    {
     "data": {
      "text/plain": [
       "299.0"
      ]
     },
     "execution_count": 25,
     "metadata": {},
     "output_type": "execute_result"
    }
   ],
   "source": [
    "stockC['Prediction'][stockC['Prediction'].index[-n-1]]"
   ]
  },
  {
   "cell_type": "markdown",
   "metadata": {},
   "source": [
    "Is the same as the closing price in 2018-03-28."
   ]
  },
  {
   "cell_type": "code",
   "execution_count": 26,
   "metadata": {},
   "outputs": [
    {
     "data": {
      "text/plain": [
       "Timestamp('2018-03-28 00:00:00')"
      ]
     },
     "execution_count": 26,
     "metadata": {},
     "output_type": "execute_result"
    }
   ],
   "source": [
    "stockC['Close'].index[-1]"
   ]
  },
  {
   "cell_type": "code",
   "execution_count": 27,
   "metadata": {},
   "outputs": [
    {
     "data": {
      "text/plain": [
       "299.0"
      ]
     },
     "execution_count": 27,
     "metadata": {},
     "output_type": "execute_result"
    }
   ],
   "source": [
    "stockC['Close'][stockC['Close'].index[-1]]"
   ]
  },
  {
   "cell_type": "markdown",
   "metadata": {},
   "source": [
    "## 1.3: Preprocessing "
   ]
  },
  {
   "cell_type": "markdown",
   "metadata": {},
   "source": [
    "The dataset would be divided as X and y; with X as... and y as...\n",
    "\n",
    "In order to prepare the data for machine learning, we have to preprocess the X in order to..."
   ]
  },
  {
   "cell_type": "code",
   "execution_count": 28,
   "metadata": {},
   "outputs": [],
   "source": [
    "from sklearn import preprocessing"
   ]
  },
  {
   "cell_type": "code",
   "execution_count": 29,
   "metadata": {},
   "outputs": [],
   "source": [
    "X = preprocessing.scale(stockC.drop(['Prediction'], axis=1))"
   ]
  },
  {
   "cell_type": "markdown",
   "metadata": {},
   "source": [
    "X would be split into two..;X would be the data before...\n",
    "\n",
    "X_predict would be the data after... and would be used later to predict the future closing values."
   ]
  },
  {
   "cell_type": "code",
   "execution_count": 30,
   "metadata": {},
   "outputs": [],
   "source": [
    "X_predict = X[-n:]\n",
    "X = X[:-n]"
   ]
  },
  {
   "cell_type": "code",
   "execution_count": 31,
   "metadata": {},
   "outputs": [],
   "source": [
    "y = stockC['Prediction'][:-n]"
   ]
  },
  {
   "cell_type": "code",
   "execution_count": 32,
   "metadata": {},
   "outputs": [
    {
     "name": "stdout",
     "output_type": "stream",
     "text": [
      "<class 'numpy.ndarray'> <class 'numpy.ndarray'> <class 'pandas.core.series.Series'>\n"
     ]
    }
   ],
   "source": [
    "print(type(X), type(X_predict), type(y))"
   ]
  },
  {
   "cell_type": "code",
   "execution_count": 33,
   "metadata": {
    "scrolled": false
   },
   "outputs": [
    {
     "name": "stdout",
     "output_type": "stream",
     "text": [
      "1258 18 1258\n"
     ]
    }
   ],
   "source": [
    "print(len(X), len(X_predict), len(y))"
   ]
  },
  {
   "cell_type": "markdown",
   "metadata": {},
   "source": [
    "## 1.4:  Cross Validation"
   ]
  },
  {
   "cell_type": "code",
   "execution_count": 35,
   "metadata": {},
   "outputs": [
    {
     "data": {
      "text/plain": [
       "array([0.84060057, 0.78868771, 0.08058599, 0.56425953, 0.75625778])"
      ]
     },
     "execution_count": 35,
     "metadata": {},
     "output_type": "execute_result"
    }
   ],
   "source": [
    "from sklearn.model_selection import cross_val_score\n",
    "from sklearn.svm import SVR\n",
    "\n",
    "clf = SVR(kernel='linear', C=1)\n",
    "scores = cross_val_score(clf, X, y, cv=5)\n",
    "scores #score for each split"
   ]
  },
  {
   "cell_type": "code",
   "execution_count": 36,
   "metadata": {},
   "outputs": [
    {
     "name": "stdout",
     "output_type": "stream",
     "text": [
      "Accuracy: 0.61 (+/- 0.56)\n"
     ]
    }
   ],
   "source": [
    "print(\"Accuracy: %0.2f (+/- %0.2f)\" % (scores.mean(), scores.std() * 2))"
   ]
  },
  {
   "cell_type": "code",
   "execution_count": 37,
   "metadata": {},
   "outputs": [
    {
     "ename": "NameError",
     "evalue": "name 'X_train' is not defined",
     "output_type": "error",
     "traceback": [
      "\u001b[1;31m---------------------------------------------------------------------------\u001b[0m",
      "\u001b[1;31mNameError\u001b[0m                                 Traceback (most recent call last)",
      "\u001b[1;32m<ipython-input-37-91f802ffbd2f>\u001b[0m in \u001b[0;36m<module>\u001b[1;34m()\u001b[0m\n\u001b[1;32m----> 1\u001b[1;33m \u001b[0mclf\u001b[0m\u001b[1;33m.\u001b[0m\u001b[0mfit\u001b[0m\u001b[1;33m(\u001b[0m\u001b[0mX_train\u001b[0m\u001b[1;33m,\u001b[0m \u001b[0my_train\u001b[0m\u001b[1;33m)\u001b[0m\u001b[1;33m\u001b[0m\u001b[0m\n\u001b[0m\u001b[0;32m      2\u001b[0m \u001b[0maccuracy\u001b[0m \u001b[1;33m=\u001b[0m \u001b[0mclf\u001b[0m\u001b[1;33m.\u001b[0m\u001b[0mscore\u001b[0m\u001b[1;33m(\u001b[0m\u001b[0mX_test\u001b[0m\u001b[1;33m,\u001b[0m \u001b[0my_test\u001b[0m\u001b[1;33m)\u001b[0m\u001b[1;33m\u001b[0m\u001b[0m\n\u001b[0;32m      3\u001b[0m \u001b[0mprint\u001b[0m\u001b[1;33m(\u001b[0m\u001b[1;34m'accuracy is %f'\u001b[0m \u001b[1;33m%\u001b[0m\u001b[0maccuracy\u001b[0m\u001b[1;33m)\u001b[0m\u001b[1;33m\u001b[0m\u001b[0m\n",
      "\u001b[1;31mNameError\u001b[0m: name 'X_train' is not defined"
     ]
    }
   ],
   "source": [
    "clf.fit(X_train, y_train)\n",
    "accuracy = clf.score(X_test, y_test)\n",
    "print('accuracy is %f' %accuracy)"
   ]
  },
  {
   "cell_type": "markdown",
   "metadata": {},
   "source": [
    "## 1.5: Train Test Split "
   ]
  },
  {
   "cell_type": "markdown",
   "metadata": {},
   "source": [
    "Both X and y would be split into two; train set and test set. \n",
    "\n",
    "Train set would be used to train the computer while the test set would be used to compare and evaluate the predictions of the computer."
   ]
  },
  {
   "cell_type": "code",
   "execution_count": null,
   "metadata": {},
   "outputs": [],
   "source": [
    "from sklearn.model_selection import train_test_split"
   ]
  },
  {
   "cell_type": "code",
   "execution_count": null,
   "metadata": {},
   "outputs": [],
   "source": [
    "X_train, X_test, y_train, y_test = train_test_split(X, y, test_size=(0.2))"
   ]
  },
  {
   "cell_type": "code",
   "execution_count": null,
   "metadata": {},
   "outputs": [],
   "source": [
    "print(type(X_train), type(X_test), type(y_train), type(y_test) )"
   ]
  },
  {
   "cell_type": "code",
   "execution_count": null,
   "metadata": {
    "scrolled": false
   },
   "outputs": [],
   "source": [
    "print(len(X_train), len(X_test), len(y_train), len(y_test) )"
   ]
  },
  {
   "cell_type": "markdown",
   "metadata": {},
   "source": [
    "## 1.6: Try with Linear Regression "
   ]
  },
  {
   "cell_type": "code",
   "execution_count": null,
   "metadata": {},
   "outputs": [],
   "source": [
    "from sklearn.linear_model import LinearRegression\n",
    "lm = LinearRegression()\n",
    "lm.fit(X_train,y_train)"
   ]
  },
  {
   "cell_type": "code",
   "execution_count": null,
   "metadata": {},
   "outputs": [],
   "source": [
    "accuracy = lm.score(X_test, y_test)\n",
    "print('Accuracy: '+str(accuracy*100)+'%')"
   ]
  },
  {
   "cell_type": "markdown",
   "metadata": {},
   "source": [
    "## 1.7: Try with all regressors"
   ]
  },
  {
   "cell_type": "code",
   "execution_count": null,
   "metadata": {
    "scrolled": false
   },
   "outputs": [],
   "source": [
    "from sklearn import preprocessing#, cross_validation\n",
    "from sklearn.svm import SVR\n",
    "from sklearn.neural_network import MLPRegressor as NNR\n",
    "from sklearn.linear_model import LinearRegression as LRR\n",
    "from sklearn.ensemble import RandomForestRegressor as RFR\n",
    "from sklearn.tree import DecisionTreeRegressor as DTR\n",
    "from sklearn.gaussian_process import GaussianProcessRegressor as GPR\n",
    "\n",
    "predictors = [SVR(), NNR(), LRR(), RFR(), DTR(), GPR()]\n",
    "\n",
    "forecast = []\n",
    "pred_cols = []\n",
    "accuracy = []\n",
    "\n",
    "fig, ax = plt.subplots(6,2, figsize=(12,24))\n",
    "\n",
    "for pred, color, i in zip(predictors, sns.color_palette(), range(len(predictors))):\n",
    "    pred.fit(X_train, y_train)\n",
    "    accu = pred.score(X_test,y_test)\n",
    "    predictions = pred.predict(X_test)\n",
    "            \n",
    "    sns.regplot(y_test,predictions, color=color, ax=ax[i,0])\n",
    "    ax[i,0].set_title('{0} accuracy = {1:.2f}'.format(str(pred)[:3], (accu*100).round(2))+'%')\n",
    "    ax[i,0].set_xlabel('Y Test')\n",
    "    ax[i,0].set_ylabel('Predicted Y')\n",
    "    \n",
    "    sns.distplot((y_test-predictions), bins=50, color=color, ax=ax[i,1])\n",
    "    ax[i,1].set_title('{0} Residual Histogram'.format(str(pred)[:3]))\n",
    "    \n",
    "    forecast.append(pred.predict(X_predict))\n",
    "    pred_cols.append(str(pred)[:3])\n",
    "    accuracy.append('{0} accuracy = {1:.2f}'.format(str(pred)[:3], (accu*100).round(2))+'%')\n",
    "    \n",
    "fig.suptitle('Performance of Scikit-learn Regressors for Closing Stock Price Prediction', fontsize=15, y=1.01)\n",
    "sns.set_style('whitegrid')\n",
    "fig.tight_layout()"
   ]
  },
  {
   "cell_type": "markdown",
   "metadata": {},
   "source": [
    "##  1.8: Add forecast columns per regressor"
   ]
  },
  {
   "cell_type": "markdown",
   "metadata": {},
   "source": [
    "Forecast: Data for columns"
   ]
  },
  {
   "cell_type": "code",
   "execution_count": null,
   "metadata": {},
   "outputs": [],
   "source": [
    "np.array(forecast).shape"
   ]
  },
  {
   "cell_type": "code",
   "execution_count": null,
   "metadata": {},
   "outputs": [],
   "source": [
    "np.array(forecast)"
   ]
  },
  {
   "cell_type": "code",
   "execution_count": null,
   "metadata": {
    "scrolled": true
   },
   "outputs": [],
   "source": [
    "forecast_T = np.array(forecast).transpose()\n",
    "forecast_T"
   ]
  },
  {
   "cell_type": "code",
   "execution_count": null,
   "metadata": {},
   "outputs": [],
   "source": [
    "type(forecast_T)"
   ]
  },
  {
   "cell_type": "code",
   "execution_count": null,
   "metadata": {},
   "outputs": [],
   "source": [
    "forecast_T.shape"
   ]
  },
  {
   "cell_type": "markdown",
   "metadata": {},
   "source": [
    "Days: Index"
   ]
  },
  {
   "cell_type": "code",
   "execution_count": null,
   "metadata": {},
   "outputs": [],
   "source": [
    "len(stockC.index)"
   ]
  },
  {
   "cell_type": "code",
   "execution_count": null,
   "metadata": {},
   "outputs": [],
   "source": [
    "stockC.index[-1]"
   ]
  },
  {
   "cell_type": "code",
   "execution_count": null,
   "metadata": {},
   "outputs": [],
   "source": [
    "Days=stockC.index[-n:len(stockC.index)]\n",
    "Days"
   ]
  },
  {
   "cell_type": "code",
   "execution_count": null,
   "metadata": {},
   "outputs": [],
   "source": [
    "range(len(stockC.index[-n:len(stockC.index)]))"
   ]
  },
  {
   "cell_type": "markdown",
   "metadata": {},
   "source": [
    "Accuracy: column names"
   ]
  },
  {
   "cell_type": "code",
   "execution_count": null,
   "metadata": {},
   "outputs": [],
   "source": [
    "type(accuracy)"
   ]
  },
  {
   "cell_type": "code",
   "execution_count": null,
   "metadata": {},
   "outputs": [],
   "source": [
    "accuracy"
   ]
  },
  {
   "cell_type": "code",
   "execution_count": null,
   "metadata": {},
   "outputs": [],
   "source": [
    "regs_stockC = pd.DataFrame(data=forecast_T,\n",
    "                    index=stockC.index[-n:len(stockC.index)],\n",
    "                    columns=accuracy)\n",
    "regs_stockC"
   ]
  },
  {
   "cell_type": "code",
   "execution_count": null,
   "metadata": {
    "scrolled": true
   },
   "outputs": [],
   "source": [
    "accuracy"
   ]
  },
  {
   "cell_type": "markdown",
   "metadata": {},
   "source": [
    "Actual Closing Price the trading day before the forecast."
   ]
  },
  {
   "cell_type": "code",
   "execution_count": null,
   "metadata": {},
   "outputs": [],
   "source": [
    "print(stockC.index[-n-1])\n",
    "print(stockC['Close'][-n-1])"
   ]
  },
  {
   "cell_type": "code",
   "execution_count": null,
   "metadata": {
    "scrolled": true
   },
   "outputs": [],
   "source": [
    "rowlink = []\n",
    "for i in regs_stockC.columns:\n",
    "    rowlink.append(stockC['Close'][-n-1])\n",
    "np.array([rowlink])"
   ]
  },
  {
   "cell_type": "code",
   "execution_count": null,
   "metadata": {},
   "outputs": [],
   "source": [
    "range(len(stockC.index[-n:len(stockC.index)]))"
   ]
  },
  {
   "cell_type": "code",
   "execution_count": null,
   "metadata": {
    "scrolled": false
   },
   "outputs": [],
   "source": [
    "stockC.index[-n-1:len(stockC.index)]"
   ]
  },
  {
   "cell_type": "code",
   "execution_count": null,
   "metadata": {
    "scrolled": true
   },
   "outputs": [],
   "source": [
    "accuracy"
   ]
  },
  {
   "cell_type": "code",
   "execution_count": null,
   "metadata": {},
   "outputs": [],
   "source": [
    "stockC.index[-n-1:-n]"
   ]
  },
  {
   "cell_type": "code",
   "execution_count": null,
   "metadata": {},
   "outputs": [],
   "source": [
    "link = pd.DataFrame(data=np.array([rowlink]), \n",
    "                    index=stockC.index[-n-1:-n],\n",
    "                    columns=accuracy)\n",
    "link"
   ]
  },
  {
   "cell_type": "markdown",
   "metadata": {},
   "source": [
    "# Merge the dataframes"
   ]
  },
  {
   "cell_type": "code",
   "execution_count": null,
   "metadata": {
    "scrolled": false
   },
   "outputs": [],
   "source": [
    "predic_stockC = pd.merge(link,regs_stockC, how='outer').set_index(stockC.index[-n-1:len(stockC.index)])\n",
    "predic_stockC"
   ]
  },
  {
   "cell_type": "code",
   "execution_count": null,
   "metadata": {
    "scrolled": true
   },
   "outputs": [],
   "source": [
    "from IPython.display import YouTubeVideo\n",
    "from datetime import timedelta\n",
    "\n",
    "start=int(timedelta(seconds=10).total_seconds())\n",
    "end=int(timedelta(seconds=14).total_seconds())\n",
    "\n",
    "YouTubeVideo(\"VA41XQMUi-4\", start=start, end=end, autoplay=1)"
   ]
  },
  {
   "cell_type": "markdown",
   "metadata": {},
   "source": [
    "## 1.9.1: Plot all Regressor Predictions "
   ]
  },
  {
   "cell_type": "code",
   "execution_count": null,
   "metadata": {},
   "outputs": [],
   "source": [
    "label='JFC.PH'"
   ]
  },
  {
   "cell_type": "code",
   "execution_count": null,
   "metadata": {},
   "outputs": [],
   "source": [
    "ax = stockC['Close'].plot(color='black', label='Actual Values', figsize=(10,5), lw=2,marker='o', markersize=8)\n",
    "predic_stockC.plot(color=sns.color_palette(),marker='o', ax=ax)\n",
    "\n",
    "plt.title('{0} Stocks from {1} to {2}'.format(label,str(predic_stockC.index[1])[0:10],str(predic_stockC.index[-1])[0:10]), fontsize=20)\n",
    "plt.legend(loc='best',bbox_to_anchor=(1, 1))\n",
    "plt.xlim(xmin=stockC.index[-n-5],xmax=stockC.index[-1])\n",
    "plt.xlabel('\\n Date', fontsize=15)\n",
    "plt.ylabel('Closing Price (₱)\\n', fontsize=15) "
   ]
  },
  {
   "cell_type": "code",
   "execution_count": null,
   "metadata": {},
   "outputs": [],
   "source": [
    "predic_stockC.columns[0:-1].tolist()"
   ]
  },
  {
   "cell_type": "code",
   "execution_count": null,
   "metadata": {},
   "outputs": [],
   "source": [
    "sns.color_palette()[0:-1]"
   ]
  },
  {
   "cell_type": "code",
   "execution_count": null,
   "metadata": {},
   "outputs": [],
   "source": [
    "ax = stockC['Close'].plot(color='black', label='Actual Values', figsize=(10,5), lw=2, marker='o', markersize=8)\n",
    "predic_stockC[predic_stockC.columns[0:-1].tolist()].plot(color=sns.color_palette()[0:-1], ax=ax, marker='o')\n",
    "\n",
    "plt.title('{0} Stocks from {1} to {2}'.format(label,str(predic_stockC.index[1])[0:10],str(predic_stockC.index[-1])[0:10]), fontsize=20)\n",
    "plt.legend(loc='best',bbox_to_anchor=(1, 1))\n",
    "plt.xlim(xmin=stockC.index[-n-5],xmax=stockC.index[-1])\n",
    "plt.xlabel('\\n Date', fontsize=15)\n",
    "plt.ylabel('Closing Price (₱)\\n', fontsize=15) "
   ]
  },
  {
   "cell_type": "markdown",
   "metadata": {},
   "source": [
    "Plot every column in regs_stockC except MLP"
   ]
  },
  {
   "cell_type": "code",
   "execution_count": null,
   "metadata": {
    "scrolled": true
   },
   "outputs": [],
   "source": [
    "predic_stockC.columns[1]"
   ]
  },
  {
   "cell_type": "code",
   "execution_count": null,
   "metadata": {
    "scrolled": true
   },
   "outputs": [],
   "source": [
    "predic_stockC.columns[2:-1]"
   ]
  },
  {
   "cell_type": "code",
   "execution_count": null,
   "metadata": {},
   "outputs": [],
   "source": [
    "predic_stockC.columns[2:-1]"
   ]
  },
  {
   "cell_type": "code",
   "execution_count": null,
   "metadata": {},
   "outputs": [],
   "source": [
    "[predic_stockC.columns[0]]"
   ]
  },
  {
   "cell_type": "code",
   "execution_count": null,
   "metadata": {},
   "outputs": [],
   "source": [
    "[predic_stockC.columns[0]]+predic_stockC.columns[2:5].tolist()"
   ]
  },
  {
   "cell_type": "code",
   "execution_count": null,
   "metadata": {},
   "outputs": [],
   "source": [
    "[sns.color_palette()[0]]+sns.color_palette()[2:5]"
   ]
  },
  {
   "cell_type": "code",
   "execution_count": null,
   "metadata": {},
   "outputs": [],
   "source": [
    "ax = stockC['Close'].plot(color='black', label='Actual Values', figsize=(10,5), lw=2, marker='o', markersize=8)\n",
    "predic_stockC[[predic_stockC.columns[0]]+predic_stockC.columns[2:5].tolist()].plot(\n",
    "    color=[sns.color_palette()[0]]+sns.color_palette()[2:5], ax=ax, marker='o')\n",
    "\n",
    "plt.title('{0} Stocks from {1} to {2}'.format(label,str(predic_stockC.index[1])[0:n],str(predic_stockC.index[-1])[0:10]), fontsize=20)\n",
    "plt.legend(loc='best',bbox_to_anchor=(1, 1))\n",
    "plt.xlim(xmin=stockC.index[-n-5],xmax=stockC.index[-1])\n",
    "plt.ylim(ymin=200, ymax=310)\n",
    "plt.xlabel('\\n Date', fontsize=15)\n",
    "plt.ylabel('Closing Price (₱)\\n', fontsize=15) "
   ]
  },
  {
   "cell_type": "markdown",
   "metadata": {},
   "source": [
    "## 1.9.2: Plot Lin, Ran, Dec forecasts with Plotly "
   ]
  },
  {
   "cell_type": "code",
   "execution_count": null,
   "metadata": {},
   "outputs": [],
   "source": [
    "pl_predic_stockC = pd.concat([stockC['Close'],predic_stockC],axis=1)\n",
    "pl_predic_stockC.rename(columns={'Close': 'Actual Closing Prices'}, inplace=True)"
   ]
  },
  {
   "cell_type": "code",
   "execution_count": null,
   "metadata": {},
   "outputs": [],
   "source": [
    "pl_predic_stockC.columns"
   ]
  },
  {
   "cell_type": "code",
   "execution_count": null,
   "metadata": {},
   "outputs": [],
   "source": [
    "from plotly import __version__\n",
    "from plotly.offline import download_plotlyjs, init_notebook_mode, plot, iplot"
   ]
  },
  {
   "cell_type": "code",
   "execution_count": null,
   "metadata": {},
   "outputs": [],
   "source": [
    "import cufflinks as cf"
   ]
  },
  {
   "cell_type": "code",
   "execution_count": null,
   "metadata": {},
   "outputs": [],
   "source": [
    "init_notebook_mode(connected=True)"
   ]
  },
  {
   "cell_type": "code",
   "execution_count": null,
   "metadata": {
    "scrolled": true
   },
   "outputs": [],
   "source": [
    "cf.go_offline()"
   ]
  },
  {
   "cell_type": "code",
   "execution_count": null,
   "metadata": {},
   "outputs": [],
   "source": [
    "[pl_predic_stockC.columns[0]]"
   ]
  },
  {
   "cell_type": "code",
   "execution_count": null,
   "metadata": {},
   "outputs": [],
   "source": [
    "pl_predic_stockC.columns[3:-1]"
   ]
  },
  {
   "cell_type": "code",
   "execution_count": null,
   "metadata": {},
   "outputs": [],
   "source": [
    "ideal_plots = [pl_predic_stockC.columns[0]]+pl_predic_stockC.columns[3:-1].tolist()\n",
    "ideal_plots"
   ]
  },
  {
   "cell_type": "code",
   "execution_count": null,
   "metadata": {},
   "outputs": [],
   "source": [
    "pl_predic_stockC[ideal_plots].iplot(mode='lines+markers', \n",
    "                                    title='{0} Stocks from {1} to {2}'.format(label, \n",
    "                                                                              str(pl_predic_stockC.index[-n])[0:10], \n",
    "                                                                              str(pl_predic_stockC.index[-1])[0:10]), \n",
    "                                    xTitle='\\nDate', \n",
    "                                    yTitle='Closing Price (₱)\\n')"
   ]
  },
  {
   "cell_type": "markdown",
   "metadata": {},
   "source": [
    "# Part 1.2: Predict JFC stocks 10 days later"
   ]
  },
  {
   "cell_type": "code",
   "execution_count": null,
   "metadata": {},
   "outputs": [],
   "source": [
    "stock.tail()"
   ]
  },
  {
   "cell_type": "code",
   "execution_count": null,
   "metadata": {},
   "outputs": [],
   "source": [
    "pred_n=10\n",
    "stock['Prediction'] = stock['Close'].shift(-pred_n)\n",
    "stock.tail(pred_n+1)"
   ]
  },
  {
   "cell_type": "code",
   "execution_count": null,
   "metadata": {},
   "outputs": [],
   "source": [
    "X = preprocessing.scale(stock.drop(['Prediction'], axis=1))"
   ]
  },
  {
   "cell_type": "code",
   "execution_count": null,
   "metadata": {},
   "outputs": [],
   "source": [
    "X_predict = X[-pred_n:]\n",
    "X = X[:-pred_n]"
   ]
  },
  {
   "cell_type": "code",
   "execution_count": null,
   "metadata": {},
   "outputs": [],
   "source": [
    "y = stock['Prediction'][:pred_n]"
   ]
  },
  {
   "cell_type": "code",
   "execution_count": null,
   "metadata": {
    "scrolled": false
   },
   "outputs": [],
   "source": [
    "predictors = [SVR(), NNR(), LRR(), RFR(), DTR(), GPR()]\n",
    "\n",
    "forecast = []\n",
    "pred_cols = []\n",
    "accuracy = []\n",
    "\n",
    "fig, ax = plt.subplots(6,2, figsize=(12,24))\n",
    "\n",
    "for pred, color, i in zip(predictors, sns.color_palette(), range(len(predictors))):\n",
    "    pred.fit(X_train, y_train)\n",
    "    accu = pred.score(X_test,y_test)\n",
    "    predictions = pred.predict(X_test)\n",
    "            \n",
    "    sns.regplot(y_test,predictions, color=color, ax=ax[i,0])\n",
    "    ax[i,0].set_title('{0} accuracy = {1:.2f}'.format(str(pred)[:3], (accu*100).round(2))+'%')\n",
    "    ax[i,0].set_xlabel('Y Test')\n",
    "    ax[i,0].set_ylabel('Predicted Y')\n",
    "    \n",
    "    sns.distplot((y_test-predictions), bins=50, color=color, ax=ax[i,1])\n",
    "    ax[i,1].set_title('{0} Residual Histogram'.format(str(pred)[:3]))\n",
    "    \n",
    "    forecast.append(pred.predict(X_predict))\n",
    "    pred_cols.append(str(pred)[:3])\n",
    "    accuracy.append('{0} accuracy = {1:.2f}'.format(str(pred)[:3], (accu*100).round(2))+'%')\n",
    "    \n",
    "fig.suptitle('Performance of Scikit-learn Regressors for Closing Stock Price Prediction', fontsize=15, y=1.01)\n",
    "sns.set_style('whitegrid')\n",
    "fig.tight_layout()"
   ]
  },
  {
   "cell_type": "code",
   "execution_count": null,
   "metadata": {},
   "outputs": [],
   "source": [
    "np.array(forecast).shape"
   ]
  },
  {
   "cell_type": "code",
   "execution_count": null,
   "metadata": {},
   "outputs": [],
   "source": [
    "np.array(forecast)"
   ]
  },
  {
   "cell_type": "code",
   "execution_count": null,
   "metadata": {},
   "outputs": [],
   "source": [
    "regs_forecast = np.array(forecast).transpose()\n",
    "regs_forecast"
   ]
  },
  {
   "cell_type": "markdown",
   "metadata": {},
   "source": [
    "Create datetime index for n days that excludes weekends and holidays. \n",
    "\n",
    "Business days only, minus holidays."
   ]
  },
  {
   "cell_type": "code",
   "execution_count": null,
   "metadata": {},
   "outputs": [],
   "source": [
    "last_day = stock.index[-1]\n",
    "last_day"
   ]
  },
  {
   "cell_type": "code",
   "execution_count": null,
   "metadata": {},
   "outputs": [],
   "source": [
    "last_day = stock.index[-1].to_pydatetime()\n",
    "last_day"
   ]
  },
  {
   "cell_type": "code",
   "execution_count": null,
   "metadata": {},
   "outputs": [],
   "source": [
    "holiday_dates=pd.DatetimeIndex([pd.to_datetime('2018-03-29'), pd.to_datetime('2018-03-30'), pd.to_datetime('2018-04-09')])\n",
    "holiday_dates"
   ]
  },
  {
   "cell_type": "code",
   "execution_count": null,
   "metadata": {},
   "outputs": [],
   "source": [
    "len(holiday_dates)"
   ]
  },
  {
   "cell_type": "code",
   "execution_count": null,
   "metadata": {},
   "outputs": [],
   "source": [
    "from datetime import datetime, timedelta"
   ]
  },
  {
   "cell_type": "code",
   "execution_count": null,
   "metadata": {},
   "outputs": [],
   "source": [
    "forecast_dates = (pd.bdate_range(last_day, periods=((pred_n+1)+len(holiday_dates)))).drop(holiday_dates)\n",
    "forecast_dates"
   ]
  },
  {
   "cell_type": "code",
   "execution_count": null,
   "metadata": {},
   "outputs": [],
   "source": [
    "accuracy"
   ]
  },
  {
   "cell_type": "code",
   "execution_count": null,
   "metadata": {},
   "outputs": [],
   "source": [
    "regs_stock = pd.DataFrame(data=regs_forecast,\n",
    "                    index=forecast_dates[1:],\n",
    "                    columns=accuracy)\n",
    "regs_stock"
   ]
  },
  {
   "cell_type": "markdown",
   "metadata": {},
   "source": [
    "Create forecast link dataframe"
   ]
  },
  {
   "cell_type": "code",
   "execution_count": null,
   "metadata": {},
   "outputs": [],
   "source": [
    "stock['Close'][-1:]"
   ]
  },
  {
   "cell_type": "code",
   "execution_count": null,
   "metadata": {},
   "outputs": [],
   "source": [
    "forecast_rowlink = []\n",
    "for i in regs_stock.columns:\n",
    "    forecast_rowlink.append(stock['Close'][-1])\n",
    "np.array([forecast_rowlink])"
   ]
  },
  {
   "cell_type": "code",
   "execution_count": null,
   "metadata": {},
   "outputs": [],
   "source": [
    "forecast_link_stock = pd.DataFrame(data=np.array([forecast_rowlink]), \n",
    "                                   index=stock.index[-1:], \n",
    "                                   columns=accuracy)\n",
    "forecast_link_stock"
   ]
  },
  {
   "cell_type": "code",
   "execution_count": null,
   "metadata": {},
   "outputs": [],
   "source": [
    "predic_stock = pd.merge(forecast_link_stock,regs_stock, how='outer').set_index(forecast_dates)\n",
    "predic_stock"
   ]
  },
  {
   "cell_type": "code",
   "execution_count": null,
   "metadata": {},
   "outputs": [],
   "source": [
    "YouTubeVideo(\"VA41XQMUi-4\", start=start, end=end, autoplay=1)"
   ]
  },
  {
   "cell_type": "code",
   "execution_count": null,
   "metadata": {},
   "outputs": [],
   "source": [
    "pl_predic_stock = pd.concat([stockC['Close'],predic_stock],axis=1)\n",
    "pl_predic_stock.rename(columns={'Close': 'Actual Closing Prices'}, inplace=True)\n",
    "pl_predic_stock"
   ]
  },
  {
   "cell_type": "code",
   "execution_count": null,
   "metadata": {},
   "outputs": [],
   "source": [
    "ideal_plots = [pl_predic_stock.columns[0]]+pl_predic_stock.columns[3:-1].tolist()\n",
    "ideal_plots"
   ]
  },
  {
   "cell_type": "code",
   "execution_count": null,
   "metadata": {},
   "outputs": [],
   "source": [
    "pl_predic_stock[ideal_plots].iplot(mode='lines+markers', \n",
    "                                    title='{0} Predicted Closing Prices from {1} to {2}'.format(label, \n",
    "                                                                              str(pl_predic_stock.index[-pred_n])[0:10], \n",
    "                                                                              str(pl_predic_stock.index[-1])[0:10]), \n",
    "                                    xTitle='\\nDate', \n",
    "                                    yTitle='Closing Price (₱)\\n')"
   ]
  },
  {
   "cell_type": "code",
   "execution_count": null,
   "metadata": {},
   "outputs": [],
   "source": []
  }
 ],
 "metadata": {
  "kernelspec": {
   "display_name": "Python 3",
   "language": "python",
   "name": "python3"
  },
  "language_info": {
   "codemirror_mode": {
    "name": "ipython",
    "version": 3
   },
   "file_extension": ".py",
   "mimetype": "text/x-python",
   "name": "python",
   "nbconvert_exporter": "python",
   "pygments_lexer": "ipython3",
   "version": "3.6.4"
  }
 },
 "nbformat": 4,
 "nbformat_minor": 2
}
