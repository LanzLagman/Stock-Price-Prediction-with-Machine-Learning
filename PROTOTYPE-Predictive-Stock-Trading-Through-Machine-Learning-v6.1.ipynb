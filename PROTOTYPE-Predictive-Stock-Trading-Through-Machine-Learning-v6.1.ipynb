{
 "cells": [
  {
   "cell_type": "markdown",
   "metadata": {},
   "source": [
    "# (PROTOTYPE) Predictive Stock Trading Through Machine Learning  with Sklearn's Linear Regression"
   ]
  },
  {
   "cell_type": "markdown",
   "metadata": {},
   "source": [
    "Time Submitted: () GMT+8, ()"
   ]
  },
  {
   "cell_type": "markdown",
   "metadata": {},
   "source": [
    "## Testing Grounds"
   ]
  },
  {
   "cell_type": "code",
   "execution_count": 6,
   "metadata": {},
   "outputs": [],
   "source": [
    "import numpy as np\n",
    "import pandas as pd\n",
    "import matplotlib.pyplot as plt\n",
    "%matplotlib inline\n",
    "import seaborn as sns\n",
    "from datetime import datetime, timedelta\n",
    "from adjustText import adjust_text"
   ]
  },
  {
   "cell_type": "code",
   "execution_count": 5,
   "metadata": {},
   "outputs": [
    {
     "name": "stdout",
     "output_type": "stream",
     "text": [
      "Collecting plotly\n"
     ]
    },
    {
     "name": "stderr",
     "output_type": "stream",
     "text": [
      "Operation cancelled by user\n"
     ]
    },
    {
     "data": {
      "text/plain": [
       "1"
      ]
     },
     "execution_count": 5,
     "metadata": {},
     "output_type": "execute_result"
    }
   ],
   "source": [
    "\"\"\"import pip\n",
    "import conda\n",
    "pip.main(['install','plotly'])\"\"\""
   ]
  },
  {
   "cell_type": "markdown",
   "metadata": {},
   "source": [
    "## Part 1: Predict JFC stocks from 3/5/18 - 3/16/18 then compare with latest WSJ Data "
   ]
  },
  {
   "cell_type": "markdown",
   "metadata": {},
   "source": [
    "Since Google Finance data is not currently updated, we could get data from Wall Street Journal. Instead of using an API, we have to download csv files from the website.\n",
    "Download csv file of JFC prices from 2013-1-1 to 2018-3-17.\n",
    "\n",
    "Source: http://quotes.wsj.com/PH/XPHS/JFC/historical-prices"
   ]
  },
  {
   "cell_type": "markdown",
   "metadata": {},
   "source": [
    "Import data."
   ]
  },
  {
   "cell_type": "code",
   "execution_count": 9,
   "metadata": {},
   "outputs": [],
   "source": [
    "stock = pd.read_csv('JFC_WSJ(for Prototype).csv')"
   ]
  },
  {
   "cell_type": "markdown",
   "metadata": {},
   "source": [
    "Inspect dataframe."
   ]
  },
  {
   "cell_type": "code",
   "execution_count": 10,
   "metadata": {
    "scrolled": false
   },
   "outputs": [
    {
     "data": {
      "text/plain": [
       "Index(['Date', ' Open', ' High', ' Low', ' Close', ' Volume'], dtype='object')"
      ]
     },
     "execution_count": 10,
     "metadata": {},
     "output_type": "execute_result"
    }
   ],
   "source": [
    "stock.columns"
   ]
  },
  {
   "cell_type": "markdown",
   "metadata": {},
   "source": [
    "Remove spaces from column names by renaming them."
   ]
  },
  {
   "cell_type": "code",
   "execution_count": 11,
   "metadata": {},
   "outputs": [
    {
     "data": {
      "text/plain": [
       "Index(['Date', 'Open', 'High', 'Low', 'Close', 'Volume'], dtype='object')"
      ]
     },
     "execution_count": 11,
     "metadata": {},
     "output_type": "execute_result"
    }
   ],
   "source": [
    "stock.rename(columns=lambda x: x.strip(), inplace=True)\n",
    "stock.columns"
   ]
  },
  {
   "cell_type": "code",
   "execution_count": 12,
   "metadata": {
    "scrolled": false
   },
   "outputs": [
    {
     "name": "stdout",
     "output_type": "stream",
     "text": [
      "<class 'pandas.core.frame.DataFrame'>\n",
      "RangeIndex: 1268 entries, 0 to 1267\n",
      "Data columns (total 6 columns):\n",
      "Date      1268 non-null object\n",
      "Open      1268 non-null float64\n",
      "High      1268 non-null float64\n",
      "Low       1268 non-null float64\n",
      "Close     1268 non-null float64\n",
      "Volume    1268 non-null int64\n",
      "dtypes: float64(4), int64(1), object(1)\n",
      "memory usage: 59.5+ KB\n"
     ]
    }
   ],
   "source": [
    "stock.info()"
   ]
  },
  {
   "cell_type": "code",
   "execution_count": 13,
   "metadata": {},
   "outputs": [
    {
     "data": {
      "text/html": [
       "<div>\n",
       "<style scoped>\n",
       "    .dataframe tbody tr th:only-of-type {\n",
       "        vertical-align: middle;\n",
       "    }\n",
       "\n",
       "    .dataframe tbody tr th {\n",
       "        vertical-align: top;\n",
       "    }\n",
       "\n",
       "    .dataframe thead th {\n",
       "        text-align: right;\n",
       "    }\n",
       "</style>\n",
       "<table border=\"1\" class=\"dataframe\">\n",
       "  <thead>\n",
       "    <tr style=\"text-align: right;\">\n",
       "      <th></th>\n",
       "      <th>Date</th>\n",
       "      <th>Open</th>\n",
       "      <th>High</th>\n",
       "      <th>Low</th>\n",
       "      <th>Close</th>\n",
       "      <th>Volume</th>\n",
       "    </tr>\n",
       "  </thead>\n",
       "  <tbody>\n",
       "    <tr>\n",
       "      <th>0</th>\n",
       "      <td>03/16/18</td>\n",
       "      <td>286.8</td>\n",
       "      <td>305.4</td>\n",
       "      <td>286.8</td>\n",
       "      <td>305.4</td>\n",
       "      <td>2052470</td>\n",
       "    </tr>\n",
       "    <tr>\n",
       "      <th>1</th>\n",
       "      <td>03/15/18</td>\n",
       "      <td>288.4</td>\n",
       "      <td>288.6</td>\n",
       "      <td>282.6</td>\n",
       "      <td>284.0</td>\n",
       "      <td>1140780</td>\n",
       "    </tr>\n",
       "    <tr>\n",
       "      <th>2</th>\n",
       "      <td>03/14/18</td>\n",
       "      <td>293.0</td>\n",
       "      <td>294.4</td>\n",
       "      <td>287.4</td>\n",
       "      <td>288.4</td>\n",
       "      <td>757340</td>\n",
       "    </tr>\n",
       "    <tr>\n",
       "      <th>3</th>\n",
       "      <td>03/13/18</td>\n",
       "      <td>296.0</td>\n",
       "      <td>297.0</td>\n",
       "      <td>292.4</td>\n",
       "      <td>293.0</td>\n",
       "      <td>557650</td>\n",
       "    </tr>\n",
       "    <tr>\n",
       "      <th>4</th>\n",
       "      <td>03/12/18</td>\n",
       "      <td>296.0</td>\n",
       "      <td>299.0</td>\n",
       "      <td>292.2</td>\n",
       "      <td>295.4</td>\n",
       "      <td>303520</td>\n",
       "    </tr>\n",
       "  </tbody>\n",
       "</table>\n",
       "</div>"
      ],
      "text/plain": [
       "       Date   Open   High    Low  Close   Volume\n",
       "0  03/16/18  286.8  305.4  286.8  305.4  2052470\n",
       "1  03/15/18  288.4  288.6  282.6  284.0  1140780\n",
       "2  03/14/18  293.0  294.4  287.4  288.4   757340\n",
       "3  03/13/18  296.0  297.0  292.4  293.0   557650\n",
       "4  03/12/18  296.0  299.0  292.2  295.4   303520"
      ]
     },
     "execution_count": 13,
     "metadata": {},
     "output_type": "execute_result"
    }
   ],
   "source": [
    "stock.head()"
   ]
  },
  {
   "cell_type": "code",
   "execution_count": 14,
   "metadata": {},
   "outputs": [
    {
     "data": {
      "text/html": [
       "<div>\n",
       "<style scoped>\n",
       "    .dataframe tbody tr th:only-of-type {\n",
       "        vertical-align: middle;\n",
       "    }\n",
       "\n",
       "    .dataframe tbody tr th {\n",
       "        vertical-align: top;\n",
       "    }\n",
       "\n",
       "    .dataframe thead th {\n",
       "        text-align: right;\n",
       "    }\n",
       "</style>\n",
       "<table border=\"1\" class=\"dataframe\">\n",
       "  <thead>\n",
       "    <tr style=\"text-align: right;\">\n",
       "      <th></th>\n",
       "      <th>Date</th>\n",
       "      <th>Open</th>\n",
       "      <th>High</th>\n",
       "      <th>Low</th>\n",
       "      <th>Close</th>\n",
       "      <th>Volume</th>\n",
       "    </tr>\n",
       "  </thead>\n",
       "  <tbody>\n",
       "    <tr>\n",
       "      <th>1263</th>\n",
       "      <td>01/08/13</td>\n",
       "      <td>107.1</td>\n",
       "      <td>107.7</td>\n",
       "      <td>107.1</td>\n",
       "      <td>107.3</td>\n",
       "      <td>389530</td>\n",
       "    </tr>\n",
       "    <tr>\n",
       "      <th>1264</th>\n",
       "      <td>01/07/13</td>\n",
       "      <td>107.5</td>\n",
       "      <td>107.5</td>\n",
       "      <td>106.7</td>\n",
       "      <td>107.0</td>\n",
       "      <td>719780</td>\n",
       "    </tr>\n",
       "    <tr>\n",
       "      <th>1265</th>\n",
       "      <td>01/04/13</td>\n",
       "      <td>107.0</td>\n",
       "      <td>107.6</td>\n",
       "      <td>107.0</td>\n",
       "      <td>107.6</td>\n",
       "      <td>548040</td>\n",
       "    </tr>\n",
       "    <tr>\n",
       "      <th>1266</th>\n",
       "      <td>01/03/13</td>\n",
       "      <td>104.8</td>\n",
       "      <td>107.5</td>\n",
       "      <td>104.8</td>\n",
       "      <td>107.2</td>\n",
       "      <td>684290</td>\n",
       "    </tr>\n",
       "    <tr>\n",
       "      <th>1267</th>\n",
       "      <td>01/02/13</td>\n",
       "      <td>102.0</td>\n",
       "      <td>104.5</td>\n",
       "      <td>102.0</td>\n",
       "      <td>104.2</td>\n",
       "      <td>125900</td>\n",
       "    </tr>\n",
       "  </tbody>\n",
       "</table>\n",
       "</div>"
      ],
      "text/plain": [
       "          Date   Open   High    Low  Close  Volume\n",
       "1263  01/08/13  107.1  107.7  107.1  107.3  389530\n",
       "1264  01/07/13  107.5  107.5  106.7  107.0  719780\n",
       "1265  01/04/13  107.0  107.6  107.0  107.6  548040\n",
       "1266  01/03/13  104.8  107.5  104.8  107.2  684290\n",
       "1267  01/02/13  102.0  104.5  102.0  104.2  125900"
      ]
     },
     "execution_count": 14,
     "metadata": {},
     "output_type": "execute_result"
    }
   ],
   "source": [
    "stock.tail()"
   ]
  },
  {
   "cell_type": "code",
   "execution_count": 15,
   "metadata": {},
   "outputs": [
    {
     "data": {
      "text/plain": [
       "Date      0\n",
       "Open      0\n",
       "High      0\n",
       "Low       0\n",
       "Close     0\n",
       "Volume    0\n",
       "dtype: int64"
      ]
     },
     "execution_count": 15,
     "metadata": {},
     "output_type": "execute_result"
    }
   ],
   "source": [
    "stock.isnull().sum()"
   ]
  },
  {
   "cell_type": "markdown",
   "metadata": {},
   "source": [
    "No NaN values!!!\n",
    "However, we have to rearrange the data from descending to ascending order."
   ]
  },
  {
   "cell_type": "code",
   "execution_count": 16,
   "metadata": {
    "scrolled": true
   },
   "outputs": [],
   "source": [
    "stock = stock.reindex(index=stock.index[::-1]).reset_index(drop=True)"
   ]
  },
  {
   "cell_type": "code",
   "execution_count": 17,
   "metadata": {
    "scrolled": true
   },
   "outputs": [
    {
     "data": {
      "text/html": [
       "<div>\n",
       "<style scoped>\n",
       "    .dataframe tbody tr th:only-of-type {\n",
       "        vertical-align: middle;\n",
       "    }\n",
       "\n",
       "    .dataframe tbody tr th {\n",
       "        vertical-align: top;\n",
       "    }\n",
       "\n",
       "    .dataframe thead th {\n",
       "        text-align: right;\n",
       "    }\n",
       "</style>\n",
       "<table border=\"1\" class=\"dataframe\">\n",
       "  <thead>\n",
       "    <tr style=\"text-align: right;\">\n",
       "      <th></th>\n",
       "      <th>Date</th>\n",
       "      <th>Open</th>\n",
       "      <th>High</th>\n",
       "      <th>Low</th>\n",
       "      <th>Close</th>\n",
       "      <th>Volume</th>\n",
       "    </tr>\n",
       "  </thead>\n",
       "  <tbody>\n",
       "    <tr>\n",
       "      <th>0</th>\n",
       "      <td>01/02/13</td>\n",
       "      <td>102.0</td>\n",
       "      <td>104.5</td>\n",
       "      <td>102.0</td>\n",
       "      <td>104.2</td>\n",
       "      <td>125900</td>\n",
       "    </tr>\n",
       "    <tr>\n",
       "      <th>1</th>\n",
       "      <td>01/03/13</td>\n",
       "      <td>104.8</td>\n",
       "      <td>107.5</td>\n",
       "      <td>104.8</td>\n",
       "      <td>107.2</td>\n",
       "      <td>684290</td>\n",
       "    </tr>\n",
       "    <tr>\n",
       "      <th>2</th>\n",
       "      <td>01/04/13</td>\n",
       "      <td>107.0</td>\n",
       "      <td>107.6</td>\n",
       "      <td>107.0</td>\n",
       "      <td>107.6</td>\n",
       "      <td>548040</td>\n",
       "    </tr>\n",
       "    <tr>\n",
       "      <th>3</th>\n",
       "      <td>01/07/13</td>\n",
       "      <td>107.5</td>\n",
       "      <td>107.5</td>\n",
       "      <td>106.7</td>\n",
       "      <td>107.0</td>\n",
       "      <td>719780</td>\n",
       "    </tr>\n",
       "    <tr>\n",
       "      <th>4</th>\n",
       "      <td>01/08/13</td>\n",
       "      <td>107.1</td>\n",
       "      <td>107.7</td>\n",
       "      <td>107.1</td>\n",
       "      <td>107.3</td>\n",
       "      <td>389530</td>\n",
       "    </tr>\n",
       "  </tbody>\n",
       "</table>\n",
       "</div>"
      ],
      "text/plain": [
       "       Date   Open   High    Low  Close  Volume\n",
       "0  01/02/13  102.0  104.5  102.0  104.2  125900\n",
       "1  01/03/13  104.8  107.5  104.8  107.2  684290\n",
       "2  01/04/13  107.0  107.6  107.0  107.6  548040\n",
       "3  01/07/13  107.5  107.5  106.7  107.0  719780\n",
       "4  01/08/13  107.1  107.7  107.1  107.3  389530"
      ]
     },
     "execution_count": 17,
     "metadata": {},
     "output_type": "execute_result"
    }
   ],
   "source": [
    "stock.head()"
   ]
  },
  {
   "cell_type": "code",
   "execution_count": 18,
   "metadata": {
    "scrolled": true
   },
   "outputs": [
    {
     "data": {
      "text/html": [
       "<div>\n",
       "<style scoped>\n",
       "    .dataframe tbody tr th:only-of-type {\n",
       "        vertical-align: middle;\n",
       "    }\n",
       "\n",
       "    .dataframe tbody tr th {\n",
       "        vertical-align: top;\n",
       "    }\n",
       "\n",
       "    .dataframe thead th {\n",
       "        text-align: right;\n",
       "    }\n",
       "</style>\n",
       "<table border=\"1\" class=\"dataframe\">\n",
       "  <thead>\n",
       "    <tr style=\"text-align: right;\">\n",
       "      <th></th>\n",
       "      <th>Date</th>\n",
       "      <th>Open</th>\n",
       "      <th>High</th>\n",
       "      <th>Low</th>\n",
       "      <th>Close</th>\n",
       "      <th>Volume</th>\n",
       "    </tr>\n",
       "  </thead>\n",
       "  <tbody>\n",
       "    <tr>\n",
       "      <th>1263</th>\n",
       "      <td>03/12/18</td>\n",
       "      <td>296.0</td>\n",
       "      <td>299.0</td>\n",
       "      <td>292.2</td>\n",
       "      <td>295.4</td>\n",
       "      <td>303520</td>\n",
       "    </tr>\n",
       "    <tr>\n",
       "      <th>1264</th>\n",
       "      <td>03/13/18</td>\n",
       "      <td>296.0</td>\n",
       "      <td>297.0</td>\n",
       "      <td>292.4</td>\n",
       "      <td>293.0</td>\n",
       "      <td>557650</td>\n",
       "    </tr>\n",
       "    <tr>\n",
       "      <th>1265</th>\n",
       "      <td>03/14/18</td>\n",
       "      <td>293.0</td>\n",
       "      <td>294.4</td>\n",
       "      <td>287.4</td>\n",
       "      <td>288.4</td>\n",
       "      <td>757340</td>\n",
       "    </tr>\n",
       "    <tr>\n",
       "      <th>1266</th>\n",
       "      <td>03/15/18</td>\n",
       "      <td>288.4</td>\n",
       "      <td>288.6</td>\n",
       "      <td>282.6</td>\n",
       "      <td>284.0</td>\n",
       "      <td>1140780</td>\n",
       "    </tr>\n",
       "    <tr>\n",
       "      <th>1267</th>\n",
       "      <td>03/16/18</td>\n",
       "      <td>286.8</td>\n",
       "      <td>305.4</td>\n",
       "      <td>286.8</td>\n",
       "      <td>305.4</td>\n",
       "      <td>2052470</td>\n",
       "    </tr>\n",
       "  </tbody>\n",
       "</table>\n",
       "</div>"
      ],
      "text/plain": [
       "          Date   Open   High    Low  Close   Volume\n",
       "1263  03/12/18  296.0  299.0  292.2  295.4   303520\n",
       "1264  03/13/18  296.0  297.0  292.4  293.0   557650\n",
       "1265  03/14/18  293.0  294.4  287.4  288.4   757340\n",
       "1266  03/15/18  288.4  288.6  282.6  284.0  1140780\n",
       "1267  03/16/18  286.8  305.4  286.8  305.4  2052470"
      ]
     },
     "execution_count": 18,
     "metadata": {},
     "output_type": "execute_result"
    }
   ],
   "source": [
    "stock.tail()"
   ]
  },
  {
   "cell_type": "markdown",
   "metadata": {},
   "source": [
    "Convert 'Date' column as datetime objects and set it as index column."
   ]
  },
  {
   "cell_type": "code",
   "execution_count": 19,
   "metadata": {},
   "outputs": [],
   "source": [
    "stock['Date'] = pd.to_datetime(stock['Date'], infer_datetime_format=True)"
   ]
  },
  {
   "cell_type": "code",
   "execution_count": 20,
   "metadata": {},
   "outputs": [],
   "source": [
    "stock.set_index('Date',inplace=True)"
   ]
  },
  {
   "cell_type": "code",
   "execution_count": 21,
   "metadata": {
    "scrolled": true
   },
   "outputs": [
    {
     "name": "stdout",
     "output_type": "stream",
     "text": [
      "<class 'pandas.core.frame.DataFrame'>\n",
      "DatetimeIndex: 1268 entries, 2013-01-02 to 2018-03-16\n",
      "Data columns (total 5 columns):\n",
      "Open      1268 non-null float64\n",
      "High      1268 non-null float64\n",
      "Low       1268 non-null float64\n",
      "Close     1268 non-null float64\n",
      "Volume    1268 non-null int64\n",
      "dtypes: float64(4), int64(1)\n",
      "memory usage: 59.4 KB\n"
     ]
    }
   ],
   "source": [
    "stock.info()"
   ]
  },
  {
   "cell_type": "code",
   "execution_count": 22,
   "metadata": {},
   "outputs": [
    {
     "data": {
      "text/plain": [
       "pandas.core.indexes.datetimes.DatetimeIndex"
      ]
     },
     "execution_count": 22,
     "metadata": {},
     "output_type": "execute_result"
    }
   ],
   "source": [
    "type(stock.index)"
   ]
  },
  {
   "cell_type": "code",
   "execution_count": 23,
   "metadata": {
    "scrolled": true
   },
   "outputs": [
    {
     "data": {
      "text/html": [
       "<div>\n",
       "<style scoped>\n",
       "    .dataframe tbody tr th:only-of-type {\n",
       "        vertical-align: middle;\n",
       "    }\n",
       "\n",
       "    .dataframe tbody tr th {\n",
       "        vertical-align: top;\n",
       "    }\n",
       "\n",
       "    .dataframe thead th {\n",
       "        text-align: right;\n",
       "    }\n",
       "</style>\n",
       "<table border=\"1\" class=\"dataframe\">\n",
       "  <thead>\n",
       "    <tr style=\"text-align: right;\">\n",
       "      <th></th>\n",
       "      <th>Open</th>\n",
       "      <th>High</th>\n",
       "      <th>Low</th>\n",
       "      <th>Close</th>\n",
       "      <th>Volume</th>\n",
       "    </tr>\n",
       "    <tr>\n",
       "      <th>Date</th>\n",
       "      <th></th>\n",
       "      <th></th>\n",
       "      <th></th>\n",
       "      <th></th>\n",
       "      <th></th>\n",
       "    </tr>\n",
       "  </thead>\n",
       "  <tbody>\n",
       "    <tr>\n",
       "      <th>2018-03-12</th>\n",
       "      <td>296.0</td>\n",
       "      <td>299.0</td>\n",
       "      <td>292.2</td>\n",
       "      <td>295.4</td>\n",
       "      <td>303520</td>\n",
       "    </tr>\n",
       "    <tr>\n",
       "      <th>2018-03-13</th>\n",
       "      <td>296.0</td>\n",
       "      <td>297.0</td>\n",
       "      <td>292.4</td>\n",
       "      <td>293.0</td>\n",
       "      <td>557650</td>\n",
       "    </tr>\n",
       "    <tr>\n",
       "      <th>2018-03-14</th>\n",
       "      <td>293.0</td>\n",
       "      <td>294.4</td>\n",
       "      <td>287.4</td>\n",
       "      <td>288.4</td>\n",
       "      <td>757340</td>\n",
       "    </tr>\n",
       "    <tr>\n",
       "      <th>2018-03-15</th>\n",
       "      <td>288.4</td>\n",
       "      <td>288.6</td>\n",
       "      <td>282.6</td>\n",
       "      <td>284.0</td>\n",
       "      <td>1140780</td>\n",
       "    </tr>\n",
       "    <tr>\n",
       "      <th>2018-03-16</th>\n",
       "      <td>286.8</td>\n",
       "      <td>305.4</td>\n",
       "      <td>286.8</td>\n",
       "      <td>305.4</td>\n",
       "      <td>2052470</td>\n",
       "    </tr>\n",
       "  </tbody>\n",
       "</table>\n",
       "</div>"
      ],
      "text/plain": [
       "             Open   High    Low  Close   Volume\n",
       "Date                                           \n",
       "2018-03-12  296.0  299.0  292.2  295.4   303520\n",
       "2018-03-13  296.0  297.0  292.4  293.0   557650\n",
       "2018-03-14  293.0  294.4  287.4  288.4   757340\n",
       "2018-03-15  288.4  288.6  282.6  284.0  1140780\n",
       "2018-03-16  286.8  305.4  286.8  305.4  2052470"
      ]
     },
     "execution_count": 23,
     "metadata": {},
     "output_type": "execute_result"
    }
   ],
   "source": [
    "stock.tail()"
   ]
  },
  {
   "cell_type": "markdown",
   "metadata": {},
   "source": [
    "Create Copy for exercise."
   ]
  },
  {
   "cell_type": "code",
   "execution_count": 24,
   "metadata": {
    "scrolled": true
   },
   "outputs": [
    {
     "data": {
      "text/html": [
       "<div>\n",
       "<style scoped>\n",
       "    .dataframe tbody tr th:only-of-type {\n",
       "        vertical-align: middle;\n",
       "    }\n",
       "\n",
       "    .dataframe tbody tr th {\n",
       "        vertical-align: top;\n",
       "    }\n",
       "\n",
       "    .dataframe thead th {\n",
       "        text-align: right;\n",
       "    }\n",
       "</style>\n",
       "<table border=\"1\" class=\"dataframe\">\n",
       "  <thead>\n",
       "    <tr style=\"text-align: right;\">\n",
       "      <th></th>\n",
       "      <th>Open</th>\n",
       "      <th>High</th>\n",
       "      <th>Low</th>\n",
       "      <th>Close</th>\n",
       "      <th>Volume</th>\n",
       "    </tr>\n",
       "    <tr>\n",
       "      <th>Date</th>\n",
       "      <th></th>\n",
       "      <th></th>\n",
       "      <th></th>\n",
       "      <th></th>\n",
       "      <th></th>\n",
       "    </tr>\n",
       "  </thead>\n",
       "  <tbody>\n",
       "    <tr>\n",
       "      <th>2018-03-05</th>\n",
       "      <td>299.0</td>\n",
       "      <td>300.0</td>\n",
       "      <td>296.0</td>\n",
       "      <td>299.6</td>\n",
       "      <td>388840</td>\n",
       "    </tr>\n",
       "    <tr>\n",
       "      <th>2018-03-06</th>\n",
       "      <td>300.0</td>\n",
       "      <td>304.0</td>\n",
       "      <td>297.8</td>\n",
       "      <td>298.6</td>\n",
       "      <td>833460</td>\n",
       "    </tr>\n",
       "    <tr>\n",
       "      <th>2018-03-07</th>\n",
       "      <td>300.0</td>\n",
       "      <td>304.0</td>\n",
       "      <td>299.8</td>\n",
       "      <td>304.0</td>\n",
       "      <td>853340</td>\n",
       "    </tr>\n",
       "    <tr>\n",
       "      <th>2018-03-08</th>\n",
       "      <td>303.0</td>\n",
       "      <td>304.0</td>\n",
       "      <td>295.0</td>\n",
       "      <td>295.0</td>\n",
       "      <td>367970</td>\n",
       "    </tr>\n",
       "    <tr>\n",
       "      <th>2018-03-09</th>\n",
       "      <td>297.0</td>\n",
       "      <td>297.0</td>\n",
       "      <td>292.0</td>\n",
       "      <td>292.0</td>\n",
       "      <td>352590</td>\n",
       "    </tr>\n",
       "    <tr>\n",
       "      <th>2018-03-12</th>\n",
       "      <td>296.0</td>\n",
       "      <td>299.0</td>\n",
       "      <td>292.2</td>\n",
       "      <td>295.4</td>\n",
       "      <td>303520</td>\n",
       "    </tr>\n",
       "    <tr>\n",
       "      <th>2018-03-13</th>\n",
       "      <td>296.0</td>\n",
       "      <td>297.0</td>\n",
       "      <td>292.4</td>\n",
       "      <td>293.0</td>\n",
       "      <td>557650</td>\n",
       "    </tr>\n",
       "    <tr>\n",
       "      <th>2018-03-14</th>\n",
       "      <td>293.0</td>\n",
       "      <td>294.4</td>\n",
       "      <td>287.4</td>\n",
       "      <td>288.4</td>\n",
       "      <td>757340</td>\n",
       "    </tr>\n",
       "    <tr>\n",
       "      <th>2018-03-15</th>\n",
       "      <td>288.4</td>\n",
       "      <td>288.6</td>\n",
       "      <td>282.6</td>\n",
       "      <td>284.0</td>\n",
       "      <td>1140780</td>\n",
       "    </tr>\n",
       "    <tr>\n",
       "      <th>2018-03-16</th>\n",
       "      <td>286.8</td>\n",
       "      <td>305.4</td>\n",
       "      <td>286.8</td>\n",
       "      <td>305.4</td>\n",
       "      <td>2052470</td>\n",
       "    </tr>\n",
       "  </tbody>\n",
       "</table>\n",
       "</div>"
      ],
      "text/plain": [
       "             Open   High    Low  Close   Volume\n",
       "Date                                           \n",
       "2018-03-05  299.0  300.0  296.0  299.6   388840\n",
       "2018-03-06  300.0  304.0  297.8  298.6   833460\n",
       "2018-03-07  300.0  304.0  299.8  304.0   853340\n",
       "2018-03-08  303.0  304.0  295.0  295.0   367970\n",
       "2018-03-09  297.0  297.0  292.0  292.0   352590\n",
       "2018-03-12  296.0  299.0  292.2  295.4   303520\n",
       "2018-03-13  296.0  297.0  292.4  293.0   557650\n",
       "2018-03-14  293.0  294.4  287.4  288.4   757340\n",
       "2018-03-15  288.4  288.6  282.6  284.0  1140780\n",
       "2018-03-16  286.8  305.4  286.8  305.4  2052470"
      ]
     },
     "execution_count": 24,
     "metadata": {},
     "output_type": "execute_result"
    }
   ],
   "source": [
    "stockC = stock[stock.index.isin(pd.date_range(start='2013-01-01', end='2018-03-16'))]\n",
    "stockC.tail(10)"
   ]
  },
  {
   "cell_type": "markdown",
   "metadata": {},
   "source": [
    "Notice that there are no values for 3/3 and 3/4. Trading days excluse weekends and holidays.\n",
    "\n",
    "Add Prediction column which contains the predicted Close column value n trading days later.\n",
    "\n",
    "The contents of the new column are just the values of the Close column shifted 5 days backwards, therefore, n=-5"
   ]
  },
  {
   "cell_type": "code",
   "execution_count": 25,
   "metadata": {
    "scrolled": true
   },
   "outputs": [
    {
     "data": {
      "text/html": [
       "<div>\n",
       "<style scoped>\n",
       "    .dataframe tbody tr th:only-of-type {\n",
       "        vertical-align: middle;\n",
       "    }\n",
       "\n",
       "    .dataframe tbody tr th {\n",
       "        vertical-align: top;\n",
       "    }\n",
       "\n",
       "    .dataframe thead th {\n",
       "        text-align: right;\n",
       "    }\n",
       "</style>\n",
       "<table border=\"1\" class=\"dataframe\">\n",
       "  <thead>\n",
       "    <tr style=\"text-align: right;\">\n",
       "      <th></th>\n",
       "      <th>Open</th>\n",
       "      <th>High</th>\n",
       "      <th>Low</th>\n",
       "      <th>Close</th>\n",
       "      <th>Volume</th>\n",
       "      <th>Prediction</th>\n",
       "    </tr>\n",
       "    <tr>\n",
       "      <th>Date</th>\n",
       "      <th></th>\n",
       "      <th></th>\n",
       "      <th></th>\n",
       "      <th></th>\n",
       "      <th></th>\n",
       "      <th></th>\n",
       "    </tr>\n",
       "  </thead>\n",
       "  <tbody>\n",
       "    <tr>\n",
       "      <th>2018-03-02</th>\n",
       "      <td>297.6</td>\n",
       "      <td>298.4</td>\n",
       "      <td>295.0</td>\n",
       "      <td>298.0</td>\n",
       "      <td>735080</td>\n",
       "      <td>305.4</td>\n",
       "    </tr>\n",
       "    <tr>\n",
       "      <th>2018-03-05</th>\n",
       "      <td>299.0</td>\n",
       "      <td>300.0</td>\n",
       "      <td>296.0</td>\n",
       "      <td>299.6</td>\n",
       "      <td>388840</td>\n",
       "      <td>NaN</td>\n",
       "    </tr>\n",
       "    <tr>\n",
       "      <th>2018-03-06</th>\n",
       "      <td>300.0</td>\n",
       "      <td>304.0</td>\n",
       "      <td>297.8</td>\n",
       "      <td>298.6</td>\n",
       "      <td>833460</td>\n",
       "      <td>NaN</td>\n",
       "    </tr>\n",
       "    <tr>\n",
       "      <th>2018-03-07</th>\n",
       "      <td>300.0</td>\n",
       "      <td>304.0</td>\n",
       "      <td>299.8</td>\n",
       "      <td>304.0</td>\n",
       "      <td>853340</td>\n",
       "      <td>NaN</td>\n",
       "    </tr>\n",
       "    <tr>\n",
       "      <th>2018-03-08</th>\n",
       "      <td>303.0</td>\n",
       "      <td>304.0</td>\n",
       "      <td>295.0</td>\n",
       "      <td>295.0</td>\n",
       "      <td>367970</td>\n",
       "      <td>NaN</td>\n",
       "    </tr>\n",
       "    <tr>\n",
       "      <th>2018-03-09</th>\n",
       "      <td>297.0</td>\n",
       "      <td>297.0</td>\n",
       "      <td>292.0</td>\n",
       "      <td>292.0</td>\n",
       "      <td>352590</td>\n",
       "      <td>NaN</td>\n",
       "    </tr>\n",
       "    <tr>\n",
       "      <th>2018-03-12</th>\n",
       "      <td>296.0</td>\n",
       "      <td>299.0</td>\n",
       "      <td>292.2</td>\n",
       "      <td>295.4</td>\n",
       "      <td>303520</td>\n",
       "      <td>NaN</td>\n",
       "    </tr>\n",
       "    <tr>\n",
       "      <th>2018-03-13</th>\n",
       "      <td>296.0</td>\n",
       "      <td>297.0</td>\n",
       "      <td>292.4</td>\n",
       "      <td>293.0</td>\n",
       "      <td>557650</td>\n",
       "      <td>NaN</td>\n",
       "    </tr>\n",
       "    <tr>\n",
       "      <th>2018-03-14</th>\n",
       "      <td>293.0</td>\n",
       "      <td>294.4</td>\n",
       "      <td>287.4</td>\n",
       "      <td>288.4</td>\n",
       "      <td>757340</td>\n",
       "      <td>NaN</td>\n",
       "    </tr>\n",
       "    <tr>\n",
       "      <th>2018-03-15</th>\n",
       "      <td>288.4</td>\n",
       "      <td>288.6</td>\n",
       "      <td>282.6</td>\n",
       "      <td>284.0</td>\n",
       "      <td>1140780</td>\n",
       "      <td>NaN</td>\n",
       "    </tr>\n",
       "    <tr>\n",
       "      <th>2018-03-16</th>\n",
       "      <td>286.8</td>\n",
       "      <td>305.4</td>\n",
       "      <td>286.8</td>\n",
       "      <td>305.4</td>\n",
       "      <td>2052470</td>\n",
       "      <td>NaN</td>\n",
       "    </tr>\n",
       "  </tbody>\n",
       "</table>\n",
       "</div>"
      ],
      "text/plain": [
       "             Open   High    Low  Close   Volume  Prediction\n",
       "Date                                                       \n",
       "2018-03-02  297.6  298.4  295.0  298.0   735080       305.4\n",
       "2018-03-05  299.0  300.0  296.0  299.6   388840         NaN\n",
       "2018-03-06  300.0  304.0  297.8  298.6   833460         NaN\n",
       "2018-03-07  300.0  304.0  299.8  304.0   853340         NaN\n",
       "2018-03-08  303.0  304.0  295.0  295.0   367970         NaN\n",
       "2018-03-09  297.0  297.0  292.0  292.0   352590         NaN\n",
       "2018-03-12  296.0  299.0  292.2  295.4   303520         NaN\n",
       "2018-03-13  296.0  297.0  292.4  293.0   557650         NaN\n",
       "2018-03-14  293.0  294.4  287.4  288.4   757340         NaN\n",
       "2018-03-15  288.4  288.6  282.6  284.0  1140780         NaN\n",
       "2018-03-16  286.8  305.4  286.8  305.4  2052470         NaN"
      ]
     },
     "execution_count": 25,
     "metadata": {},
     "output_type": "execute_result"
    }
   ],
   "source": [
    "n=-10\n",
    "stockC['Prediction'] = stockC['Close'].shift(n)\n",
    "stockC.tail(11)"
   ]
  },
  {
   "cell_type": "code",
   "execution_count": 26,
   "metadata": {},
   "outputs": [
    {
     "data": {
      "text/plain": [
       "1268"
      ]
     },
     "execution_count": 26,
     "metadata": {},
     "output_type": "execute_result"
    }
   ],
   "source": [
    "len(stockC)"
   ]
  },
  {
   "cell_type": "markdown",
   "metadata": {},
   "source": [
    "In order to prepare the data for machine learning, we have to delete all rows with NaN values."
   ]
  },
  {
   "cell_type": "code",
   "execution_count": 27,
   "metadata": {},
   "outputs": [],
   "source": [
    "from sklearn import preprocessing"
   ]
  },
  {
   "cell_type": "code",
   "execution_count": 28,
   "metadata": {},
   "outputs": [],
   "source": [
    "X = preprocessing.scale(stockC.drop(['Prediction'], axis=1))"
   ]
  },
  {
   "cell_type": "code",
   "execution_count": 29,
   "metadata": {},
   "outputs": [],
   "source": [
    "X_predict = X[n:]\n",
    "X = X[:n]"
   ]
  },
  {
   "cell_type": "code",
   "execution_count": 30,
   "metadata": {},
   "outputs": [],
   "source": [
    "y = stockC['Prediction'][:n]"
   ]
  },
  {
   "cell_type": "code",
   "execution_count": 31,
   "metadata": {},
   "outputs": [
    {
     "name": "stdout",
     "output_type": "stream",
     "text": [
      "<class 'numpy.ndarray'> <class 'numpy.ndarray'> <class 'pandas.core.series.Series'>\n"
     ]
    }
   ],
   "source": [
    "print(type(X), type(X_predict), type(y))"
   ]
  },
  {
   "cell_type": "code",
   "execution_count": 32,
   "metadata": {
    "scrolled": true
   },
   "outputs": [
    {
     "name": "stdout",
     "output_type": "stream",
     "text": [
      "1258 10 1258\n"
     ]
    }
   ],
   "source": [
    "print(len(X), len(X_predict), len(y))"
   ]
  },
  {
   "cell_type": "code",
   "execution_count": 33,
   "metadata": {},
   "outputs": [],
   "source": [
    "from sklearn.model_selection import train_test_split"
   ]
  },
  {
   "cell_type": "code",
   "execution_count": 34,
   "metadata": {},
   "outputs": [],
   "source": [
    "X_train, X_test, y_train, y_test = train_test_split(X, y, test_size=(0.2))"
   ]
  },
  {
   "cell_type": "code",
   "execution_count": 35,
   "metadata": {},
   "outputs": [
    {
     "name": "stdout",
     "output_type": "stream",
     "text": [
      "<class 'numpy.ndarray'> <class 'numpy.ndarray'> <class 'pandas.core.series.Series'> <class 'pandas.core.series.Series'>\n"
     ]
    }
   ],
   "source": [
    "print(type(X_train), type(X_test), type(y_train), type(y_test) )"
   ]
  },
  {
   "cell_type": "code",
   "execution_count": 36,
   "metadata": {
    "scrolled": true
   },
   "outputs": [
    {
     "name": "stdout",
     "output_type": "stream",
     "text": [
      "1006 252 1006 252\n"
     ]
    }
   ],
   "source": [
    "print(len(X_train), len(X_test), len(y_train), len(y_test) )"
   ]
  },
  {
   "cell_type": "code",
   "execution_count": 37,
   "metadata": {},
   "outputs": [],
   "source": [
    "from sklearn.linear_model import LinearRegression"
   ]
  },
  {
   "cell_type": "code",
   "execution_count": 38,
   "metadata": {},
   "outputs": [],
   "source": [
    "lm = LinearRegression()"
   ]
  },
  {
   "cell_type": "code",
   "execution_count": 39,
   "metadata": {},
   "outputs": [
    {
     "data": {
      "text/plain": [
       "LinearRegression(copy_X=True, fit_intercept=True, n_jobs=1, normalize=False)"
      ]
     },
     "execution_count": 39,
     "metadata": {},
     "output_type": "execute_result"
    }
   ],
   "source": [
    "lm.fit(X_train,y_train)"
   ]
  },
  {
   "cell_type": "markdown",
   "metadata": {},
   "source": [
    "### Cross Validation"
   ]
  },
  {
   "cell_type": "code",
   "execution_count": 40,
   "metadata": {},
   "outputs": [
    {
     "data": {
      "text/plain": [
       "array([0.69694137, 0.07248903, 0.30929769, 0.73236715, 0.46188133,\n",
       "       0.40399605, 0.65348755, 0.60289925, 0.4340348 , 0.65228796])"
      ]
     },
     "execution_count": 40,
     "metadata": {},
     "output_type": "execute_result"
    }
   ],
   "source": [
    "from sklearn.model_selection import cross_val_score\n",
    "from sklearn.svm import SVR\n",
    "\n",
    "lm = SVR(kernel='linear', C=1)\n",
    "scores = cross_val_score(lm, X, y, cv=10)\n",
    "scores #score for each split"
   ]
  },
  {
   "cell_type": "code",
   "execution_count": 41,
   "metadata": {
    "scrolled": true
   },
   "outputs": [
    {
     "name": "stdout",
     "output_type": "stream",
     "text": [
      "Accuracy: 0.50 (+/- 0.39)\n"
     ]
    }
   ],
   "source": [
    "print(\"Accuracy: %0.2f (+/- %0.2f)\" % (scores.mean(), scores.std() * 2))"
   ]
  },
  {
   "cell_type": "code",
   "execution_count": 42,
   "metadata": {},
   "outputs": [
    {
     "name": "stdout",
     "output_type": "stream",
     "text": [
      "Accuracy: 95.36502495442556%\n"
     ]
    }
   ],
   "source": [
    "lm.fit(X_train, y_train)\n",
    "accuracy = lm.score(X_test, y_test)\n",
    "print('Accuracy: '+str(accuracy*100)+'%')"
   ]
  },
  {
   "cell_type": "markdown",
   "metadata": {},
   "source": [
    "### Predictions"
   ]
  },
  {
   "cell_type": "code",
   "execution_count": 43,
   "metadata": {},
   "outputs": [],
   "source": [
    "predictions = lm.predict(X_test)"
   ]
  },
  {
   "cell_type": "code",
   "execution_count": 44,
   "metadata": {},
   "outputs": [
    {
     "data": {
      "image/png": "[encoded data removed]",
      "text/plain": [
       "<matplotlib.figure.Figure at 0xe9ddbc3470>"
      ]
     },
     "metadata": {},
     "output_type": "display_data"
    }
   ],
   "source": [
    "plt.scatter(y_test,predictions)\n",
    "plt.title('Accuracy: '+str((accuracy*100).round(2))+'%')\n",
    "plt.xlabel('Y Test')\n",
    "plt.ylabel('Predicted Y')\n",
    "sns.set_style('whitegrid')"
   ]
  },
  {
   "cell_type": "code",
   "execution_count": 45,
   "metadata": {},
   "outputs": [
    {
     "data": {
      "text/plain": [
       "<matplotlib.axes._subplots.AxesSubplot at 0xe9de9e8898>"
      ]
     },
     "execution_count": 45,
     "metadata": {},
     "output_type": "execute_result"
    },
    {
     "data": {
      "image/png": "[encoded data removed]",
      "text/plain": [
       "<matplotlib.figure.Figure at 0xe9ddbace48>"
      ]
     },
     "metadata": {},
     "output_type": "display_data"
    }
   ],
   "source": [
    "sns.distplot((y_test-predictions),bins=50)"
   ]
  },
  {
   "cell_type": "code",
   "execution_count": 46,
   "metadata": {
    "scrolled": true
   },
   "outputs": [
    {
     "data": {
      "text/plain": [
       "1258"
      ]
     },
     "execution_count": 46,
     "metadata": {},
     "output_type": "execute_result"
    }
   ],
   "source": [
    "predr_i = stock.index.get_loc(pd.Timestamp('2018-03-5'))\n",
    "predr_i"
   ]
  },
  {
   "cell_type": "code",
   "execution_count": 47,
   "metadata": {},
   "outputs": [
    {
     "data": {
      "text/plain": [
       "1267"
      ]
     },
     "execution_count": 47,
     "metadata": {},
     "output_type": "execute_result"
    }
   ],
   "source": [
    "predr_f = stock.index.get_loc(pd.Timestamp('2018-03-16'))\n",
    "predr_f"
   ]
  },
  {
   "cell_type": "code",
   "execution_count": 48,
   "metadata": {
    "scrolled": true
   },
   "outputs": [
    {
     "data": {
      "text/plain": [
       "DatetimeIndex(['2018-03-05', '2018-03-06', '2018-03-07', '2018-03-08',\n",
       "               '2018-03-09', '2018-03-12', '2018-03-13', '2018-03-14',\n",
       "               '2018-03-15', '2018-03-16'],\n",
       "              dtype='datetime64[ns]', name='Date', freq=None)"
      ]
     },
     "execution_count": 48,
     "metadata": {},
     "output_type": "execute_result"
    }
   ],
   "source": [
    "predr_index = stock.index[predr_i:predr_f+1]\n",
    "predr_index"
   ]
  },
  {
   "cell_type": "code",
   "execution_count": 49,
   "metadata": {},
   "outputs": [
    {
     "name": "stdout",
     "output_type": "stream",
     "text": [
      "Predicted values for 3/5-3/16: \n",
      "\n",
      "Date\n",
      "2018-03-05    298.21\n",
      "2018-03-06    300.18\n",
      "2018-03-07    302.22\n",
      "2018-03-08    298.40\n",
      "2018-03-09    293.89\n",
      "2018-03-12    295.08\n",
      "2018-03-13    294.35\n",
      "2018-03-14    290.78\n",
      "2018-03-15    286.48\n",
      "2018-03-16    298.37\n",
      "dtype: float64\n"
     ]
    }
   ],
   "source": [
    "stock_later = lm.predict(X_predict)\n",
    "Predicted_stock = pd.Series(stock_later, index=predr_index).round(2)\n",
    "print('Predicted values for 3/5-3/16: \\n') \n",
    "print(Predicted_stock)"
   ]
  },
  {
   "cell_type": "markdown",
   "metadata": {},
   "source": [
    "Actual values"
   ]
  },
  {
   "cell_type": "code",
   "execution_count": 50,
   "metadata": {
    "scrolled": true
   },
   "outputs": [
    {
     "name": "stdout",
     "output_type": "stream",
     "text": [
      "Date\n",
      "2018-03-05    299.6\n",
      "2018-03-06    298.6\n",
      "2018-03-07    304.0\n",
      "2018-03-08    295.0\n",
      "2018-03-09    292.0\n",
      "2018-03-12    295.4\n",
      "2018-03-13    293.0\n",
      "2018-03-14    288.4\n",
      "2018-03-15    284.0\n",
      "2018-03-16    305.4\n",
      "Name: Close, dtype: float64\n"
     ]
    }
   ],
   "source": [
    "Actual = pd.Series(stock['Close'].loc[predr_index])\n",
    "print(Actual)"
   ]
  },
  {
   "cell_type": "markdown",
   "metadata": {},
   "source": [
    "Create dataframe for comparison."
   ]
  },
  {
   "cell_type": "code",
   "execution_count": 51,
   "metadata": {
    "scrolled": true
   },
   "outputs": [
    {
     "data": {
      "text/html": [
       "<div>\n",
       "<style scoped>\n",
       "    .dataframe tbody tr th:only-of-type {\n",
       "        vertical-align: middle;\n",
       "    }\n",
       "\n",
       "    .dataframe tbody tr th {\n",
       "        vertical-align: top;\n",
       "    }\n",
       "\n",
       "    .dataframe thead th {\n",
       "        text-align: right;\n",
       "    }\n",
       "</style>\n",
       "<table border=\"1\" class=\"dataframe\">\n",
       "  <thead>\n",
       "    <tr style=\"text-align: right;\">\n",
       "      <th></th>\n",
       "      <th>Actual</th>\n",
       "      <th>Predicted</th>\n",
       "    </tr>\n",
       "    <tr>\n",
       "      <th>Date</th>\n",
       "      <th></th>\n",
       "      <th></th>\n",
       "    </tr>\n",
       "  </thead>\n",
       "  <tbody>\n",
       "    <tr>\n",
       "      <th>2018-03-05</th>\n",
       "      <td>299.6</td>\n",
       "      <td>298.21</td>\n",
       "    </tr>\n",
       "    <tr>\n",
       "      <th>2018-03-06</th>\n",
       "      <td>298.6</td>\n",
       "      <td>300.18</td>\n",
       "    </tr>\n",
       "    <tr>\n",
       "      <th>2018-03-07</th>\n",
       "      <td>304.0</td>\n",
       "      <td>302.22</td>\n",
       "    </tr>\n",
       "    <tr>\n",
       "      <th>2018-03-08</th>\n",
       "      <td>295.0</td>\n",
       "      <td>298.40</td>\n",
       "    </tr>\n",
       "    <tr>\n",
       "      <th>2018-03-09</th>\n",
       "      <td>292.0</td>\n",
       "      <td>293.89</td>\n",
       "    </tr>\n",
       "    <tr>\n",
       "      <th>2018-03-12</th>\n",
       "      <td>295.4</td>\n",
       "      <td>295.08</td>\n",
       "    </tr>\n",
       "    <tr>\n",
       "      <th>2018-03-13</th>\n",
       "      <td>293.0</td>\n",
       "      <td>294.35</td>\n",
       "    </tr>\n",
       "    <tr>\n",
       "      <th>2018-03-14</th>\n",
       "      <td>288.4</td>\n",
       "      <td>290.78</td>\n",
       "    </tr>\n",
       "    <tr>\n",
       "      <th>2018-03-15</th>\n",
       "      <td>284.0</td>\n",
       "      <td>286.48</td>\n",
       "    </tr>\n",
       "    <tr>\n",
       "      <th>2018-03-16</th>\n",
       "      <td>305.4</td>\n",
       "      <td>298.37</td>\n",
       "    </tr>\n",
       "  </tbody>\n",
       "</table>\n",
       "</div>"
      ],
      "text/plain": [
       "            Actual  Predicted\n",
       "Date                         \n",
       "2018-03-05   299.6     298.21\n",
       "2018-03-06   298.6     300.18\n",
       "2018-03-07   304.0     302.22\n",
       "2018-03-08   295.0     298.40\n",
       "2018-03-09   292.0     293.89\n",
       "2018-03-12   295.4     295.08\n",
       "2018-03-13   293.0     294.35\n",
       "2018-03-14   288.4     290.78\n",
       "2018-03-15   284.0     286.48\n",
       "2018-03-16   305.4     298.37"
      ]
     },
     "execution_count": 51,
     "metadata": {},
     "output_type": "execute_result"
    }
   ],
   "source": [
    "stock_c = pd.DataFrame({'Actual':Actual,'Predicted':Predicted_stock}).set_index(predr_index).round(2)\n",
    "stock_c"
   ]
  },
  {
   "cell_type": "markdown",
   "metadata": {},
   "source": [
    "## Part 1.2: Visualization "
   ]
  },
  {
   "cell_type": "code",
   "execution_count": 52,
   "metadata": {},
   "outputs": [],
   "source": [
    "pred_color='blue'"
   ]
  },
  {
   "cell_type": "code",
   "execution_count": 53,
   "metadata": {},
   "outputs": [],
   "source": [
    "actual_color='red'"
   ]
  },
  {
   "cell_type": "code",
   "execution_count": 54,
   "metadata": {},
   "outputs": [],
   "source": [
    "stock_name = 'JFC.PH'"
   ]
  },
  {
   "cell_type": "code",
   "execution_count": 56,
   "metadata": {},
   "outputs": [
    {
     "data": {
      "image/png": "[encoded data removed]",
      "text/plain": [
       "<matplotlib.figure.Figure at 0xe9dde73198>"
      ]
     },
     "metadata": {},
     "output_type": "display_data"
    }
   ],
   "source": [
    "plt.title(stock_name, fontsize=25)\n",
    "\n",
    "stock['Close'].plot(figsize=(24,6),legend=None, color=actual_color)\n",
    "\n",
    "plt.ylabel('Closing Price (₱)', fontsize=15)\n",
    "plt.xlabel('Date', fontsize=15)\n",
    "plt.xlim(xmin=stock.index[0], xmax=stock.index[-1])\n",
    "plt.xticks(ha='center')\n",
    "\n",
    "plt.tight_layout()"
   ]
  },
  {
   "cell_type": "markdown",
   "metadata": {},
   "source": [
    "Create linking. This will be used to link the line graphs of predicted and actual values."
   ]
  },
  {
   "cell_type": "code",
   "execution_count": 57,
   "metadata": {},
   "outputs": [
    {
     "data": {
      "text/plain": [
       "298.0"
      ]
     },
     "execution_count": 57,
     "metadata": {},
     "output_type": "execute_result"
    }
   ],
   "source": [
    "l_i = stock['Close'].loc[stockC.index[n-1]]\n",
    "l_i"
   ]
  },
  {
   "cell_type": "code",
   "execution_count": 58,
   "metadata": {},
   "outputs": [
    {
     "data": {
      "text/plain": [
       "298.21"
      ]
     },
     "execution_count": 58,
     "metadata": {},
     "output_type": "execute_result"
    }
   ],
   "source": [
    "l_f = stock_c['Predicted'][stock_c.index[0]]\n",
    "l_f"
   ]
  },
  {
   "cell_type": "code",
   "execution_count": 59,
   "metadata": {},
   "outputs": [
    {
     "data": {
      "text/plain": [
       "1257"
      ]
     },
     "execution_count": 59,
     "metadata": {},
     "output_type": "execute_result"
    }
   ],
   "source": [
    "link_i = stock.index.get_loc(pd.Timestamp('2018-03-02'))\n",
    "link_i"
   ]
  },
  {
   "cell_type": "code",
   "execution_count": 60,
   "metadata": {},
   "outputs": [
    {
     "data": {
      "text/plain": [
       "1258"
      ]
     },
     "execution_count": 60,
     "metadata": {},
     "output_type": "execute_result"
    }
   ],
   "source": [
    "link_f = stock.index.get_loc(pd.Timestamp('2018-03-05'))\n",
    "link_f"
   ]
  },
  {
   "cell_type": "code",
   "execution_count": 61,
   "metadata": {},
   "outputs": [
    {
     "data": {
      "text/plain": [
       "DatetimeIndex(['2018-03-02', '2018-03-05'], dtype='datetime64[ns]', name='Date', freq=None)"
      ]
     },
     "execution_count": 61,
     "metadata": {},
     "output_type": "execute_result"
    }
   ],
   "source": [
    "link_index = stock.index[link_i:link_f+1]\n",
    "link_index"
   ]
  },
  {
   "cell_type": "code",
   "execution_count": 62,
   "metadata": {
    "scrolled": true
   },
   "outputs": [
    {
     "data": {
      "text/html": [
       "<div>\n",
       "<style scoped>\n",
       "    .dataframe tbody tr th:only-of-type {\n",
       "        vertical-align: middle;\n",
       "    }\n",
       "\n",
       "    .dataframe tbody tr th {\n",
       "        vertical-align: top;\n",
       "    }\n",
       "\n",
       "    .dataframe thead th {\n",
       "        text-align: right;\n",
       "    }\n",
       "</style>\n",
       "<table border=\"1\" class=\"dataframe\">\n",
       "  <thead>\n",
       "    <tr style=\"text-align: right;\">\n",
       "      <th></th>\n",
       "      <th>Link</th>\n",
       "    </tr>\n",
       "    <tr>\n",
       "      <th>Date</th>\n",
       "      <th></th>\n",
       "    </tr>\n",
       "  </thead>\n",
       "  <tbody>\n",
       "    <tr>\n",
       "      <th>2018-03-02</th>\n",
       "      <td>298.00</td>\n",
       "    </tr>\n",
       "    <tr>\n",
       "      <th>2018-03-05</th>\n",
       "      <td>298.21</td>\n",
       "    </tr>\n",
       "  </tbody>\n",
       "</table>\n",
       "</div>"
      ],
      "text/plain": [
       "              Link\n",
       "Date              \n",
       "2018-03-02  298.00\n",
       "2018-03-05  298.21"
      ]
     },
     "execution_count": 62,
     "metadata": {},
     "output_type": "execute_result"
    }
   ],
   "source": [
    "stock_l = pd.DataFrame({'Link':[l_i,l_f]}, index=link_index)\n",
    "stock_l"
   ]
  },
  {
   "cell_type": "markdown",
   "metadata": {},
   "source": [
    "Combine stock_l and stock_c"
   ]
  },
  {
   "cell_type": "code",
   "execution_count": 63,
   "metadata": {},
   "outputs": [
    {
     "data": {
      "text/html": [
       "<div>\n",
       "<style scoped>\n",
       "    .dataframe tbody tr th:only-of-type {\n",
       "        vertical-align: middle;\n",
       "    }\n",
       "\n",
       "    .dataframe tbody tr th {\n",
       "        vertical-align: top;\n",
       "    }\n",
       "\n",
       "    .dataframe thead th {\n",
       "        text-align: right;\n",
       "    }\n",
       "</style>\n",
       "<table border=\"1\" class=\"dataframe\">\n",
       "  <thead>\n",
       "    <tr style=\"text-align: right;\">\n",
       "      <th></th>\n",
       "      <th>Predicted</th>\n",
       "    </tr>\n",
       "    <tr>\n",
       "      <th>Date</th>\n",
       "      <th></th>\n",
       "    </tr>\n",
       "  </thead>\n",
       "  <tbody>\n",
       "    <tr>\n",
       "      <th>2018-03-02</th>\n",
       "      <td>298.00</td>\n",
       "    </tr>\n",
       "    <tr>\n",
       "      <th>2018-03-05</th>\n",
       "      <td>298.21</td>\n",
       "    </tr>\n",
       "    <tr>\n",
       "      <th>2018-03-06</th>\n",
       "      <td>300.18</td>\n",
       "    </tr>\n",
       "    <tr>\n",
       "      <th>2018-03-07</th>\n",
       "      <td>302.22</td>\n",
       "    </tr>\n",
       "    <tr>\n",
       "      <th>2018-03-08</th>\n",
       "      <td>298.40</td>\n",
       "    </tr>\n",
       "    <tr>\n",
       "      <th>2018-03-09</th>\n",
       "      <td>293.89</td>\n",
       "    </tr>\n",
       "    <tr>\n",
       "      <th>2018-03-12</th>\n",
       "      <td>295.08</td>\n",
       "    </tr>\n",
       "    <tr>\n",
       "      <th>2018-03-13</th>\n",
       "      <td>294.35</td>\n",
       "    </tr>\n",
       "    <tr>\n",
       "      <th>2018-03-14</th>\n",
       "      <td>290.78</td>\n",
       "    </tr>\n",
       "    <tr>\n",
       "      <th>2018-03-15</th>\n",
       "      <td>286.48</td>\n",
       "    </tr>\n",
       "    <tr>\n",
       "      <th>2018-03-16</th>\n",
       "      <td>298.37</td>\n",
       "    </tr>\n",
       "  </tbody>\n",
       "</table>\n",
       "</div>"
      ],
      "text/plain": [
       "            Predicted\n",
       "Date                 \n",
       "2018-03-02     298.00\n",
       "2018-03-05     298.21\n",
       "2018-03-06     300.18\n",
       "2018-03-07     302.22\n",
       "2018-03-08     298.40\n",
       "2018-03-09     293.89\n",
       "2018-03-12     295.08\n",
       "2018-03-13     294.35\n",
       "2018-03-14     290.78\n",
       "2018-03-15     286.48\n",
       "2018-03-16     298.37"
      ]
     },
     "execution_count": 63,
     "metadata": {},
     "output_type": "execute_result"
    }
   ],
   "source": [
    "stock_future = pd.DataFrame({'Predicted':stock_l['Link'].combine_first(stock_c['Predicted'])})\n",
    "stock_future"
   ]
  },
  {
   "cell_type": "code",
   "execution_count": 64,
   "metadata": {},
   "outputs": [
    {
     "data": {
      "image/png": "[encoded data removed]",
      "text/plain": [
       "<matplotlib.figure.Figure at 0xe9df1f6be0>"
      ]
     },
     "metadata": {},
     "output_type": "display_data"
    }
   ],
   "source": [
    "plt.figure(figsize=(8,6))\n",
    "plt.title(stock_name + \": Actual vs. Predicted Closing Prices\", fontsize=20)\n",
    "\n",
    "stock['Close'].plot(label='Actual Price', legend=True, color=actual_color)\n",
    "stock_future['Predicted'].plot(label='Predicted Price', legend=True, color=pred_color)\n",
    "\n",
    "for i, txt in enumerate(stock_c['Predicted']):\n",
    "    plt.annotate(txt, (stock_c.index[i],stock_c['Predicted'][i]), \n",
    "                xytext=(stock_c.index[i],stock_c['Predicted'][i]-5),\n",
    "                horizontalalignment='center', verticalalignment='bottom',\n",
    "                arrowprops=dict(arrowstyle=\"-\",color=pred_color))\n",
    "    \n",
    "for i, txt in enumerate(stock_c['Actual']):\n",
    "    plt.annotate(txt, (stock_c.index[i],stock_c['Actual'][i]), \n",
    "                xytext=(stock_c.index[i],stock_c['Actual'][i]+5),\n",
    "                horizontalalignment='center', verticalalignment='top',\n",
    "                arrowprops=dict(arrowstyle=\"-\",color=actual_color))\n",
    "\n",
    "plt.scatter(stock_future.index,stock_future['Predicted'], s=15, color=pred_color)\n",
    "plt.scatter(stock_c.index,stock_c['Actual'], s=15, color=actual_color)\n",
    "\n",
    "plt.xlim('2018-03-01', '2018-03-17')\n",
    "plt.ylim(ymin=270,ymax=320)\n",
    "plt.xlabel('\\nDate', fontsize=20)\n",
    "plt.ylabel('Closing Price (₱)\\n', fontsize=20)\n",
    "plt.xticks(ha='center')\n",
    "\n",
    "plt.tight_layout()"
   ]
  },
  {
   "cell_type": "markdown",
   "metadata": {},
   "source": [
    "# Part 2: Predict JFC stocks from 3/19/18 to 3/23/18."
   ]
  },
  {
   "cell_type": "code",
   "execution_count": 65,
   "metadata": {},
   "outputs": [
    {
     "data": {
      "text/html": [
       "<div>\n",
       "<style scoped>\n",
       "    .dataframe tbody tr th:only-of-type {\n",
       "        vertical-align: middle;\n",
       "    }\n",
       "\n",
       "    .dataframe tbody tr th {\n",
       "        vertical-align: top;\n",
       "    }\n",
       "\n",
       "    .dataframe thead th {\n",
       "        text-align: right;\n",
       "    }\n",
       "</style>\n",
       "<table border=\"1\" class=\"dataframe\">\n",
       "  <thead>\n",
       "    <tr style=\"text-align: right;\">\n",
       "      <th></th>\n",
       "      <th>Open</th>\n",
       "      <th>High</th>\n",
       "      <th>Low</th>\n",
       "      <th>Close</th>\n",
       "      <th>Volume</th>\n",
       "    </tr>\n",
       "    <tr>\n",
       "      <th>Date</th>\n",
       "      <th></th>\n",
       "      <th></th>\n",
       "      <th></th>\n",
       "      <th></th>\n",
       "      <th></th>\n",
       "    </tr>\n",
       "  </thead>\n",
       "  <tbody>\n",
       "    <tr>\n",
       "      <th>2013-01-02</th>\n",
       "      <td>102.0</td>\n",
       "      <td>104.5</td>\n",
       "      <td>102.0</td>\n",
       "      <td>104.2</td>\n",
       "      <td>125900</td>\n",
       "    </tr>\n",
       "    <tr>\n",
       "      <th>2013-01-03</th>\n",
       "      <td>104.8</td>\n",
       "      <td>107.5</td>\n",
       "      <td>104.8</td>\n",
       "      <td>107.2</td>\n",
       "      <td>684290</td>\n",
       "    </tr>\n",
       "    <tr>\n",
       "      <th>2013-01-04</th>\n",
       "      <td>107.0</td>\n",
       "      <td>107.6</td>\n",
       "      <td>107.0</td>\n",
       "      <td>107.6</td>\n",
       "      <td>548040</td>\n",
       "    </tr>\n",
       "    <tr>\n",
       "      <th>2013-01-07</th>\n",
       "      <td>107.5</td>\n",
       "      <td>107.5</td>\n",
       "      <td>106.7</td>\n",
       "      <td>107.0</td>\n",
       "      <td>719780</td>\n",
       "    </tr>\n",
       "    <tr>\n",
       "      <th>2013-01-08</th>\n",
       "      <td>107.1</td>\n",
       "      <td>107.7</td>\n",
       "      <td>107.1</td>\n",
       "      <td>107.3</td>\n",
       "      <td>389530</td>\n",
       "    </tr>\n",
       "  </tbody>\n",
       "</table>\n",
       "</div>"
      ],
      "text/plain": [
       "             Open   High    Low  Close  Volume\n",
       "Date                                          \n",
       "2013-01-02  102.0  104.5  102.0  104.2  125900\n",
       "2013-01-03  104.8  107.5  104.8  107.2  684290\n",
       "2013-01-04  107.0  107.6  107.0  107.6  548040\n",
       "2013-01-07  107.5  107.5  106.7  107.0  719780\n",
       "2013-01-08  107.1  107.7  107.1  107.3  389530"
      ]
     },
     "execution_count": 65,
     "metadata": {},
     "output_type": "execute_result"
    }
   ],
   "source": [
    "stock.head()"
   ]
  },
  {
   "cell_type": "code",
   "execution_count": 66,
   "metadata": {},
   "outputs": [
    {
     "data": {
      "text/html": [
       "<div>\n",
       "<style scoped>\n",
       "    .dataframe tbody tr th:only-of-type {\n",
       "        vertical-align: middle;\n",
       "    }\n",
       "\n",
       "    .dataframe tbody tr th {\n",
       "        vertical-align: top;\n",
       "    }\n",
       "\n",
       "    .dataframe thead th {\n",
       "        text-align: right;\n",
       "    }\n",
       "</style>\n",
       "<table border=\"1\" class=\"dataframe\">\n",
       "  <thead>\n",
       "    <tr style=\"text-align: right;\">\n",
       "      <th></th>\n",
       "      <th>Open</th>\n",
       "      <th>High</th>\n",
       "      <th>Low</th>\n",
       "      <th>Close</th>\n",
       "      <th>Volume</th>\n",
       "    </tr>\n",
       "    <tr>\n",
       "      <th>Date</th>\n",
       "      <th></th>\n",
       "      <th></th>\n",
       "      <th></th>\n",
       "      <th></th>\n",
       "      <th></th>\n",
       "    </tr>\n",
       "  </thead>\n",
       "  <tbody>\n",
       "    <tr>\n",
       "      <th>2018-03-12</th>\n",
       "      <td>296.0</td>\n",
       "      <td>299.0</td>\n",
       "      <td>292.2</td>\n",
       "      <td>295.4</td>\n",
       "      <td>303520</td>\n",
       "    </tr>\n",
       "    <tr>\n",
       "      <th>2018-03-13</th>\n",
       "      <td>296.0</td>\n",
       "      <td>297.0</td>\n",
       "      <td>292.4</td>\n",
       "      <td>293.0</td>\n",
       "      <td>557650</td>\n",
       "    </tr>\n",
       "    <tr>\n",
       "      <th>2018-03-14</th>\n",
       "      <td>293.0</td>\n",
       "      <td>294.4</td>\n",
       "      <td>287.4</td>\n",
       "      <td>288.4</td>\n",
       "      <td>757340</td>\n",
       "    </tr>\n",
       "    <tr>\n",
       "      <th>2018-03-15</th>\n",
       "      <td>288.4</td>\n",
       "      <td>288.6</td>\n",
       "      <td>282.6</td>\n",
       "      <td>284.0</td>\n",
       "      <td>1140780</td>\n",
       "    </tr>\n",
       "    <tr>\n",
       "      <th>2018-03-16</th>\n",
       "      <td>286.8</td>\n",
       "      <td>305.4</td>\n",
       "      <td>286.8</td>\n",
       "      <td>305.4</td>\n",
       "      <td>2052470</td>\n",
       "    </tr>\n",
       "  </tbody>\n",
       "</table>\n",
       "</div>"
      ],
      "text/plain": [
       "             Open   High    Low  Close   Volume\n",
       "Date                                           \n",
       "2018-03-12  296.0  299.0  292.2  295.4   303520\n",
       "2018-03-13  296.0  297.0  292.4  293.0   557650\n",
       "2018-03-14  293.0  294.4  287.4  288.4   757340\n",
       "2018-03-15  288.4  288.6  282.6  284.0  1140780\n",
       "2018-03-16  286.8  305.4  286.8  305.4  2052470"
      ]
     },
     "execution_count": 66,
     "metadata": {},
     "output_type": "execute_result"
    }
   ],
   "source": [
    "stock.tail()"
   ]
  },
  {
   "cell_type": "code",
   "execution_count": 67,
   "metadata": {},
   "outputs": [
    {
     "data": {
      "text/html": [
       "<div>\n",
       "<style scoped>\n",
       "    .dataframe tbody tr th:only-of-type {\n",
       "        vertical-align: middle;\n",
       "    }\n",
       "\n",
       "    .dataframe tbody tr th {\n",
       "        vertical-align: top;\n",
       "    }\n",
       "\n",
       "    .dataframe thead th {\n",
       "        text-align: right;\n",
       "    }\n",
       "</style>\n",
       "<table border=\"1\" class=\"dataframe\">\n",
       "  <thead>\n",
       "    <tr style=\"text-align: right;\">\n",
       "      <th></th>\n",
       "      <th>Open</th>\n",
       "      <th>High</th>\n",
       "      <th>Low</th>\n",
       "      <th>Close</th>\n",
       "      <th>Volume</th>\n",
       "      <th>Prediction</th>\n",
       "    </tr>\n",
       "    <tr>\n",
       "      <th>Date</th>\n",
       "      <th></th>\n",
       "      <th></th>\n",
       "      <th></th>\n",
       "      <th></th>\n",
       "      <th></th>\n",
       "      <th></th>\n",
       "    </tr>\n",
       "  </thead>\n",
       "  <tbody>\n",
       "    <tr>\n",
       "      <th>2018-03-05</th>\n",
       "      <td>299.0</td>\n",
       "      <td>300.0</td>\n",
       "      <td>296.0</td>\n",
       "      <td>299.6</td>\n",
       "      <td>388840</td>\n",
       "      <td>295.4</td>\n",
       "    </tr>\n",
       "    <tr>\n",
       "      <th>2018-03-06</th>\n",
       "      <td>300.0</td>\n",
       "      <td>304.0</td>\n",
       "      <td>297.8</td>\n",
       "      <td>298.6</td>\n",
       "      <td>833460</td>\n",
       "      <td>293.0</td>\n",
       "    </tr>\n",
       "    <tr>\n",
       "      <th>2018-03-07</th>\n",
       "      <td>300.0</td>\n",
       "      <td>304.0</td>\n",
       "      <td>299.8</td>\n",
       "      <td>304.0</td>\n",
       "      <td>853340</td>\n",
       "      <td>288.4</td>\n",
       "    </tr>\n",
       "    <tr>\n",
       "      <th>2018-03-08</th>\n",
       "      <td>303.0</td>\n",
       "      <td>304.0</td>\n",
       "      <td>295.0</td>\n",
       "      <td>295.0</td>\n",
       "      <td>367970</td>\n",
       "      <td>284.0</td>\n",
       "    </tr>\n",
       "    <tr>\n",
       "      <th>2018-03-09</th>\n",
       "      <td>297.0</td>\n",
       "      <td>297.0</td>\n",
       "      <td>292.0</td>\n",
       "      <td>292.0</td>\n",
       "      <td>352590</td>\n",
       "      <td>305.4</td>\n",
       "    </tr>\n",
       "    <tr>\n",
       "      <th>2018-03-12</th>\n",
       "      <td>296.0</td>\n",
       "      <td>299.0</td>\n",
       "      <td>292.2</td>\n",
       "      <td>295.4</td>\n",
       "      <td>303520</td>\n",
       "      <td>NaN</td>\n",
       "    </tr>\n",
       "    <tr>\n",
       "      <th>2018-03-13</th>\n",
       "      <td>296.0</td>\n",
       "      <td>297.0</td>\n",
       "      <td>292.4</td>\n",
       "      <td>293.0</td>\n",
       "      <td>557650</td>\n",
       "      <td>NaN</td>\n",
       "    </tr>\n",
       "    <tr>\n",
       "      <th>2018-03-14</th>\n",
       "      <td>293.0</td>\n",
       "      <td>294.4</td>\n",
       "      <td>287.4</td>\n",
       "      <td>288.4</td>\n",
       "      <td>757340</td>\n",
       "      <td>NaN</td>\n",
       "    </tr>\n",
       "    <tr>\n",
       "      <th>2018-03-15</th>\n",
       "      <td>288.4</td>\n",
       "      <td>288.6</td>\n",
       "      <td>282.6</td>\n",
       "      <td>284.0</td>\n",
       "      <td>1140780</td>\n",
       "      <td>NaN</td>\n",
       "    </tr>\n",
       "    <tr>\n",
       "      <th>2018-03-16</th>\n",
       "      <td>286.8</td>\n",
       "      <td>305.4</td>\n",
       "      <td>286.8</td>\n",
       "      <td>305.4</td>\n",
       "      <td>2052470</td>\n",
       "      <td>NaN</td>\n",
       "    </tr>\n",
       "  </tbody>\n",
       "</table>\n",
       "</div>"
      ],
      "text/plain": [
       "             Open   High    Low  Close   Volume  Prediction\n",
       "Date                                                       \n",
       "2018-03-05  299.0  300.0  296.0  299.6   388840       295.4\n",
       "2018-03-06  300.0  304.0  297.8  298.6   833460       293.0\n",
       "2018-03-07  300.0  304.0  299.8  304.0   853340       288.4\n",
       "2018-03-08  303.0  304.0  295.0  295.0   367970       284.0\n",
       "2018-03-09  297.0  297.0  292.0  292.0   352590       305.4\n",
       "2018-03-12  296.0  299.0  292.2  295.4   303520         NaN\n",
       "2018-03-13  296.0  297.0  292.4  293.0   557650         NaN\n",
       "2018-03-14  293.0  294.4  287.4  288.4   757340         NaN\n",
       "2018-03-15  288.4  288.6  282.6  284.0  1140780         NaN\n",
       "2018-03-16  286.8  305.4  286.8  305.4  2052470         NaN"
      ]
     },
     "execution_count": 67,
     "metadata": {},
     "output_type": "execute_result"
    }
   ],
   "source": [
    "n=-5\n",
    "stock['Prediction'] = stock['Close'].shift(n)\n",
    "stock.tail(10)"
   ]
  },
  {
   "cell_type": "code",
   "execution_count": 68,
   "metadata": {},
   "outputs": [
    {
     "data": {
      "text/plain": [
       "1268"
      ]
     },
     "execution_count": 68,
     "metadata": {},
     "output_type": "execute_result"
    }
   ],
   "source": [
    "len(stock)"
   ]
  },
  {
   "cell_type": "code",
   "execution_count": 69,
   "metadata": {},
   "outputs": [],
   "source": [
    "X = preprocessing.scale(stock.drop(['Prediction'], axis=1))"
   ]
  },
  {
   "cell_type": "code",
   "execution_count": 70,
   "metadata": {},
   "outputs": [],
   "source": [
    "X_predict = X[n:]\n",
    "X = X[:n]"
   ]
  },
  {
   "cell_type": "code",
   "execution_count": 71,
   "metadata": {},
   "outputs": [],
   "source": [
    "y = stock['Prediction'][:n]"
   ]
  },
  {
   "cell_type": "code",
   "execution_count": 72,
   "metadata": {},
   "outputs": [
    {
     "data": {
      "text/plain": [
       "1263"
      ]
     },
     "execution_count": 72,
     "metadata": {},
     "output_type": "execute_result"
    }
   ],
   "source": [
    "len(X)"
   ]
  },
  {
   "cell_type": "code",
   "execution_count": 73,
   "metadata": {},
   "outputs": [],
   "source": [
    "X_train, X_test, y_train, y_test = train_test_split(X, y, test_size=(0.2))"
   ]
  },
  {
   "cell_type": "code",
   "execution_count": 74,
   "metadata": {},
   "outputs": [
    {
     "data": {
      "text/plain": [
       "SVR(C=1, cache_size=200, coef0=0.0, degree=3, epsilon=0.1, gamma='auto',\n",
       "  kernel='linear', max_iter=-1, shrinking=True, tol=0.001, verbose=False)"
      ]
     },
     "execution_count": 74,
     "metadata": {},
     "output_type": "execute_result"
    }
   ],
   "source": [
    "lm.fit(X_train, y_train)"
   ]
  },
  {
   "cell_type": "code",
   "execution_count": 76,
   "metadata": {},
   "outputs": [
    {
     "name": "stdout",
     "output_type": "stream",
     "text": [
      "Accuracy: 97.06545333489514%\n"
     ]
    }
   ],
   "source": [
    "accuracy = lm.score(X_test, y_test)\n",
    "print('Accuracy: '+str(accuracy*100)+'%')"
   ]
  },
  {
   "cell_type": "markdown",
   "metadata": {},
   "source": [
    "### Cross Validation "
   ]
  },
  {
   "cell_type": "code",
   "execution_count": 77,
   "metadata": {},
   "outputs": [
    {
     "data": {
      "text/plain": [
       "array([0.94368836, 0.89748678, 0.72034443, 0.82092377, 0.93822865])"
      ]
     },
     "execution_count": 77,
     "metadata": {},
     "output_type": "execute_result"
    }
   ],
   "source": [
    "lm = SVR(kernel='linear', C=1)\n",
    "scores = cross_val_score(lm, X, y, cv=5)\n",
    "scores #score for each split"
   ]
  },
  {
   "cell_type": "code",
   "execution_count": 78,
   "metadata": {},
   "outputs": [
    {
     "name": "stdout",
     "output_type": "stream",
     "text": [
      "Accuracy: 0.86 (+/- 0.17)\n"
     ]
    }
   ],
   "source": [
    "print(\"Accuracy: %0.2f (+/- %0.2f)\" % (scores.mean(), scores.std() * 2))"
   ]
  },
  {
   "cell_type": "code",
   "execution_count": 80,
   "metadata": {},
   "outputs": [
    {
     "name": "stdout",
     "output_type": "stream",
     "text": [
      "Accuracy: 97.06545333489514%\n"
     ]
    }
   ],
   "source": [
    "lm.fit(X_train, y_train)\n",
    "accuracy = lm.score(X_test, y_test)\n",
    "print('Accuracy: '+str(accuracy*100)+'%')"
   ]
  },
  {
   "cell_type": "markdown",
   "metadata": {},
   "source": [
    "### Predictions "
   ]
  },
  {
   "cell_type": "code",
   "execution_count": 81,
   "metadata": {},
   "outputs": [],
   "source": [
    "predictions = lm.predict(X_test)"
   ]
  },
  {
   "cell_type": "code",
   "execution_count": 82,
   "metadata": {},
   "outputs": [
    {
     "data": {
      "image/png": "[encoded data removed]",
      "text/plain": [
       "<matplotlib.figure.Figure at 0xe9de7bd6a0>"
      ]
     },
     "metadata": {},
     "output_type": "display_data"
    }
   ],
   "source": [
    "plt.scatter(y_test,predictions)\n",
    "plt.title('Accuracy: '+str((accuracy*100).round(2))+'%')\n",
    "plt.xlabel('Y Test')\n",
    "plt.ylabel('Predicted Y')\n",
    "sns.set_style('whitegrid')"
   ]
  },
  {
   "cell_type": "code",
   "execution_count": 83,
   "metadata": {},
   "outputs": [
    {
     "data": {
      "text/plain": [
       "<matplotlib.axes._subplots.AxesSubplot at 0xe9db6daf98>"
      ]
     },
     "execution_count": 83,
     "metadata": {},
     "output_type": "execute_result"
    },
    {
     "data": {
      "image/png": "[encoded data removed]",
      "text/plain": [
       "<matplotlib.figure.Figure at 0xe9de8dc9e8>"
      ]
     },
     "metadata": {},
     "output_type": "display_data"
    }
   ],
   "source": [
    "sns.distplot((y_test-predictions),bins=50)"
   ]
  },
  {
   "cell_type": "code",
   "execution_count": 84,
   "metadata": {
    "scrolled": true
   },
   "outputs": [
    {
     "data": {
      "text/html": [
       "<div>\n",
       "<style scoped>\n",
       "    .dataframe tbody tr th:only-of-type {\n",
       "        vertical-align: middle;\n",
       "    }\n",
       "\n",
       "    .dataframe tbody tr th {\n",
       "        vertical-align: top;\n",
       "    }\n",
       "\n",
       "    .dataframe thead th {\n",
       "        text-align: right;\n",
       "    }\n",
       "</style>\n",
       "<table border=\"1\" class=\"dataframe\">\n",
       "  <thead>\n",
       "    <tr style=\"text-align: right;\">\n",
       "      <th></th>\n",
       "      <th>Predicted</th>\n",
       "    </tr>\n",
       "  </thead>\n",
       "  <tbody>\n",
       "    <tr>\n",
       "      <th>2018-03-19</th>\n",
       "      <td>294.51</td>\n",
       "    </tr>\n",
       "    <tr>\n",
       "      <th>2018-03-20</th>\n",
       "      <td>293.92</td>\n",
       "    </tr>\n",
       "    <tr>\n",
       "      <th>2018-03-21</th>\n",
       "      <td>290.52</td>\n",
       "    </tr>\n",
       "    <tr>\n",
       "      <th>2018-03-22</th>\n",
       "      <td>286.44</td>\n",
       "    </tr>\n",
       "    <tr>\n",
       "      <th>2018-03-23</th>\n",
       "      <td>299.22</td>\n",
       "    </tr>\n",
       "  </tbody>\n",
       "</table>\n",
       "</div>"
      ],
      "text/plain": [
       "            Predicted\n",
       "2018-03-19     294.51\n",
       "2018-03-20     293.92\n",
       "2018-03-21     290.52\n",
       "2018-03-22     286.44\n",
       "2018-03-23     299.22"
      ]
     },
     "execution_count": 84,
     "metadata": {},
     "output_type": "execute_result"
    }
   ],
   "source": [
    "stock_later = lm.predict(X_predict)\n",
    "\n",
    "days = pd.DatetimeIndex(pd.date_range(datetime(2018, 3, 19), datetime(2018, 3, 19) + timedelta(4), freq='D'))\n",
    "stock_future = pd.Series(stock_later, index=days)\n",
    "stock_future = pd.DataFrame({'Predicted':stock_future}).set_index(days).round(2)\n",
    "stock_future"
   ]
  },
  {
   "cell_type": "code",
   "execution_count": 85,
   "metadata": {},
   "outputs": [
    {
     "data": {
      "text/plain": [
       "305.4"
      ]
     },
     "execution_count": 85,
     "metadata": {},
     "output_type": "execute_result"
    }
   ],
   "source": [
    "L_i = stock['Close'].loc['2018-03-16']\n",
    "L_i"
   ]
  },
  {
   "cell_type": "code",
   "execution_count": 86,
   "metadata": {},
   "outputs": [
    {
     "data": {
      "text/plain": [
       "294.51"
      ]
     },
     "execution_count": 86,
     "metadata": {},
     "output_type": "execute_result"
    }
   ],
   "source": [
    "L_f = stock_future['Predicted'].loc['2018-03-19']\n",
    "L_f"
   ]
  },
  {
   "cell_type": "code",
   "execution_count": 87,
   "metadata": {},
   "outputs": [
    {
     "data": {
      "text/html": [
       "<div>\n",
       "<style scoped>\n",
       "    .dataframe tbody tr th:only-of-type {\n",
       "        vertical-align: middle;\n",
       "    }\n",
       "\n",
       "    .dataframe tbody tr th {\n",
       "        vertical-align: top;\n",
       "    }\n",
       "\n",
       "    .dataframe thead th {\n",
       "        text-align: right;\n",
       "    }\n",
       "</style>\n",
       "<table border=\"1\" class=\"dataframe\">\n",
       "  <thead>\n",
       "    <tr style=\"text-align: right;\">\n",
       "      <th></th>\n",
       "      <th>Predicted</th>\n",
       "    </tr>\n",
       "  </thead>\n",
       "  <tbody>\n",
       "    <tr>\n",
       "      <th>2018-03-16</th>\n",
       "      <td>305.40</td>\n",
       "    </tr>\n",
       "    <tr>\n",
       "      <th>2018-03-19</th>\n",
       "      <td>294.51</td>\n",
       "    </tr>\n",
       "  </tbody>\n",
       "</table>\n",
       "</div>"
      ],
      "text/plain": [
       "            Predicted\n",
       "2018-03-16     305.40\n",
       "2018-03-19     294.51"
      ]
     },
     "execution_count": 87,
     "metadata": {},
     "output_type": "execute_result"
    }
   ],
   "source": [
    "Linkdays = pd.DatetimeIndex(pd.date_range(datetime(2018, 3, 16), periods=2, freq=\"3D\"))\n",
    "Linkdays\n",
    "stock_link = pd.DataFrame({'Predicted':[L_i,L_f]}, index=Linkdays)\n",
    "stock_link"
   ]
  },
  {
   "cell_type": "code",
   "execution_count": 88,
   "metadata": {},
   "outputs": [
    {
     "data": {
      "text/html": [
       "<div>\n",
       "<style scoped>\n",
       "    .dataframe tbody tr th:only-of-type {\n",
       "        vertical-align: middle;\n",
       "    }\n",
       "\n",
       "    .dataframe tbody tr th {\n",
       "        vertical-align: top;\n",
       "    }\n",
       "\n",
       "    .dataframe thead th {\n",
       "        text-align: right;\n",
       "    }\n",
       "</style>\n",
       "<table border=\"1\" class=\"dataframe\">\n",
       "  <thead>\n",
       "    <tr style=\"text-align: right;\">\n",
       "      <th></th>\n",
       "      <th>Predicted</th>\n",
       "    </tr>\n",
       "  </thead>\n",
       "  <tbody>\n",
       "    <tr>\n",
       "      <th>2018-03-16</th>\n",
       "      <td>305.40</td>\n",
       "    </tr>\n",
       "    <tr>\n",
       "      <th>2018-03-19</th>\n",
       "      <td>294.51</td>\n",
       "    </tr>\n",
       "    <tr>\n",
       "      <th>2018-03-20</th>\n",
       "      <td>293.92</td>\n",
       "    </tr>\n",
       "    <tr>\n",
       "      <th>2018-03-21</th>\n",
       "      <td>290.52</td>\n",
       "    </tr>\n",
       "    <tr>\n",
       "      <th>2018-03-22</th>\n",
       "      <td>286.44</td>\n",
       "    </tr>\n",
       "    <tr>\n",
       "      <th>2018-03-23</th>\n",
       "      <td>299.22</td>\n",
       "    </tr>\n",
       "  </tbody>\n",
       "</table>\n",
       "</div>"
      ],
      "text/plain": [
       "            Predicted\n",
       "2018-03-16     305.40\n",
       "2018-03-19     294.51\n",
       "2018-03-20     293.92\n",
       "2018-03-21     290.52\n",
       "2018-03-22     286.44\n",
       "2018-03-23     299.22"
      ]
     },
     "execution_count": 88,
     "metadata": {},
     "output_type": "execute_result"
    }
   ],
   "source": [
    "stock_Future = stock_link.combine_first(stock_future)\n",
    "stock_Future"
   ]
  },
  {
   "cell_type": "code",
   "execution_count": 89,
   "metadata": {},
   "outputs": [
    {
     "data": {
      "image/png": "[encoded data removed]",
      "text/plain": [
       "<matplotlib.figure.Figure at 0xe9db7c9828>"
      ]
     },
     "metadata": {},
     "output_type": "display_data"
    }
   ],
   "source": [
    "plt.figure(figsize=(20,6))\n",
    "plt.title(stock_name, fontsize=25)\n",
    "\n",
    "stock['Close'].plot(label='Actual Values', color=actual_color)\n",
    "stock_Future['Predicted'].plot(label='Predicted Values', color=pred_color)\n",
    "\n",
    "\n",
    "plt.legend()\n",
    "plt.ylabel('Closing Price (₱)', fontsize=15)\n",
    "plt.xlabel('Date', fontsize=15)\n",
    "plt.xlim(xmin=stock.index[0],xmax=stock_Future.index[-1])\n",
    "plt.xticks(ha='center')\n",
    "\n",
    "plt.tight_layout()"
   ]
  },
  {
   "cell_type": "code",
   "execution_count": 90,
   "metadata": {},
   "outputs": [
    {
     "data": {
      "image/png": "[encoded data removed]",
      "text/plain": [
       "<matplotlib.figure.Figure at 0xe9db7ee780>"
      ]
     },
     "metadata": {},
     "output_type": "display_data"
    }
   ],
   "source": [
    "plt.figure(figsize=(12,6))\n",
    "plt.title(stock_name, fontsize=25)\n",
    "\n",
    "stock['Close'].plot(label='Actual Values', color=actual_color)\n",
    "stock_Future['Predicted'].plot(label='Predicted Values', color=pred_color)\n",
    "\n",
    "\n",
    "plt.legend()\n",
    "plt.ylabel('Closing Price (₱)', fontsize=15)\n",
    "plt.xlabel('Date', fontsize=15)\n",
    "plt.xlim(xmin=stock.index[-30], xmax=stock_Future.index[-1])\n",
    "plt.xticks(ha='center')\n",
    "\n",
    "plt.tight_layout()"
   ]
  },
  {
   "cell_type": "code",
   "execution_count": 91,
   "metadata": {},
   "outputs": [
    {
     "data": {
      "image/png": "[encoded data removed]",
      "text/plain": [
       "<matplotlib.figure.Figure at 0xe9df432080>"
      ]
     },
     "metadata": {},
     "output_type": "display_data"
    }
   ],
   "source": [
    "plt.figure(figsize=(8,6))\n",
    "plt.title(stock_name, fontsize=25)\n",
    "\n",
    "stock['Close'].plot(label='Actual Values', color=actual_color)\n",
    "stock_Future['Predicted'].plot(label='Predicted Values', color=pred_color)\n",
    "\n",
    "\n",
    "plt.legend()\n",
    "plt.ylabel('Closing Price (₱)', fontsize=15)\n",
    "plt.xlabel('Date', fontsize=15)\n",
    "plt.xlim(xmin=stock.index[-19], xmax=stock_Future.index[-1])\n",
    "plt.xticks(ha='center')\n",
    "\n",
    "plt.tight_layout()"
   ]
  },
  {
   "cell_type": "code",
   "execution_count": 92,
   "metadata": {
    "scrolled": true
   },
   "outputs": [
    {
     "data": {
      "image/png": "[encoded data removed]",
      "text/plain": [
       "<matplotlib.figure.Figure at 0xe9df4ca898>"
      ]
     },
     "metadata": {},
     "output_type": "display_data"
    }
   ],
   "source": [
    "plt.figure(figsize=(8,4))\n",
    "plt.title(stock_name+': Predicted Closing Prices from 3/19/2018 to 3/23/2018', fontsize=15)\n",
    "\n",
    "stock['Close'].plot(label='Actual Price', color=actual_color, legend=True)\n",
    "stock_Future['Predicted'].plot(label='Predicted Price', color=pred_color, legend=True)\n",
    "\n",
    "for i, txt in enumerate(stock_future['Predicted']):\n",
    "    plt.annotate(txt, (stock_future.index[i],stock_future['Predicted'][i]), \n",
    "                xytext=(stock_future.index[i],stock_future['Predicted'][i]+3),\n",
    "                horizontalalignment='center', verticalalignment='bottom')\n",
    "                #arrowprops=dict(arrowstyle=\"-\",color=pred_color))\n",
    "    \n",
    "for i, txt in enumerate(stock_c['Actual']):\n",
    "    plt.annotate(txt, (stock_c.index[i],stock_c['Actual'][i]), \n",
    "                xytext=(stock_c.index[i],stock_c['Actual'][i]-6),\n",
    "                horizontalalignment='center', verticalalignment='bottom')\n",
    "                #arrowprops=dict(arrowstyle=\"-\",color=actual_color))\n",
    "\n",
    "plt.scatter(stock_c.index,stock_c['Actual'], s=15, color =actual_color)   \n",
    "plt.scatter(stock_Future.index,stock_Future['Predicted'], s=15, color=pred_color)  \n",
    "\n",
    "plt.ylabel('Closing Price (₱)', fontsize=15)\n",
    "plt.xlabel('Date', fontsize=15)\n",
    "plt.xlim('2018-03-04', '2018-03-25')\n",
    "plt.ylim(ymin=270, ymax=320)\n",
    "plt.xticks(ha='center')\n",
    "\n",
    "plt.tight_layout()"
   ]
  },
  {
   "cell_type": "code",
   "execution_count": null,
   "metadata": {},
   "outputs": [],
   "source": []
  }
 ],
 "metadata": {
  "kernelspec": {
   "display_name": "Python 3",
   "language": "python",
   "name": "python3"
  },
  "language_info": {
   "codemirror_mode": {
    "name": "ipython",
    "version": 3
   },
   "file_extension": ".py",
   "mimetype": "text/x-python",
   "name": "python",
   "nbconvert_exporter": "python",
   "pygments_lexer": "ipython3",
   "version": "3.6.4"
  }
 },
 "nbformat": 4,
 "nbformat_minor": 2
}
